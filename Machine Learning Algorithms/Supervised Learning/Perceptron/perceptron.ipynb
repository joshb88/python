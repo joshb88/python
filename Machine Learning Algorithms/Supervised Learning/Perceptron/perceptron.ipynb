{
 "cells": [
  {
   "cell_type": "markdown",
   "metadata": {},
   "source": [
    "# Perceptron\n",
    "\n",
    "Perception is one of the earliest forms of Artificial Neural Networks. Developed in 1957, by Frank Rosenblatt, the Perceptron is very simple (compared to more current concepts). It uses a *threshold logic unit* (TLU). This artificial neuron takes has numerical inputs and outputs (instead of binary) and each input connection is assosciated with a weight. The TLU computes a weighted sum of its inputs   \n",
    "($z = w_1x_1 + w_2x_2 + ... + w_{n}x_{n} = x^Tw$), then applies a *step function* to that sum and outputs the result:  \n",
    "$h_w(x) = step(z)$, where $z = x^Tw$.\n",
    "\n",
    "![Threshold Logic Unit](image.png)  \n",
    "*Threshold Logic Unit*\n",
    "\n",
    "The most common step function used in Perceptrons is the *Heaviside step function*, but sometimes the sign function is also used.\n",
    "$$\n",
    "\\begin{equation*}\n",
    "\\text{heaviside} (z) =\n",
    "\\begin{cases}\n",
    "    0 \\ \\text{if} \\ z \\lt 0\\\\\n",
    "    1 \\ \\text{if} \\ z \\geq 0\n",
    "\\end{cases} \\quad\n",
    "\\text{sgn} (z) =\n",
    "\\begin{cases}\n",
    "    &{-1} \\ &\\text{if} \\ z \\lt 0\\\\\n",
    "    & 0 \\ &\\text{if} \\ z = 0\\\\\n",
    "    &+1 \\ &\\text{if} \\ z \\gt 0\n",
    "\\end{cases}\n",
    "\\end{equation*}\n",
    "$$\n",
    "Training the TLU in this case means finding the right values for $\\bm{w}$.\n",
    "\n",
    "![Perceptron Diagram](image-1.png)"
   ]
  },
  {
   "cell_type": "markdown",
   "metadata": {},
   "source": [
    "## Mathematical Underpinning\n",
    "\n",
    "**In the description of the process and the practical examples below, we will assume $x \\in \\mathbb{R}^2$ and utilize the activation function of $\\text{sign}(z)$. Furthermore, this is a single-layer perceptron which can only separate data into 2 distinct classes.**\n",
    "\n",
    "The pre-activation process begins (initially) by arbitrarily setting the weights (to a zero vector $\\overline{0}$ for example); in each progressive step, the weights will be updated and used. Next, take the linear combination of the weights, $\\overline{w}$ (inlcuding an extra element $w_0$ to represent the bias $b$) and the corresponding feature values $\\overline{x}$ (including an extra column of 1 to account for the bias $b$). This will provide $z$ which we can then apply to our activation function, e.g. $\\text{sign}(z)$ or $\\text{heaviside}(z)$:\n",
    "\n",
    "\\begin{equation*}\n",
    "    z = \\overline{w}^T\\overline{x}^{(i)}\n",
    "\\end{equation*}\n",
    "\n",
    "Next, the prediction is made based on the value of $z$. It can be 1 of 3 outcomes:\n",
    "\n",
    "$$\\begin{align*}\n",
    "    {-1}& \\ &\\text{if} \\ z \\lt 0\\\\\n",
    "    0& \\ &\\text{if} \\ z = 0\\\\\n",
    "    +1& \\ &\\text{if} \\ z \\gt 0\n",
    "\\end{align*}$$\n",
    "\n",
    "The update formula for the new weights $\\overline{w}$ is calculated with (the hyperparameter) $\\eta$, the current row $x^{(i)}$, the predicted classification/label $\\hat{y}^{(i)}$, the actual classification/label $y$, and the current/old weights $\\overline{w}$:\n",
    "\n",
    "$$\n",
    "    \\overline{w} := \\overline{w} - \\eta \\cdot \\left(\\hat{y}^{(i)} - y \\right) \\cdot \\overline{x}\n",
    "$$\n",
    "\n",
    "Obviously, the prediction is either correct or incorrect. Let's examine when the prediction is correct.\n",
    "\n",
    "---\n",
    "\n",
    "### Correct Predictions\n",
    "\n",
    "+ The prediction correctly predicted 1:\n",
    "$$\n",
    "\\overline{w}_{\\text{new}} := \\overline{w}_{\\text{old}} - \\eta \\cdot \\left(1 - 1\\right) \\cdot \\overline{x} \\\\\n",
    "\\overline{w}_{\\text{new}} := \\overline{w}_{\\text{old}} - \\eta \\cdot \\left(0\\right) \\cdot \\overline{x} \\\\\n",
    "\\overline{w}_{\\text{new}} := \\overline{w}_{\\text{old}} - 0 \\\\\n",
    "\\overline{w}_{\\text{new}} := \\overline{w}_{\\text{old}} \n",
    "$$\n",
    "\n",
    "+ The prediction correctly predicted -1:\n",
    "$$\n",
    "\\overline{w}_{\\text{new}} := \\overline{w}_{\\text{old}} - \\eta \\cdot \\left(-1 - (-1)\\right) \\cdot \\overline{x} \\\\\n",
    "\\overline{w}_{\\text{new}} := \\overline{w}_{\\text{old}} - \\eta \\cdot \\left(0\\right) \\cdot \\overline{x} \\\\\n",
    "\\overline{w}_{\\text{new}} := \\overline{w}_{\\text{old}} - 0 \\\\\n",
    "\\overline{w}_{\\text{new}} := \\overline{w}_{\\text{old}} \n",
    "$$\n",
    "\n",
    "In both cases, the weights were accurate enough to provide a correct prediction, so they shouldn't yet be changed. \n",
    "Now, we can examine the three four of of an incorrect prediction.\n",
    "\n",
    "---\n",
    "\n",
    "### Incorrect Predictions\n",
    "\n",
    "It is important to consider the definition/implication of the dot product of vectors geometrically here.  \n",
    "Recall the definition for the dot product of vectors:\n",
    "\n",
    "$$ \\bold{u}\\cdot\\bold{v} = \\Vert u\\Vert\\Vert v\\Vert\\cos(\\theta)$$\n",
    "\n",
    "Furthermore, when $\\cos(\\theta) \\gt 0$, then $0 \\lt \\theta \\lt 90$.  \n",
    "If $\\cos(\\theta) = 0$, then the vectors are orthogonal ($\\theta = 90$).  \n",
    "Lastly, if $\\cos(\\theta) \\lt 0$, then $90 \\lt \\theta \\lt 180$.  \n",
    "\n",
    "![Graphical represention of Dot Products](image-2.png)\n",
    "\n",
    "In our context, $\\bold{u}$ and $\\bold{v}$ are $\\overline{w}$ and $\\overline{x}^{(i)}$. In order to correctly classify, the algorithm must drive the weights to converge to values that adequetely separate all of the data.\n",
    "\n",
    "---\n",
    "\n",
    "+ The prediction incorrectly predicted 1:\n",
    "$$\n",
    "\\overline{w}_{\\text{new}} := \\overline{w}_{\\text{old}} - \\eta \\cdot \\left(1 - (-1)\\right) \\cdot \\overline{x} \\\\\n",
    "\\overline{w}_{\\text{new}} := \\overline{w}_{\\text{old}} - \\left(2\\right)\\eta\\overline{x}\n",
    "$$\n",
    "\n",
    "The algorithm incorrectly asserts $\\overline{w}^T\\overline{x}^{(i)} \\gt 0$, when in fact $\\overline{w}^T\\overline{x}^{(i)} \\lt 0$.  \n",
    "In other words, the vectors $\\overline{w}$ and $\\overline{x}^{(i)}$ are *similarly* directed when they shouldn't be.\n",
    "The algorithm then adjusts the weights to ensure that they are more accurate and the angle ($\\theta$) between our two vectors ($\\overline{w}$ and $\\overline{x}^{(i)}$) is obtuse.\n",
    "\n",
    "+ The prediction incorrectly predicted -1:\n",
    "$$\n",
    "\\overline{w}_{\\text{new}} := \\overline{w}_{\\text{old}} - \\eta \\cdot \\left(-1 - (1)\\right) \\cdot \\overline{x} \\\\\n",
    "\\overline{w}_{\\text{new}} := \\overline{w}_{\\text{old}} + \\left(2\\right)\\eta\\overline{x} \\\\\n",
    "\\overline{w}_{\\text{new}} := \\overline{w}_{\\text{old}}\n",
    "$$\n",
    "\n",
    "Similarly, the algorithm incorrectly asserts $\\overline{w}^T\\overline{x}^{(i)} \\lt 0$, when in fact $\\overline{w}^T\\overline{x}^{(i)} \\gt 0$.  \n",
    "Conversely to the first error, the vectors $\\overline{w}$ and $\\overline{x}^{(i)}$ are *differently* directed when they shouldn't be.\n",
    "Again, the algorithm then adjusts the weights to ensure that they are more accurate and the angle ($\\theta$) between our two vectors ($\\overline{w}$ and $\\overline{x}^{(i)}$) is acute.\n",
    "\n",
    "+ The prediction incorrectly predicted 0:\n",
    "$$\n",
    "\\overline{w}_{\\text{new}} := \\overline{w}_{\\text{old}} - \\eta \\cdot \\left(0 - (\\pm 1)\\right) \\cdot \\overline{x} \\\\\n",
    "\\overline{w}_{\\text{new}} := \\overline{w}_{\\text{old}} - \\eta \\cdot \\left(0\\right) \\cdot \\overline{x} \\\\\n",
    "\\overline{w}_{\\text{new}} := \\overline{w}_{\\text{old}} - 0 \\\\\n",
    "\\overline{w}_{\\text{new}} := \\overline{w}_{\\text{old}} \n",
    "$$\n",
    "\n",
    "This equation represents two errors, and they behaves similarily to the first two. However, these adjustments depends on the true value $y^{(i)}$ and corrects at a slower rate.  \n",
    "\n",
    "---\n",
    "\n",
    "This pre-activation/activation process reoccurs for each observation of $x$, or $n$ times. Furthermore, this process will iterate $T$ times, which is a hyperparameter set often refered to as the *epochs*. Upon completion of sufficiently many epochs with linearly separable data, the hyperplane described by $w$ (including the bias) will separate the two classes. It is also important to understand that this solution is not unique; there are infinitely many hyperplanes that separate the classes."
   ]
  },
  {
   "cell_type": "markdown",
   "metadata": {},
   "source": [
    "## Programming Implementation\n",
    "\n",
    "Following, there is a manual conception of perceptron via a Python class with methods to fit, calculate the weighted sum at the $i$th row, and predict values. All of the model parameters (weights and bias) are self contained; the hyperparameters are given at the instantiation of the object."
   ]
  },
  {
   "cell_type": "markdown",
   "metadata": {},
   "source": [
    "### Libraries"
   ]
  },
  {
   "cell_type": "code",
   "execution_count": 112,
   "metadata": {},
   "outputs": [],
   "source": [
    "import numpy as np\n",
    "import pandas as pd\n",
    "import matplotlib.pyplot as plt\n",
    "from mlxtend.plotting import plot_decision_regions"
   ]
  },
  {
   "cell_type": "markdown",
   "metadata": {},
   "source": [
    "Randomly generating 100 points from $x \\in [-50,50]$ and $y \\in [-50,50]$ to create 100 random points in 2 distinct clusters"
   ]
  },
  {
   "cell_type": "markdown",
   "metadata": {},
   "source": [
    "Below is a custom function to make somewhat circular aggregations of data to have clearly defined clusers/classes."
   ]
  },
  {
   "cell_type": "code",
   "execution_count": 113,
   "metadata": {},
   "outputs": [],
   "source": [
    "def round_cluster(center, radius, num_points, cluster_label):\n",
    "    h, k = center\n",
    "    theta = np.random.uniform(0, 2*np.pi, num_points) # randomly generates num_points values of degrees.\n",
    "    r = np.sqrt(np.random.uniform(0, 1, num_points)) * radius  # randomly takes num_points scalars of the radius from 0-1\n",
    "    x = r * np.cos(theta) + h   # finds the cartesian coordinates for x for all num_points\n",
    "    y = r * np.sin(theta) + k   # finds the cartesian coordinates for y for all num_points\n",
    "    x = np.round(x,1)   # rounds x to the tenth\n",
    "    y = np.round(y,1)   # rounds y to the tenth\n",
    "    labels = np.full(num_points, cluster_label) # creaes an array of length num_points full of the provided cluster_label\n",
    "    return x, y, labels\n",
    "\n",
    "center1 = (-25, 25)\n",
    "center2 = (25, -25)\n",
    "radius = 25\n",
    "num_points = 100\n",
    "\n",
    "\n",
    "# creates two clusters of n=num_points\n",
    "x1, y1, labels1 = round_cluster(center1, radius, num_points, 1)\n",
    "x2, y2, labels2 = round_cluster(center2, radius, num_points, 2)\n",
    "\n",
    "x_coords = np.concatenate([x1, x2])\n",
    "y_coords = np.concatenate([y1, y2])\n",
    "labels = np.concatenate([labels1, labels2])\n",
    "\n",
    "# creates a dataframe of length 2*num_points for both clusters and their labels\n",
    "df = pd.DataFrame({\"x\" : x_coords, \"y\" : y_coords, \"label\" : labels})\n"
   ]
  },
  {
   "cell_type": "markdown",
   "metadata": {},
   "source": [
    "This is a visualization of the clusters to ensure it went as expected."
   ]
  },
  {
   "cell_type": "code",
   "execution_count": 114,
   "metadata": {},
   "outputs": [
    {
     "name": "stderr",
     "output_type": "stream",
     "text": [
      "No artists with labels found to put in legend.  Note that artists whose label start with an underscore are ignored when legend() is called with no argument.\n"
     ]
    },
    {
     "data": {
      "image/png": "[encoded data removed]",
      "text/plain": [
       "<Figure size 432x288 with 1 Axes>"
      ]
     },
     "metadata": {
      "needs_background": "light"
     },
     "output_type": "display_data"
    }
   ],
   "source": [
    "plt.scatter(df[\"x\"], df[\"y\"], c=df[\"label\"], cmap = \"RdBu\")\n",
    "\n",
    "plt.xlabel('X')\n",
    "plt.ylabel('Y')\n",
    "plt.legend()\n",
    "plt.axis('equal')  # Set equal scaling for a more accurate representation\n",
    "plt.show()"
   ]
  },
  {
   "cell_type": "markdown",
   "metadata": {},
   "source": [
    "Now, the implementation. The class constructor defaults the hyperparameters to $\\eta = 0.5$ and epochs = 100. Here, instead of a zero vector $\\overline{0}$ for the weights (and bias),  a random value between 0 and 1 is chosen."
   ]
  },
  {
   "cell_type": "code",
   "execution_count": 115,
   "metadata": {},
   "outputs": [],
   "source": [
    "class Perceptron(object):\n",
    "    def __init__(self, eta = 0.5, epochs = 100) -> None:\n",
    "        self.epochs = epochs\n",
    "        self.eta = eta\n",
    "    def fit(self, X, y):\n",
    "        self.w1 = np.random.rand(1)\n",
    "        self.w2 = np.random.rand(1)\n",
    "        self.b = np.random.rand(1)\n",
    "\n",
    "        self.errors = []\n",
    "\n",
    "        for _ in range(self.epochs):\n",
    "            errors = 0\n",
    "            for i, xi in enumerate(X):\n",
    "                update = self.eta * (self.predict(xi) - y[i])\n",
    "                self.w1 = self.w1 - update*xi[0]\n",
    "                self.w2 = self.w2 - update*xi[1]\n",
    "                self.b = self.b - update\n",
    "                errors = errors + int(update != 0)\n",
    "            if errors == 0:\n",
    "                return self\n",
    "            else:\n",
    "                self.errors.append(errors)\n",
    "        \n",
    "        return self\n",
    "    \n",
    "    def weighted_sum(self, x):\n",
    "        self.w = np.array([self.w1, self.w2])\n",
    "        return np.dot(x, self.w) + self.b\n",
    "    \n",
    "    def predict(self, x):\n",
    "        return np.where(self.weighted_sum(x) > 0.0, 1, -1)   \n"
   ]
  },
  {
   "cell_type": "markdown",
   "metadata": {},
   "source": [
    "It is important that both the $\\bold{X}$ matrix and the $y$ vector are arrays in order to utilize `np.dot()`. Also, the labels for the clusters must be 1 and -1."
   ]
  },
  {
   "cell_type": "code",
   "execution_count": 116,
   "metadata": {},
   "outputs": [],
   "source": [
    "X = df[[\"x\",\"y\"]].to_numpy()\n",
    "y = np.where(df['label'] == 1, 1, -1)"
   ]
  },
  {
   "cell_type": "code",
   "execution_count": 117,
   "metadata": {},
   "outputs": [
    {
     "name": "stderr",
     "output_type": "stream",
     "text": [
      "C:\\Users\\Josh\\AppData\\Local\\Temp\\ipykernel_7764\\3911486117.py:19: DeprecationWarning: Conversion of an array with ndim > 0 to a scalar is deprecated, and will error in future. Ensure you extract a single element from your array before performing this operation. (Deprecated NumPy 1.25.)\n",
      "  errors = errors + int(update != 0)\n"
     ]
    },
    {
     "data": {
      "text/plain": [
       "<__main__.Perceptron at 0x2badc47f880>"
      ]
     },
     "execution_count": 117,
     "metadata": {},
     "output_type": "execute_result"
    }
   ],
   "source": [
    "percept = Perceptron()\n",
    "\n",
    "percept.fit(X,y)"
   ]
  },
  {
   "cell_type": "code",
   "execution_count": 118,
   "metadata": {},
   "outputs": [
    {
     "name": "stdout",
     "output_type": "stream",
     "text": [
      "True\n"
     ]
    }
   ],
   "source": [
    "y_pred = percept.predict(X).reshape(200)\n",
    "print(np.array_equiv(y, y_pred))"
   ]
  },
  {
   "cell_type": "code",
   "execution_count": 119,
   "metadata": {},
   "outputs": [
    {
     "data": {
      "text/plain": [
       "<AxesSubplot:>"
      ]
     },
     "execution_count": 119,
     "metadata": {},
     "output_type": "execute_result"
    },
    {
     "data": {
      "image/png": "[encoded data removed]",
      "text/plain": [
       "<Figure size 432x288 with 1 Axes>"
      ]
     },
     "metadata": {
      "needs_background": "light"
     },
     "output_type": "display_data"
    }
   ],
   "source": [
    "plot_decision_regions(X, y, clf = percept)"
   ]
  },
  {
   "cell_type": "code",
   "execution_count": 149,
   "metadata": {},
   "outputs": [
    {
     "data": {
      "text/plain": [
       "(array([[ 40.18139426],\n",
       "        [-17.55223547]]),\n",
       " array([94.25261218]))"
      ]
     },
     "execution_count": 149,
     "metadata": {},
     "output_type": "execute_result"
    }
   ],
   "source": [
    "percept.w, percept.b"
   ]
  },
  {
   "cell_type": "markdown",
   "metadata": {},
   "source": [
    "### Second Example\n",
    "\n",
    "Here is another example involving data with covariance closer to $\\pm1$.\n",
    "\n"
   ]
  },
  {
   "cell_type": "code",
   "execution_count": 138,
   "metadata": {},
   "outputs": [
    {
     "data": {
      "image/png": "[encoded data removed]",
      "text/plain": [
       "<Figure size 432x288 with 1 Axes>"
      ]
     },
     "metadata": {
      "needs_background": "light"
     },
     "output_type": "display_data"
    }
   ],
   "source": [
    "num_points = 50\n",
    "\n",
    "# Generate random points for class 1\n",
    "class1_x = np.random.uniform(-10, 10, num_points)\n",
    "class1_y = 2 * class1_x + np.random.normal(0, 3, num_points)\n",
    "\n",
    "# Generate random points for class 2\n",
    "class2_x = np.random.uniform(-10, 10, num_points)\n",
    "class2_y = 2 * class2_x + 17 + np.random.normal(0, 3, num_points)\n",
    "\n",
    "# Concatenate the points and labels\n",
    "x = np.concatenate([class1_x, class2_x])\n",
    "y = np.concatenate([class1_y, class2_y])\n",
    "labels = np.concatenate([np.ones(num_points), -np.ones(num_points)])\n",
    "\n",
    "# Shuffle the data\n",
    "indices = np.arange(2 * num_points)\n",
    "np.random.shuffle(indices)\n",
    "x = x[indices]\n",
    "y = y[indices]\n",
    "labels = labels[indices]\n",
    "\n",
    "# Plot the points\n",
    "plt.scatter(class1_x, class1_y, label='Class 1', marker='o')\n",
    "plt.scatter(class2_x, class2_y, label='Class 2', marker='x')\n",
    "plt.xlabel('X')\n",
    "plt.ylabel('Y')\n",
    "plt.legend()\n",
    "plt.show()"
   ]
  },
  {
   "cell_type": "code",
   "execution_count": 139,
   "metadata": {},
   "outputs": [
    {
     "name": "stderr",
     "output_type": "stream",
     "text": [
      "C:\\Users\\Josh\\AppData\\Local\\Temp\\ipykernel_7764\\3911486117.py:19: DeprecationWarning: Conversion of an array with ndim > 0 to a scalar is deprecated, and will error in future. Ensure you extract a single element from your array before performing this operation. (Deprecated NumPy 1.25.)\n",
      "  errors = errors + int(update != 0)\n"
     ]
    },
    {
     "data": {
      "text/plain": [
       "<AxesSubplot:>"
      ]
     },
     "execution_count": 139,
     "metadata": {},
     "output_type": "execute_result"
    },
    {
     "data": {
      "image/png": "[encoded data removed]",
      "text/plain": [
       "<Figure size 432x288 with 1 Axes>"
      ]
     },
     "metadata": {
      "needs_background": "light"
     },
     "output_type": "display_data"
    }
   ],
   "source": [
    "df = pd.DataFrame({\"x\" : x, \"y\" : y, \"class\" : labels})\n",
    "X = df[[\"x\",\"y\"]].to_numpy()\n",
    "y = df[\"class\"].to_numpy().astype(int)\n",
    "percept.fit(X,y)\n",
    "y_pred = percept.predict(X).reshape(len(X))\n",
    "\n",
    "plot_decision_regions(X,y, percept)"
   ]
  },
  {
   "cell_type": "code",
   "execution_count": 140,
   "metadata": {},
   "outputs": [
    {
     "data": {
      "text/plain": [
       "True"
      ]
     },
     "execution_count": 140,
     "metadata": {},
     "output_type": "execute_result"
    }
   ],
   "source": [
    "np.array_equal(y, y_pred)"
   ]
  },
  {
   "cell_type": "code",
   "execution_count": 148,
   "metadata": {},
   "outputs": [
    {
     "data": {
      "text/plain": [
       "(array([[ 40.18139426],\n",
       "        [-17.55223547]]),\n",
       " array([94.25261218]))"
      ]
     },
     "execution_count": 148,
     "metadata": {},
     "output_type": "execute_result"
    }
   ],
   "source": [
    "percept.w, percept.b"
   ]
  }
 ],
 "metadata": {
  "kernelspec": {
   "display_name": "Python 3",
   "language": "python",
   "name": "python3"
  },
  "language_info": {
   "codemirror_mode": {
    "name": "ipython",
    "version": 3
   },
   "file_extension": ".py",
   "mimetype": "text/x-python",
   "name": "python",
   "nbconvert_exporter": "python",
   "pygments_lexer": "ipython3",
   "version": "3.10.11"
  }
 },
 "nbformat": 4,
 "nbformat_minor": 2
}
