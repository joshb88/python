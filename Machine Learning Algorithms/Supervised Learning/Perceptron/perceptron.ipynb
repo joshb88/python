{
 "cells": [
  {
   "cell_type": "markdown",
   "metadata": {},
   "source": [
    "# Perceptron\n",
    "\n",
    "Perception is one of the earliest forms of Artificial Neural Networks. Developed in 1957, by Frank Rosenblatt, the Perceptron is very simple (compared to more current concepts). It uses a *threshold logic unit* (TLU). This artificial neuron takes has numerical inputs and outputs (instead of binary) and each input connection is assosciated with a weight. The TLU computes a weighted sum of its inputs   \n",
    "($z = w_1x_1 + w_2x_2 + ... + w_{n}x_{n} = x^Tw$), then applies a *step function* to that sum and outputs the result:  \n",
    "$h_w(x) = step(z)$, where $z = x^Tw$.\n",
    "\n",
    "![Threshold Logic Unit](image.png)  \n",
    "*Threshold Logic Unit*\n",
    "\n",
    "The most common step function used in Perceptrons is the *Heaviside step function*, but sometimes the sign function is also used.\n",
    "\n",
    "\\begin{equation*}\n",
    "\\text{heaviside} (z) =\n",
    "\\begin{cases}\n",
    "    0 \\ \\text{if} \\ z \\lt 0\\\\\n",
    "    1 \\ \\text{if} \\ z \\geq 0\n",
    "\\end{cases} \\quad\n",
    "\\text{sgn} (z) =\n",
    "\\begin{cases}\n",
    "    &{-1} \\ &\\text{if} \\ z \\lt 0\\\\\n",
    "    & 0 \\ &\\text{if} \\ z = 0\\\\\n",
    "    &+1 \\ &\\text{if} \\ z \\gt 0\n",
    "\\end{cases}\n",
    "\\end{equation*}\n",
    "\n",
    "Training the TLU in this case means finding the right values for $\\bold{\\it{w}}$.\n",
    "\n",
    "![Perceptron Diagram](image-1.png)"
   ]
  },
  {
   "cell_type": "markdown",
   "metadata": {},
   "source": [
    "## Neural Activity\n",
    "\n",
    "**In the description of the process and the practical examples below, we will assume $x \\in \\R^2$ and utilize the activation function of $\\text{sign}(z)$. Furthermore, this is a single-layer perceptron which can only separate data into 2 distinct classes.**\n",
    "\n",
    "The pre-activation process begins (initially) by arbitrarily setting the weights (to a zero vector $\\overline{0}$ for example); in each progressive step, the weights will be updated and used. Next, take the linear combination of the weights, $\\overline{w}$ (inlcuding an extra element $w_0$ to represent the bias $b$) and the corresponding feature values $\\overline{x}$ (including an extra column of 1 to account for the bias $b$). This will provide $z$ which we can then apply to our activation function, e.g. $\\text{sign}(z)$ or $\\text{heaviside}(z)$:\n",
    "\n",
    "\\begin{equation*}\n",
    "    z = \\overline{w}^T\\overline{x}^{(i)}\n",
    "\\end{equation*}\n",
    "\n",
    "Next, the prediction is made based on the value of $z$. It can be 1 of 3 outcomes:\n",
    "\n",
    "$$\\begin{align}\n",
    "    {-1}& \\ &\\text{if} \\ z \\lt 0\\\\\n",
    "    0& \\ &\\text{if} \\ z = 0\\\\\n",
    "    +1& \\ &\\text{if} \\ z \\gt 0\n",
    "\\end{align}$$\n",
    "\n",
    "The update formula for the new weights $\\overline{w}$ is calculated with (the hyperparameter) $\\eta$, the current row $x^{(i)}$, the predicted classification/label $\\hat{y}^{(i)}$, the actual classification/label $y$, and the current/old weights $\\overline{w}$:\n",
    "\n",
    "$$\n",
    "    \\overline{w} := \\overline{w} - \\eta \\cdot \\left(\\hat{y}^{(i)} - y \\right) \\cdot \\overline{x}\n",
    "$$\n",
    "\n",
    "Obviously, the prediction is either correct or incorrect. Let's examine when the prediction is correct.\n",
    "\n",
    "+ The prediction correctly guessed 1:\n",
    "$$\n",
    "\\overline{w}_{\\text{new}} := \\overline{w}_{\\text{old}} - \\eta \\cdot \\left(1 - 1\\right) \\cdot \\overline{x} \\\\\n",
    "\\overline{w}_{\\text{new}} := \\overline{w}_{\\text{old}} - \\eta \\cdot \\left(0\\right) \\cdot \\overline{x} \\\\\n",
    "\\overline{w}_{\\text{new}} := \\overline{w}_{\\text{old}} - 0 \\\\\n",
    "\\overline{w}_{\\text{new}} := \\overline{w}_{\\text{old}} \n",
    "$$\n",
    "\n",
    "+ The prediction correctly guessed -1:\n",
    "$$\n",
    "\\overline{w}_{\\text{new}} := \\overline{w}_{\\text{old}} - \\eta \\cdot \\left(-1 - (-1)\\right) \\cdot \\overline{x} \\\\\n",
    "\\overline{w}_{\\text{new}} := \\overline{w}_{\\text{old}} - \\eta \\cdot \\left(0\\right) \\cdot \\overline{x} \\\\\n",
    "\\overline{w}_{\\text{new}} := \\overline{w}_{\\text{old}} - 0 \\\\\n",
    "\\overline{w}_{\\text{new}} := \\overline{w}_{\\text{old}} \n",
    "$$\n",
    "\n",
    "In both cases, the weights were accurate enough to provide a correct prediction, so they shouldn't yet be changed. Now, we can examine the three cases of of an incorrect prediction.\n",
    "\n",
    "+ The prediction incorrectly guessed 1:\n",
    "$$\n",
    "\\overline{w}_{\\text{new}} := \\overline{w}_{\\text{old}} - \\eta \\cdot \\left(1 - 1\\right) \\cdot \\overline{x} \\\\\n",
    "\\overline{w}_{\\text{new}} := \\overline{w}_{\\text{old}} - \\eta \\cdot \\left(0\\right) \\cdot \\overline{x} \\\\\n",
    "\\overline{w}_{\\text{new}} := \\overline{w}_{\\text{old}} - 0 \\\\\n",
    "\\overline{w}_{\\text{new}} := \\overline{w}_{\\text{old}} \n",
    "$$\n",
    "\n",
    "+ The prediction incorrectly guessed -1:\n",
    "$$\n",
    "\\overline{w}_{\\text{new}} := \\overline{w}_{\\text{old}} - \\eta \\cdot \\left(-1 - (-1)\\right) \\cdot \\overline{x} \\\\\n",
    "\\overline{w}_{\\text{new}} := \\overline{w}_{\\text{old}} - \\eta \\cdot \\left(0\\right) \\cdot \\overline{x} \\\\\n",
    "\\overline{w}_{\\text{new}} := \\overline{w}_{\\text{old}} - 0 \\\\\n",
    "\\overline{w}_{\\text{new}} := \\overline{w}_{\\text{old}} \n",
    "$$\n",
    "\n",
    "+ The prediction incorrectly guessed 0:\n",
    "$$\n",
    "\\overline{w}_{\\text{new}} := \\overline{w}_{\\text{old}} - \\eta \\cdot \\left(-1 - (-1)\\right) \\cdot \\overline{x} \\\\\n",
    "\\overline{w}_{\\text{new}} := \\overline{w}_{\\text{old}} - \\eta \\cdot \\left(0\\right) \\cdot \\overline{x} \\\\\n",
    "\\overline{w}_{\\text{new}} := \\overline{w}_{\\text{old}} - 0 \\\\\n",
    "\\overline{w}_{\\text{new}} := \\overline{w}_{\\text{old}} \n",
    "$$"
   ]
  },
  {
   "cell_type": "code",
   "execution_count": 16,
   "metadata": {},
   "outputs": [],
   "source": [
    "import numpy as np\n",
    "import pandas as pd\n",
    "import matplotlib.pyplot as plt\n",
    "from mlxtend.plotting import plot_decision_regions"
   ]
  },
  {
   "cell_type": "markdown",
   "metadata": {},
   "source": [
    "Randomly generating 100 points from $x \\in [-50,50]$ and $y \\in [-50,50]$ to create 100 random points in 2 distinct clusters"
   ]
  },
  {
   "cell_type": "code",
   "execution_count": 17,
   "metadata": {},
   "outputs": [],
   "source": [
    "def round_cluster(center, radius, num_points, cluster_label):\n",
    "    h, k = center\n",
    "    theta = np.random.uniform(0, 2*np.pi, num_points)\n",
    "    r = np.sqrt(np.random.uniform(0, 1, num_points)) * radius\n",
    "    x = r * np.cos(theta) + h\n",
    "    y = r * np.sin(theta) + k\n",
    "    x = np.round(x,1)\n",
    "    y = np.round(y,1)\n",
    "    labels = np.full(num_points, cluster_label)\n",
    "    return x, y, labels\n",
    "\n",
    "center1 = (-25, 25)\n",
    "center2 = (25, -25)\n",
    "radius = 25\n",
    "num_points = 100\n",
    "\n",
    "x1, y1, labels1 = round_cluster(center1, radius, num_points, 1)\n",
    "x2, y2, labels2 = round_cluster(center2, radius, num_points, 2)\n",
    "\n",
    "x_coords = np.concatenate([x1, x2])\n",
    "y_coords = np.concatenate([y1, y2])\n",
    "labels = np.concatenate([labels1, labels2])\n",
    "\n",
    "df = pd.DataFrame({\"x\" : x_coords, \"y\" : y_coords, \"label\" : labels})"
   ]
  },
  {
   "cell_type": "code",
   "execution_count": 18,
   "metadata": {},
   "outputs": [
    {
     "name": "stderr",
     "output_type": "stream",
     "text": [
      "No artists with labels found to put in legend.  Note that artists whose label start with an underscore are ignored when legend() is called with no argument.\n"
     ]
    },
    {
     "data": {
      "image/png": "[encoded data removed]",
      "text/plain": [
       "<Figure size 432x288 with 1 Axes>"
      ]
     },
     "metadata": {
      "needs_background": "light"
     },
     "output_type": "display_data"
    }
   ],
   "source": [
    "plt.scatter(df[\"x\"], df[\"y\"], c=df[\"label\"], cmap = \"RdBu\")\n",
    "\n",
    "plt.xlabel('X')\n",
    "plt.ylabel('Y')\n",
    "plt.legend()\n",
    "plt.axis('equal')  # Set equal scaling for a more accurate representation\n",
    "plt.show()"
   ]
  },
  {
   "cell_type": "code",
   "execution_count": 19,
   "metadata": {},
   "outputs": [
    {
     "data": {
      "text/html": [
       "<div>\n",
       "<style scoped>\n",
       "    .dataframe tbody tr th:only-of-type {\n",
       "        vertical-align: middle;\n",
       "    }\n",
       "\n",
       "    .dataframe tbody tr th {\n",
       "        vertical-align: top;\n",
       "    }\n",
       "\n",
       "    .dataframe thead th {\n",
       "        text-align: right;\n",
       "    }\n",
       "</style>\n",
       "<table border=\"1\" class=\"dataframe\">\n",
       "  <thead>\n",
       "    <tr style=\"text-align: right;\">\n",
       "      <th></th>\n",
       "      <th>x</th>\n",
       "      <th>y</th>\n",
       "      <th>label</th>\n",
       "    </tr>\n",
       "  </thead>\n",
       "  <tbody>\n",
       "    <tr>\n",
       "      <th>0</th>\n",
       "      <td>-34.1</td>\n",
       "      <td>27.2</td>\n",
       "      <td>1</td>\n",
       "    </tr>\n",
       "    <tr>\n",
       "      <th>1</th>\n",
       "      <td>-25.4</td>\n",
       "      <td>2.7</td>\n",
       "      <td>1</td>\n",
       "    </tr>\n",
       "    <tr>\n",
       "      <th>2</th>\n",
       "      <td>-14.1</td>\n",
       "      <td>27.6</td>\n",
       "      <td>1</td>\n",
       "    </tr>\n",
       "    <tr>\n",
       "      <th>3</th>\n",
       "      <td>-25.2</td>\n",
       "      <td>35.1</td>\n",
       "      <td>1</td>\n",
       "    </tr>\n",
       "    <tr>\n",
       "      <th>4</th>\n",
       "      <td>-27.3</td>\n",
       "      <td>15.1</td>\n",
       "      <td>1</td>\n",
       "    </tr>\n",
       "    <tr>\n",
       "      <th>...</th>\n",
       "      <td>...</td>\n",
       "      <td>...</td>\n",
       "      <td>...</td>\n",
       "    </tr>\n",
       "    <tr>\n",
       "      <th>195</th>\n",
       "      <td>11.4</td>\n",
       "      <td>-23.9</td>\n",
       "      <td>2</td>\n",
       "    </tr>\n",
       "    <tr>\n",
       "      <th>196</th>\n",
       "      <td>44.0</td>\n",
       "      <td>-39.8</td>\n",
       "      <td>2</td>\n",
       "    </tr>\n",
       "    <tr>\n",
       "      <th>197</th>\n",
       "      <td>32.6</td>\n",
       "      <td>-48.4</td>\n",
       "      <td>2</td>\n",
       "    </tr>\n",
       "    <tr>\n",
       "      <th>198</th>\n",
       "      <td>3.3</td>\n",
       "      <td>-14.0</td>\n",
       "      <td>2</td>\n",
       "    </tr>\n",
       "    <tr>\n",
       "      <th>199</th>\n",
       "      <td>42.0</td>\n",
       "      <td>-22.6</td>\n",
       "      <td>2</td>\n",
       "    </tr>\n",
       "  </tbody>\n",
       "</table>\n",
       "<p>200 rows × 3 columns</p>\n",
       "</div>"
      ],
      "text/plain": [
       "        x     y  label\n",
       "0   -34.1  27.2      1\n",
       "1   -25.4   2.7      1\n",
       "2   -14.1  27.6      1\n",
       "3   -25.2  35.1      1\n",
       "4   -27.3  15.1      1\n",
       "..    ...   ...    ...\n",
       "195  11.4 -23.9      2\n",
       "196  44.0 -39.8      2\n",
       "197  32.6 -48.4      2\n",
       "198   3.3 -14.0      2\n",
       "199  42.0 -22.6      2\n",
       "\n",
       "[200 rows x 3 columns]"
      ]
     },
     "execution_count": 19,
     "metadata": {},
     "output_type": "execute_result"
    }
   ],
   "source": [
    "df"
   ]
  },
  {
   "cell_type": "code",
   "execution_count": 20,
   "metadata": {},
   "outputs": [],
   "source": [
    "class Perceptron(object):\n",
    "    def __init__(self, eta = 0.5, epochs = 100) -> None:\n",
    "        self.epochs = epochs\n",
    "        self.eta = eta\n",
    "    def fit(self, X, y):\n",
    "        self.w1 = np.random.rand(1)\n",
    "        self.w2 = np.random.rand(1)\n",
    "        self.b = np.random.rand(1)\n",
    "\n",
    "        self.errors = []\n",
    "\n",
    "        for _ in range(self.epochs):\n",
    "            errors = 0\n",
    "            for i, xi in enumerate(X):\n",
    "                update = self.eta * (self.predict(xi) - y[i])\n",
    "                self.w1 = self.w1 - update*xi[0]\n",
    "                self.w2 = self.w2 - update*xi[1]\n",
    "                self.b = self.b - update\n",
    "                errors = errors + int(update != 0)\n",
    "            if errors == 0:\n",
    "                return self\n",
    "            else:\n",
    "                self.errors.append(errors)\n",
    "        \n",
    "        return self\n",
    "    \n",
    "    def weighted_sum(self, x):\n",
    "        self.w = np.array([self.w1, self.w2])\n",
    "        return np.dot(x, self.w) + self.b\n",
    "    \n",
    "    def predict(self, x):\n",
    "        return np.where(self.weighted_sum(x) > 0.0, 1, -1)   \n"
   ]
  },
  {
   "cell_type": "code",
   "execution_count": 21,
   "metadata": {},
   "outputs": [],
   "source": [
    "X = df[[\"x\",\"y\"]].to_numpy()\n",
    "y = np.where(df['label'] == 1, 1, -1)"
   ]
  },
  {
   "cell_type": "code",
   "execution_count": 22,
   "metadata": {},
   "outputs": [
    {
     "name": "stderr",
     "output_type": "stream",
     "text": [
      "C:\\Users\\Josh\\AppData\\Local\\Temp\\ipykernel_11436\\3911486117.py:19: DeprecationWarning: Conversion of an array with ndim > 0 to a scalar is deprecated, and will error in future. Ensure you extract a single element from your array before performing this operation. (Deprecated NumPy 1.25.)\n",
      "  errors = errors + int(update != 0)\n"
     ]
    },
    {
     "data": {
      "text/plain": [
       "<__main__.Perceptron at 0x2b536ea7340>"
      ]
     },
     "execution_count": 22,
     "metadata": {},
     "output_type": "execute_result"
    }
   ],
   "source": [
    "percept = Perceptron()\n",
    "\n",
    "percept.fit(X,y)"
   ]
  },
  {
   "cell_type": "code",
   "execution_count": 23,
   "metadata": {},
   "outputs": [
    {
     "name": "stdout",
     "output_type": "stream",
     "text": [
      "[ True  True  True  True  True  True  True  True  True  True  True  True\n",
      "  True  True  True  True  True  True  True  True  True  True  True  True\n",
      "  True  True  True  True  True  True  True  True  True  True  True  True\n",
      "  True  True  True  True  True  True  True  True  True  True  True  True\n",
      "  True  True  True  True  True  True  True  True  True  True  True  True\n",
      "  True  True  True  True  True  True  True  True  True  True  True  True\n",
      "  True  True  True  True  True  True  True  True  True  True  True  True\n",
      "  True  True  True  True  True  True  True  True  True  True  True  True\n",
      "  True  True  True  True  True  True  True  True  True  True  True  True\n",
      "  True  True  True  True  True  True  True  True  True  True  True  True\n",
      "  True  True  True  True  True  True  True  True  True  True  True  True\n",
      "  True  True  True  True  True  True  True  True  True  True  True  True\n",
      "  True  True  True  True  True  True  True  True  True  True  True  True\n",
      "  True  True  True  True  True  True  True  True  True  True  True  True\n",
      "  True  True  True  True  True  True  True  True  True  True  True  True\n",
      "  True  True  True  True  True  True  True  True  True  True  True  True\n",
      "  True  True  True  True  True  True  True  True]\n"
     ]
    }
   ],
   "source": [
    "y_pred = percept.predict(X).reshape(200)\n",
    "print(y == y_pred)"
   ]
  },
  {
   "cell_type": "code",
   "execution_count": 24,
   "metadata": {},
   "outputs": [
    {
     "data": {
      "text/plain": [
       "<AxesSubplot:>"
      ]
     },
     "execution_count": 24,
     "metadata": {},
     "output_type": "execute_result"
    },
    {
     "data": {
      "image/png": "[encoded data removed]",
      "text/plain": [
       "<Figure size 432x288 with 1 Axes>"
      ]
     },
     "metadata": {
      "needs_background": "light"
     },
     "output_type": "display_data"
    }
   ],
   "source": [
    "plot_decision_regions(X, y, clf = percept)"
   ]
  },
  {
   "cell_type": "code",
   "execution_count": 25,
   "metadata": {},
   "outputs": [
    {
     "data": {
      "text/plain": [
       "array([[-33.23795735],\n",
       "       [ 28.0445494 ]])"
      ]
     },
     "execution_count": 25,
     "metadata": {},
     "output_type": "execute_result"
    }
   ],
   "source": [
    "percept.w"
   ]
  },
  {
   "cell_type": "code",
   "execution_count": null,
   "metadata": {},
   "outputs": [],
   "source": []
  },
  {
   "cell_type": "code",
   "execution_count": 26,
   "metadata": {},
   "outputs": [
    {
     "data": {
      "image/png": "[encoded data removed]",
      "text/plain": [
       "<Figure size 432x288 with 1 Axes>"
      ]
     },
     "metadata": {
      "needs_background": "light"
     },
     "output_type": "display_data"
    }
   ],
   "source": [
    "num_points = 50\n",
    "\n",
    "# Generate random points for class 1\n",
    "class1_x = np.random.uniform(-10, 10, num_points)\n",
    "class1_y = 2 * class1_x + np.random.normal(0, 3, num_points)\n",
    "\n",
    "# Generate random points for class 2\n",
    "class2_x = np.random.uniform(-10, 10, num_points)\n",
    "class2_y = 2 * class2_x + 10 + np.random.normal(0, 3, num_points)\n",
    "\n",
    "# Concatenate the points and labels\n",
    "x = np.concatenate([class1_x, class2_x])\n",
    "y = np.concatenate([class1_y, class2_y])\n",
    "labels = np.concatenate([np.ones(num_points), -np.ones(num_points)])\n",
    "\n",
    "# Shuffle the data\n",
    "indices = np.arange(2 * num_points)\n",
    "np.random.shuffle(indices)\n",
    "x = x[indices]\n",
    "y = y[indices]\n",
    "labels = labels[indices]\n",
    "\n",
    "# Plot the points\n",
    "plt.scatter(class1_x, class1_y, label='Class 1', marker='o')\n",
    "plt.scatter(class2_x, class2_y, label='Class 2', marker='x')\n",
    "plt.xlabel('X')\n",
    "plt.ylabel('Y')\n",
    "plt.legend()\n",
    "plt.show()"
   ]
  },
  {
   "cell_type": "code",
   "execution_count": 27,
   "metadata": {},
   "outputs": [
    {
     "name": "stderr",
     "output_type": "stream",
     "text": [
      "C:\\Users\\Josh\\AppData\\Local\\Temp\\ipykernel_11436\\3911486117.py:19: DeprecationWarning: Conversion of an array with ndim > 0 to a scalar is deprecated, and will error in future. Ensure you extract a single element from your array before performing this operation. (Deprecated NumPy 1.25.)\n",
      "  errors = errors + int(update != 0)\n"
     ]
    },
    {
     "data": {
      "text/plain": [
       "<AxesSubplot:>"
      ]
     },
     "execution_count": 27,
     "metadata": {},
     "output_type": "execute_result"
    },
    {
     "data": {
      "image/png": "[encoded data removed]",
      "text/plain": [
       "<Figure size 432x288 with 1 Axes>"
      ]
     },
     "metadata": {
      "needs_background": "light"
     },
     "output_type": "display_data"
    }
   ],
   "source": [
    "df = pd.DataFrame({\"x\" : x, \"y\" : y, \"class\" : labels})\n",
    "X = df[[\"x\",\"y\"]].to_numpy()\n",
    "y = df[\"class\"].to_numpy().astype(int)\n",
    "percept.fit(X,y)\n",
    "y_pred = percept.predict(X).reshape(len(X))\n",
    "\n",
    "plot_decision_regions(X,y, percept)"
   ]
  },
  {
   "cell_type": "code",
   "execution_count": 28,
   "metadata": {},
   "outputs": [
    {
     "data": {
      "text/plain": [
       "array([ True,  True,  True,  True,  True,  True, False,  True,  True,\n",
       "        True,  True,  True,  True,  True, False,  True,  True,  True,\n",
       "        True,  True,  True,  True,  True,  True,  True,  True,  True,\n",
       "        True,  True,  True,  True,  True,  True,  True,  True,  True,\n",
       "        True,  True,  True,  True,  True,  True,  True,  True,  True,\n",
       "        True,  True,  True, False,  True,  True,  True,  True,  True,\n",
       "        True,  True,  True,  True,  True,  True,  True,  True,  True,\n",
       "        True,  True,  True,  True,  True,  True,  True,  True,  True,\n",
       "        True,  True,  True,  True,  True,  True,  True,  True,  True,\n",
       "        True,  True,  True,  True,  True,  True,  True,  True,  True,\n",
       "        True,  True,  True,  True,  True,  True,  True,  True,  True,\n",
       "        True])"
      ]
     },
     "execution_count": 28,
     "metadata": {},
     "output_type": "execute_result"
    }
   ],
   "source": [
    "y_pred == y"
   ]
  },
  {
   "cell_type": "code",
   "execution_count": 29,
   "metadata": {},
   "outputs": [
    {
     "data": {
      "text/plain": [
       "array([[ 96.93380132],\n",
       "       [-56.10495085]])"
      ]
     },
     "execution_count": 29,
     "metadata": {},
     "output_type": "execute_result"
    }
   ],
   "source": [
    "percept.w"
   ]
  }
 ],
 "metadata": {
  "kernelspec": {
   "display_name": "Python 3",
   "language": "python",
   "name": "python3"
  },
  "language_info": {
   "codemirror_mode": {
    "name": "ipython",
    "version": 3
   },
   "file_extension": ".py",
   "mimetype": "text/x-python",
   "name": "python",
   "nbconvert_exporter": "python",
   "pygments_lexer": "ipython3",
   "version": "3.10.11"
  }
 },
 "nbformat": 4,
 "nbformat_minor": 2
}
