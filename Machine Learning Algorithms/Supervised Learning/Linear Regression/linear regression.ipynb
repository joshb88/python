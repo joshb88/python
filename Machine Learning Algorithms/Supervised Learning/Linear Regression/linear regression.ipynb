{
 "cells": [
  {
   "cell_type": "markdown",
   "metadata": {},
   "source": [
    "# Linear Regression\n",
    "\n",
    "Regression is a method by which we model the relationship between one or more independant variables and a dependant variable. The goal is to understand and quantify the relationship between these variables and, perhaps, make predictions for the unknown. For this first iteration of linear regression, we will keep it \"simple\" by carrying some assumptions: \n",
    "+ $ x \\in \\mathbb{R} $ \n",
    "+ The only variable is $x$\n",
    "\n",
    "Given this, the form of our hypothesis desired is: \n",
    "\n",
    "$$ h(x;w,b) = wx + b$$\n",
    "\n",
    "where:\n",
    "+ $x$: the input variable; a feature or features\n",
    "+ $w$: the slope parameter of the hypothesis; it carries the impact of $x$ on the prediction\n",
    "+ $b$: the intercept term; the bias term which accounts for the models inability to accurately predict data that isn't purely covariant\n",
    "\n",
    "Put simply, it's the application of a linear function to most accurately the data."
   ]
  },
  {
   "cell_type": "markdown",
   "metadata": {},
   "source": [
    "## The Process\n",
    "\n",
    "1. Determine if there is a linear relationship  \n",
    "It doesn't make much sense to attempt to describe the data in the form of a line if the data isn't capable of being described that way. The way to do this is to view the covariance:\n",
    "\n",
    "$$\n",
    "Cov(x,y) = \\frac{1}{n-1}\\sum^{n}_{i=1}(x^{(i)}-\\overline{x})(y^{(i)}-\\overline{y})\n",
    "\n",
    "$$"
   ]
  },
  {
   "cell_type": "markdown",
   "metadata": {},
   "source": []
  }
 ],
 "metadata": {
  "kernelspec": {
   "display_name": "Python 3",
   "language": "python",
   "name": "python3"
  },
  "language_info": {
   "codemirror_mode": {
    "name": "ipython",
    "version": 3
   },
   "file_extension": ".py",
   "mimetype": "text/x-python",
   "name": "python",
   "nbconvert_exporter": "python",
   "pygments_lexer": "ipython3",
   "version": "3.10.4"
  }
 },
 "nbformat": 4,
 "nbformat_minor": 2
}
