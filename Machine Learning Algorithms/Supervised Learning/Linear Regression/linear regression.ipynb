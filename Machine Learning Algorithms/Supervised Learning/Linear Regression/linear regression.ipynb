{
 "cells": [
  {
   "cell_type": "markdown",
   "metadata": {},
   "source": [
    "# Linear Regression\n",
    "\n",
    "Regression is a method by which we model the relationship between one or more independant variables and a dependant variable. The goal is to understand and quantify the relationship between these variables and, perhaps, make predictions for the unknown. For this first iteration of linear regression, we will keep it \"simple\" by carrying some assumptions: \n",
    "+ $ x \\in \\mathbb{R} $ \n",
    "+ The only input variable is $x$\n",
    "\n",
    "Given this, the form of our hypothesis desired is: \n",
    "\n",
    "$$ h(x;w,b) = wx + b$$\n",
    "\n",
    "where:\n",
    "+ $x$: the input variable; a feature or features\n",
    "+ $w$: the slope parameter of the hypothesis; it carries the impact of $x$ on the prediction\n",
    "+ $b$: the intercept term; the bias term which accounts for the models inability to accurately predict data that isn't purely covariant\n",
    "\n",
    "Put simply, it's the application of a linear function to most accurately the data."
   ]
  },
  {
   "cell_type": "code",
   "execution_count": null,
   "metadata": {},
   "outputs": [],
   "source": [
    "import numpy as np\n",
    "import pandas as pd\n",
    "import matplotlib.pyplot as plt\n",
    "\n",
    "data = pd.read_csv(\"data.csv\", header=None)\n",
    "data.rename(columns={0: \"x\", 1:\"y\"}, inplace=True)"
   ]
  },
  {
   "cell_type": "markdown",
   "metadata": {},
   "source": [
    "## The Process\n",
    "\n",
    "### Determine if there is a linear relationship  \n",
    "It doesn't make much sense to attempt to describe the data in the form of a line if the data isn't capable of being described that way. A good first step (wherever applicable) is to visualize the data. As the data set used here is in $\\mathbb{R}^2$, we can graph the data on a scatterplot to see just how the data are orientated.\n"
   ]
  },
  {
   "cell_type": "code",
   "execution_count": 46,
   "metadata": {},
   "outputs": [
    {
     "data": {
      "text/plain": [
       "(22.86760509940845, 72.60695516341318, 27.362795273772292, 122.9354278753201)"
      ]
     },
     "execution_count": 46,
     "metadata": {},
     "output_type": "execute_result"
    },
    {
     "data": {
      "image/png": "[encoded data removed]",
      "text/plain": [
       "<Figure size 576x432 with 1 Axes>"
      ]
     },
     "metadata": {
      "needs_background": "light"
     },
     "output_type": "display_data"
    }
   ],
   "source": [
    "plt.figure(figsize=(8,6))\n",
    "plt.scatter(data.x,data.y)\n",
    "plt.axis('equal')"
   ]
  },
  {
   "cell_type": "markdown",
   "metadata": {},
   "source": [
    "While not a perfect line, there does seem to be a linear relationship; it seems reasonable to represent these data with  a line as compared to something else. Let's show that relationship (and its strength) numerically. The way to do this is to view the covariance:\n",
    "\n",
    "### Finding the Sample Covariance\n",
    "\n",
    "$$\n",
    "Cov(x,y) = \\frac{1}{n-1}\\sum^{n}_{i=1}(x^{(i)}-\\overline{x})(y^{(i)}-\\overline{y})\n",
    "$$\n",
    "\n",
    "Let's break this formula down:\n",
    "+ $(x^{(i)}-\\overline{x})$ and $(y^{(i)}-\\overline{y})$ refer to how deviation from the sample mean\n",
    "+ We take the summation of the products and divide by the inverse of $n-1$; this is a psuedo-expected value for their relationship.\n",
    "\n",
    "Note:\n",
    "$$ Cov(x,x) = Var(x) $$\n",
    "\n",
    "In the case of simple linear regression, the covariance is a scalar value. When positive, an increase in $x$ yields an *increase* in $y$. When negative, an increase in $x$ yields a *decrease* in $y$. As the values for each column (only two in our case) may scale very differently, the magnitude **does not** carry significant meaning. Most often, covariance is shown as a matrix representation of the relation:\n",
    "$$\n",
    "Cov(X,Y) =\n",
    " \\begin{bmatrix}\n",
    "Cov(X,X) & Cov(X,Y) \\\\\n",
    "Cov(Y,X) & Cov(Y,Y)\n",
    "\\end{bmatrix}\n",
    "$$\n",
    "\n",
    "Below, we will show the forumla above at work and the `.cov()` method from `pandas` associated with the dataframe we are using."
   ]
  },
  {
   "cell_type": "code",
   "execution_count": 45,
   "metadata": {},
   "outputs": [
    {
     "data": {
      "text/plain": [
       "125.62024804481139"
      ]
     },
     "execution_count": 45,
     "metadata": {},
     "output_type": "execute_result"
    }
   ],
   "source": [
    "xbar = data['x'].mean()\n",
    "ybar = data['y'].mean()\n",
    "sum = 0\n",
    "for index, row in data.iterrows():\n",
    "    sum += (row['x']-xbar)*(row['y']-ybar)\n",
    "1/(len(data)-1)*sum"
   ]
  },
  {
   "cell_type": "code",
   "execution_count": 44,
   "metadata": {},
   "outputs": [
    {
     "data": {
      "text/html": [
       "<div>\n",
       "<style scoped>\n",
       "    .dataframe tbody tr th:only-of-type {\n",
       "        vertical-align: middle;\n",
       "    }\n",
       "\n",
       "    .dataframe tbody tr th {\n",
       "        vertical-align: top;\n",
       "    }\n",
       "\n",
       "    .dataframe thead th {\n",
       "        text-align: right;\n",
       "    }\n",
       "</style>\n",
       "<table border=\"1\" class=\"dataframe\">\n",
       "  <thead>\n",
       "    <tr style=\"text-align: right;\">\n",
       "      <th></th>\n",
       "      <th>x</th>\n",
       "      <th>y</th>\n",
       "    </tr>\n",
       "  </thead>\n",
       "  <tbody>\n",
       "    <tr>\n",
       "      <th>x</th>\n",
       "      <td>94.991910</td>\n",
       "      <td>125.620248</td>\n",
       "    </tr>\n",
       "    <tr>\n",
       "      <th>y</th>\n",
       "      <td>125.620248</td>\n",
       "      <td>277.495208</td>\n",
       "    </tr>\n",
       "  </tbody>\n",
       "</table>\n",
       "</div>"
      ],
      "text/plain": [
       "            x           y\n",
       "x   94.991910  125.620248\n",
       "y  125.620248  277.495208"
      ]
     },
     "execution_count": 44,
     "metadata": {},
     "output_type": "execute_result"
    }
   ],
   "source": [
    "data.cov()"
   ]
  },
  {
   "cell_type": "markdown",
   "metadata": {},
   "source": [
    "### Finding the Sample Correlation Coefficient\n",
    "\n",
    "The next step will give a better insight into just how strong the linear relationship is.\n",
    "\n",
    "$$\\begin{align*}\n",
    "r =& \\frac{Cov(x,y)}{s_{x}s_{y}} \\\\ =&  \\frac{\\sum(x^{(i)}-\\overline{x})(y^{(i)}-\\overline{y})}{\\sqrt{\\sum(x^{(i)}-\\overline{x})^2} \\cdot \\sqrt{\\sum(y^{(i)}-\\overline{y})^2}}\n",
    "\\end{align*}$$"
   ]
  },
  {
   "cell_type": "markdown",
   "metadata": {},
   "source": []
  },
  {
   "cell_type": "markdown",
   "metadata": {},
   "source": []
  }
 ],
 "metadata": {
  "kernelspec": {
   "display_name": "Python 3",
   "language": "python",
   "name": "python3"
  },
  "language_info": {
   "codemirror_mode": {
    "name": "ipython",
    "version": 3
   },
   "file_extension": ".py",
   "mimetype": "text/x-python",
   "name": "python",
   "nbconvert_exporter": "python",
   "pygments_lexer": "ipython3",
   "version": "3.10.4"
  }
 },
 "nbformat": 4,
 "nbformat_minor": 2
}
