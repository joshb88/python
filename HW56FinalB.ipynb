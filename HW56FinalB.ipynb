{
 "cells": [
  {
   "cell_type": "markdown",
   "metadata": {},
   "source": [
    "# CS2311-Data Structures and Algorithms in Python\n",
    "## Homework 4_5\n",
    "## Due Date: 6 March, 2022"
   ]
  },
  {
   "cell_type": "markdown",
   "metadata": {},
   "source": [
    "## Student Name: Joshua Boehm, Michelle Pogue"
   ]
  },
  {
   "cell_type": "markdown",
   "metadata": {},
   "source": [
    "**SUBMISSION GUIDELINES**\n",
    "\n",
    "1. First design, develop and test your code in a Jupyter notebook or other development environment\n",
    "   - You can expirement and try different things in this notebook\n",
    "2. Then copy your final code and markdown cells into the Jupyter Notebook file (.ipynb) provided for the assignment and submit to Blackboard\n",
    "   - **Your submission file should be named HW56FinalB.ipynb**\n",
    "   - I must be able to open and run your notebook in order to grade it\n",
    "3. Note that the Jupyter notebook provided for final submission may contain testing code to help you check that your output and expected match.  \n",
    "   - Follow the instructions in the notebook for copying your code and running the testing code\n",
    "   - The instructor may run additional tests to check that your code runs correctly\n",
    "4. If asked, also provide any supporting files or images requested in the assignment\n",
    "   - If there are multiple files to submit you should zip the files into one folder and submit the folder\n",
    "\n",
    "**GRADING CRITERIA:**\n",
    "1. Good documentation/comments and program readability using both markdown cells and code comments\n",
    "2. Algorithm/pseudo-code is explained in a markdown cell and is efficiently written\n",
    "3. Program runs correctly for test cases with no syntax errors or logical errors\n",
    "\n",
    "***The instructor should be able to reproduce your work from your notebook.***"
   ]
  },
  {
   "cell_type": "markdown",
   "metadata": {},
   "source": [
    "## 3. [20 points] Visualizing Recursion"
   ]
  },
  {
   "cell_type": "markdown",
   "metadata": {},
   "source": [
    "### Algorithm Steps:\n",
    "1. Establish base case\n",
    "2. Format output conditionally based on which step it is\n",
    "3. Return a recursive factorial function"
   ]
  },
  {
   "cell_type": "code",
   "execution_count": 16,
   "metadata": {},
   "outputs": [],
   "source": [
    "# Enter your code with comments here\n",
    "def factorial(number,step):\n",
    "    if number == 0:\n",
    "        return 1\n",
    "    else:\n",
    "        space = \"    \"\n",
    "        if number > 1:\n",
    "            print(f\"Step {step + 1} : {space * step}{number}*factorial({number - 1})\")\n",
    "        else:\n",
    "            print(f\"Step {step + 1} : {space * step} return 1\")\n",
    "        return number * factorial(number - 1, step + 1)"
   ]
  },
  {
   "cell_type": "code",
   "execution_count": 17,
   "metadata": {},
   "outputs": [
    {
     "name": "stdout",
     "output_type": "stream",
     "text": [
      "Step 1 : 5*factorial(4)\n",
      "Step 2 :     4*factorial(3)\n",
      "Step 3 :         3*factorial(2)\n",
      "Step 4 :             2*factorial(1)\n",
      "Step 5 :                  return 1\n",
      "Result =  120\n"
     ]
    }
   ],
   "source": [
    "# Run your code by calling the function \n",
    "# Always test your code to check that you get what you expect\n",
    "if __name__ == '__main__':\n",
    "    # Testing the factorial function\n",
    "    result = factorial(5,step=0)\n",
    "    print(\"Result = \",result)"
   ]
  },
  {
   "cell_type": "markdown",
   "metadata": {},
   "source": [
    "## 4. [25 points] Recursive Palindrome\n",
    "Write a main program that reads a string from the user. Use your recursive function to determine whether or not the string is a palindrome. Then display an appropriate message for the user. Benchmark the function running time and establish a best case and worst case Big-0."
   ]
  },
  {
   "cell_type": "markdown",
   "metadata": {},
   "source": [
    "### Algorithm Steps:\n",
    "1. Establish a conditional values for the base case (whether or not the left and right characters are the same)\n",
    "2. Call the recursive function as long as the left is to the left of right."
   ]
  },
  {
   "cell_type": "code",
   "execution_count": 15,
   "metadata": {},
   "outputs": [],
   "source": [
    "# Enter your code with comments here \n",
    "def test_palindrome(text, left, right):\n",
    "    \n",
    "    left = 0\n",
    "    right = len(text)-1\n",
    "\n",
    "    if left == right:\n",
    "        return True\n",
    "\n",
    "    if text[left] != text[right]:\n",
    "        return False\n",
    "\n",
    "    if left > right + 1:\n",
    "        return test_palindrome(text, left+1,right-1)\n",
    "    \n",
    "    return True"
   ]
  },
  {
   "cell_type": "code",
   "execution_count": 19,
   "metadata": {
    "code_folding": [],
    "scrolled": false
   },
   "outputs": [],
   "source": [
    "# Run your code by calling the function \n",
    "# Always test your code to check that you get what you expect\n",
    "if __name__ == '__main__':\n",
    "    # Testing the recursive palindrome\n",
    "    s = 'radar'\n",
    "    \n",
    "    test_palindrome(s, left = 0,right = len(s) - 1)\n",
    "    \n",
    "    s = 'hello'\n",
    "    \n",
    "    test_palindrome(s, left = 0,right = len(s) - 1)\n",
    "    \n",
    "    s = 'able was i ere i saw elba'\n",
    "    \n",
    "    test_palindrome(s, left = 0,right = len(s) - 1)    \n",
    "    s = 'a man a plan a canal panama'\n",
    "\n",
    "    test_palindrome(s, left = 0,right = len(s) - 1)     "
   ]
  },
  {
   "cell_type": "code",
   "execution_count": 20,
   "metadata": {
    "scrolled": true
   },
   "outputs": [
    {
     "name": "stdout",
     "output_type": "stream",
     "text": [
      "Trying:\n",
      "    result = factorial(5,step=0)\n",
      "Expecting:\n",
      "    Step 1 : 5*factorial(4)\n",
      "    Step 2 :     4*factorial(3)\n",
      "    Step 3 :         3*factorial(2)\n",
      "    Step 4 :             2*factorial(1)\n",
      "    Step 5 :                  return 1\n",
      "ok\n",
      "Trying:\n",
      "    print(\"Result = \",result)\n",
      "Expecting:\n",
      "    Result =  120\n",
      "ok\n",
      "Trying:\n",
      "    s = 'radar'\n",
      "Expecting nothing\n",
      "ok\n",
      "Trying:\n",
      "    print(test_palindrome(s, left=0, right=len(s) - 1))\n",
      "Expecting:\n",
      "    True\n",
      "ok\n",
      "Trying:\n",
      "    s = 'hello'\n",
      "Expecting nothing\n",
      "ok\n",
      "Trying:\n",
      "    print(test_palindrome(s, left=0, right=len(s) - 1))\n",
      "Expecting:\n",
      "    False\n",
      "ok\n",
      "Trying:\n",
      "    s = 'able was i ere i saw elba'\n",
      "Expecting nothing\n",
      "ok\n",
      "Trying:\n",
      "    print(test_palindrome(s, left=0, right=len(s) - 1))  \n",
      "Expecting:\n",
      "    True\n",
      "ok\n",
      "Trying:\n",
      "    s = 'a man a plan a canal panama'\n",
      "Expecting nothing\n",
      "ok\n",
      "Trying:\n",
      "    print(test_palindrome(s, left=0, right=len(s) - 1))\n",
      "Expecting:\n",
      "    True\n",
      "ok\n",
      "4 items had no tests:\n",
      "    __main__\n",
      "    __main__.factorial\n",
      "    __main__.p1_timeit_palindrome\n",
      "    __main__.test_palindrome\n",
      "2 items passed all tests:\n",
      "   2 tests in __main__.doc_test_factorial\n",
      "   8 tests in __main__.doc_test_palindrome\n",
      "10 tests in 6 items.\n",
      "10 passed and 0 failed.\n",
      "Test passed.\n"
     ]
    }
   ],
   "source": [
    "# *********************************************************************************\n",
    "# DOCTEST Module: RUN THIS CELL TO CHECK THAT YOUR CODE MATCHES THE EXPECTED OUTPUT\n",
    "#**********************************************************************************\n",
    "from doctest import testmod\n",
    "\n",
    "def doc_test_factorial():\n",
    "    \"\"\"\"\n",
    "    TESTS for factorial visualization\n",
    "\n",
    "    >>> result = factorial(5,step=0)\n",
    "    Step 1 : 5*factorial(4)\n",
    "    Step 2 :     4*factorial(3)\n",
    "    Step 3 :         3*factorial(2)\n",
    "    Step 4 :             2*factorial(1)\n",
    "    Step 5 :                  return 1\n",
    "    >>> print(\"Result = \",result)\n",
    "    Result =  120\n",
    "   \n",
    "    \"\"\"\n",
    "    \n",
    "def doc_test_palindrome():\n",
    "\n",
    "    \"\"\"\"\n",
    "    TESTS for recursive palindrome\n",
    "    >>> s = 'radar'\n",
    "    >>> print(test_palindrome(s, left=0, right=len(s) - 1))\n",
    "    True\n",
    "    >>> s = 'hello'\n",
    "    >>> print(test_palindrome(s, left=0, right=len(s) - 1))\n",
    "    False\n",
    "    >>> s = 'able was i ere i saw elba'\n",
    "    >>> print(test_palindrome(s, left=0, right=len(s) - 1))  \n",
    "    True\n",
    "    >>> s = 'a man a plan a canal panama'\n",
    "    >>> print(test_palindrome(s, left=0, right=len(s) - 1))\n",
    "    True\n",
    "    \"\"\"\n",
    "\n",
    "if __name__ == '__main__':\n",
    "\n",
    "    testmod(verbose=True)"
   ]
  },
  {
   "cell_type": "code",
   "execution_count": 82,
   "metadata": {},
   "outputs": [],
   "source": [
    "# Complete/Enter your code\n",
    "import matplotlib.pyplot as plt\n",
    "\n",
    "def plot_scenario(x,y1,Title):\n",
    "    \n",
    "    plt.plot(x, y1)\n",
    "\n",
    "    plt.title(Title)\n",
    "    "
   ]
  },
  {
   "cell_type": "code",
   "execution_count": 106,
   "metadata": {},
   "outputs": [],
   "source": [
    "# Complete the code\n",
    "def p1_timeit_palindrome(l):\n",
    "    palindrome = timeit.Timer(lambda: test_palindrome(l, 0, len(l)-1))\n",
    "    return palindrome.timeit(number=10000)"
   ]
  },
  {
   "cell_type": "markdown",
   "metadata": {},
   "source": [
    "## b) Benchmark test for palindrome strings 'aaa...aaa'"
   ]
  },
  {
   "cell_type": "code",
   "execution_count": 107,
   "metadata": {
    "scrolled": true
   },
   "outputs": [
    {
     "name": "stdout",
     "output_type": "stream",
     "text": [
      "Size  milliseconds\n",
      "100\t0.01318\n",
      "200\t0.00626\n",
      "300\t0.00687\n",
      "400\t0.00627\n",
      "500\t0.00583\n",
      "600\t0.00550\n",
      "700\t0.00521\n",
      "800\t0.00517\n",
      "900\t0.00456\n"
     ]
    }
   ],
   "source": [
    "# *******************************************************************************\n",
    "# ENTER YOUR FINAL CHECKED CODE AFTER THIS COMMENT BLOCK\n",
    "# *******************************************************************************\n",
    "import timeit\n",
    "\n",
    "t = []\n",
    "n = []\n",
    "print(\"Size  milliseconds\")\n",
    "for i in range(100,1000,100):\n",
    "    \n",
    "    # build a list of all a's  e.g. aaa....aaaa\n",
    "    l = \"a\" * i\n",
    "    \n",
    "    # create an iterator that is usable, rather than incremented by 100\n",
    "    loop_pass = int((i-1)/100)\n",
    "    \n",
    "    # add values to lists \n",
    "    n.append(i)\n",
    "    run_time  = p1_timeit_palindrome(l)\n",
    "    t.append(run_time)\n",
    "    \n",
    "    # print values related to whichever pass loop is on\n",
    "    # using the accumulator\n",
    "    print(f\"{n[loop_pass]}\\t{t[loop_pass]:.5f}\")\n",
    "    \n",
    "    loop_pass += 1\n",
    "    "
   ]
  },
  {
   "cell_type": "code",
   "execution_count": 108,
   "metadata": {},
   "outputs": [
    {
     "data": {
      "image/png": "[encoded data removed]",
      "text/plain": [
       "<Figure size 432x288 with 1 Axes>"
      ]
     },
     "metadata": {
      "needs_background": "light"
     },
     "output_type": "display_data"
    }
   ],
   "source": [
    "plot_scenario(n,t,\"Palindrome - All aaaa...\")"
   ]
  },
  {
   "cell_type": "markdown",
   "metadata": {},
   "source": [
    "## Question 1:  What does this data suggest for the big-O complexity for this algorithm using this data set? Explain why."
   ]
  },
  {
   "cell_type": "markdown",
   "metadata": {},
   "source": [
    "Answer: At first glance, the graph would indicate a (hypothetical) big-O complexity of $\\frac{1}{|x|}$. I believe it to be closer to constant (1) with there being spikes in overhead at particular moments. "
   ]
  },
  {
   "cell_type": "markdown",
   "metadata": {},
   "source": [
    "## c) Benchmark test for palindrome strings 'baa...aaa'"
   ]
  },
  {
   "cell_type": "code",
   "execution_count": 127,
   "metadata": {},
   "outputs": [
    {
     "name": "stdout",
     "output_type": "stream",
     "text": [
      "Size  milliseconds\n",
      "100\t0.008942\n",
      "200\t0.004937\n",
      "300\t0.005371\n",
      "400\t0.005006\n",
      "500\t0.004586\n",
      "600\t0.004543\n",
      "700\t0.004398\n",
      "800\t0.004260\n",
      "900\t0.003696\n"
     ]
    }
   ],
   "source": [
    "# *******************************************************************************\n",
    "# ENTER YOUR FINAL CHECKED CODE AFTER THIS COMMENT BLOCK\n",
    "# *******************************************************************************\n",
    "import timeit\n",
    "t = []\n",
    "n = []\n",
    "print(\"Size  milliseconds\")\n",
    "for i in range(100,1000,100):\n",
    "    \n",
    "    # build a list starting with b then all a's  e.g. baa....aaaa\n",
    "    l = f\"{'b'}{'a' * (i-1)}\"\n",
    "    \n",
    "    # create an iterator that is usable, rather than incremented by 100\n",
    "    loop_pass = int((i-1)/100)\n",
    "    \n",
    "    # add values to lists \n",
    "    n.append(i)\n",
    "    run_time  = p1_timeit_palindrome(l)\n",
    "    t.append(run_time)\n",
    "    \n",
    "    # print values related to whichever pass loop is on\n",
    "    # using the accumulator\n",
    "    print(f\"{n[loop_pass]}\\t{t[loop_pass]:.6f}\")\n",
    "    \n",
    "    loop_pass += 1\n",
    "    "
   ]
  },
  {
   "cell_type": "code",
   "execution_count": 128,
   "metadata": {
    "scrolled": true
   },
   "outputs": [
    {
     "data": {
      "image/png": "[encoded data removed]",
      "text/plain": [
       "<Figure size 432x288 with 1 Axes>"
      ]
     },
     "metadata": {
      "needs_background": "light"
     },
     "output_type": "display_data"
    }
   ],
   "source": [
    "    plot_scenario(n,t,\"Palindrome - All baaa...\")"
   ]
  },
  {
   "cell_type": "markdown",
   "metadata": {},
   "source": [
    "## Question 2: What does this data suggest for the big-O complexity for this algorithm using this data set? Explain why?"
   ]
  },
  {
   "cell_type": "markdown",
   "metadata": {},
   "source": [
    "Answer: As before, the graph would indicate a (hypothetical) big-O complexity of $\\frac{1}{|x|}$. I can't understand how this is happening, but this is what the graph indicates."
   ]
  },
  {
   "cell_type": "markdown",
   "metadata": {},
   "source": [
    "## Question 3: What is the best case and worst case Big-O for this algorithm?"
   ]
  },
  {
   "cell_type": "markdown",
   "metadata": {},
   "source": [
    "Answer: They are both equal according to my data, so I'd say both cases are $\\frac{1}{|x|}$."
   ]
  }
 ],
 "metadata": {
  "kernelspec": {
   "display_name": "Python 3",
   "language": "python",
   "name": "python3"
  },
  "language_info": {
   "codemirror_mode": {
    "name": "ipython",
    "version": 3
   },
   "file_extension": ".py",
   "mimetype": "text/x-python",
   "name": "python",
   "nbconvert_exporter": "python",
   "pygments_lexer": "ipython3",
   "version": "3.8.8"
  },
  "toc": {
   "base_numbering": 1,
   "nav_menu": {},
   "number_sections": true,
   "sideBar": true,
   "skip_h1_title": false,
   "title_cell": "Table of Contents",
   "title_sidebar": "Contents",
   "toc_cell": false,
   "toc_position": {},
   "toc_section_display": true,
   "toc_window_display": false
  }
 },
 "nbformat": 4,
 "nbformat_minor": 2
}
