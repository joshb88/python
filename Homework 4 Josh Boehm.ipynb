{
 "cells": [
  {
   "cell_type": "markdown",
   "metadata": {},
   "source": [
    "# Libraries/Imports"
   ]
  },
  {
   "cell_type": "code",
   "execution_count": 10,
   "metadata": {},
   "outputs": [],
   "source": [
    "import numpy as np\n",
    "import scipy as sp\n",
    "from numpy.linalg import solve\n",
    "from numpy.linalg import qr\n",
    "from numpy.linalg import svd\n",
    "from scipy.linalg import diagsvd\n",
    "from scipy.linalg import pinv\n",
    "from scipy.optimize import minimize\n",
    "import matplotlib.pyplot as plt"
   ]
  },
  {
   "cell_type": "markdown",
   "metadata": {},
   "source": [
    "# Question 1\n",
    "Given the data points\n",
    "$$(2,3), (3,2), (5,1), (6,0)$$\n",
    "derive the equation of the least-squares line\n",
    "$$y = mx + b$$\n",
    "that best fits the given data points. Solve the system using the QR factorization, the SVD, and the Normal Equations."
   ]
  },
  {
   "cell_type": "markdown",
   "metadata": {},
   "source": [
    "## QR Factorization\n",
    "The matrix created from the data points:\n",
    "$$\\begin{bmatrix}\n",
    "2, 1 \\\\ \n",
    "3, 1 \\\\\n",
    "5, 1 \\\\\n",
    "6, 1\n",
    "\\end{bmatrix}\n",
    "\\begin{bmatrix}\n",
    "m \\\\ b\n",
    "\\end{bmatrix}\n",
    "=\n",
    "\\begin{bmatrix}\n",
    "3 \\\\\n",
    "2 \\\\\n",
    "1 \\\\\n",
    "0\n",
    "\\end{bmatrix}\n",
    "$$\n",
    "\n",
    "To solve using $QR$ factorization, we first factor $A$ as $QR$. <br>\n",
    "Next, we pre-multiply with $Q^T$, giving $Rx=Q^Tb$ ($Q^TQ$ is the identity matrix)<br>\n",
    "Now, we can call `solve()` with $R$ and $Q^Tb$"
   ]
  },
  {
   "cell_type": "code",
   "execution_count": 3,
   "metadata": {},
   "outputs": [],
   "source": [
    "A = np.matrix([[2,1],[3,1],[5,1],[6,1]])\n",
    "b = np.matrix([3,2,1,0]).T"
   ]
  },
  {
   "cell_type": "code",
   "execution_count": 4,
   "metadata": {},
   "outputs": [
    {
     "data": {
      "text/plain": [
       "matrix([[-0.7],\n",
       "        [ 4.3]])"
      ]
     },
     "execution_count": 4,
     "metadata": {},
     "output_type": "execute_result"
    }
   ],
   "source": [
    "Q, R = qr(A)\n",
    "\n",
    "x = solve(R, Q.T @ b)\n",
    "x"
   ]
  },
  {
   "cell_type": "markdown",
   "metadata": {},
   "source": [
    "### Solution\n",
    "$$x = \\begin{bmatrix} -0.7 \\\\ 4.3 \\end{bmatrix}$$"
   ]
  },
  {
   "cell_type": "markdown",
   "metadata": {},
   "source": [
    "## SVD Factorization\n",
    "To solve using $SVD$ factorization, we first factor $A$ as $SVD$.    \n",
    "Now, we create the pseudo-inverse by taking the transpose of the the parts in reverse order, except with $\\Sigma$, we take the take the  reciprocals before transposing.    \n",
    "Last, we can call pre-multiply $b$ with $A^\\dagger$, as $A^\\dagger A$ is the identity matrix\n",
    "\n",
    "$$\n",
    "Ax = b \\\\\n",
    "U \\Sigma V^T x = b \\\\\n",
    "A^\\dagger = V \\Sigma^\\dagger U^T \\\\\n",
    "A^TA = I \\\\\n",
    "Ix = A^\\dagger b \\\\\n",
    "x = A^\\dagger b \\space\\space \\text{or} \\space\\space V \\Sigma^\\dagger U^T b\n",
    "$$"
   ]
  },
  {
   "cell_type": "code",
   "execution_count": 5,
   "metadata": {},
   "outputs": [
    {
     "name": "stdout",
     "output_type": "stream",
     "text": [
      "[[ 1.00000000e+00 -5.55111512e-17]\n",
      " [-2.22044605e-15  1.00000000e+00]]\n"
     ]
    },
    {
     "data": {
      "text/plain": [
       "matrix([[-0.7],\n",
       "        [ 4.3]])"
      ]
     },
     "execution_count": 5,
     "metadata": {},
     "output_type": "execute_result"
    }
   ],
   "source": [
    "U, sigma, VT = svd(A)\n",
    "Sigma = diagsvd(sigma, len(A), len(A.T))\n",
    "PseudoA = (VT).T @ pinv(Sigma) @ U.T \n",
    "\n",
    "print(PseudoA @ A)\n",
    "x = PseudoA @  b\n",
    "x"
   ]
  },
  {
   "cell_type": "markdown",
   "metadata": {},
   "source": [
    "### Solution\n",
    "$$x = \\begin{bmatrix} -0.7 \\\\ 4.3 \\end{bmatrix}$$"
   ]
  },
  {
   "cell_type": "markdown",
   "metadata": {},
   "source": [
    "# Normal Equations\n",
    "\n",
    "The normal equation is that which minimizes the sum of the square differences between the left and right sides:<br>\n",
    "$$\n",
    "A^TAx = A^Tb\n",
    "$$\n",
    "\n",
    "In this case, I would just use `solve(A.T @ A, A.T @ b)` and see. You could utilize QR factorizations (or any other for that matter)."
   ]
  },
  {
   "cell_type": "markdown",
   "metadata": {},
   "source": [
    "### Solution"
   ]
  },
  {
   "cell_type": "code",
   "execution_count": 6,
   "metadata": {},
   "outputs": [
    {
     "name": "stdout",
     "output_type": "stream",
     "text": [
      "[[-0.7]\n",
      " [ 4.3]]\n",
      "\n",
      "[[-0.7]\n",
      " [ 4.3]]\n",
      "\n",
      "[[-0.7]\n",
      " [ 4.3]]\n"
     ]
    }
   ],
   "source": [
    "solvex = solve(A.T @ A, A.T @ b)\n",
    "solveqr = solve(R.T @ Q.T @ Q @ R, R.T @ Q.T @ b)\n",
    "solvesvd = solve(VT.T @ Sigma.T @ U.T @ U @ Sigma @ VT, VT.T @ Sigma.T @ U.T @ b)\n",
    "\n",
    "print(f\"{solvex}\\n\\n{solveqr}\\n\\n{solvesvd}\")"
   ]
  },
  {
   "cell_type": "code",
   "execution_count": 8,
   "metadata": {},
   "outputs": [
    {
     "data": {
      "text/plain": [
       "[<matplotlib.lines.Line2D at 0x13eef1c90>]"
      ]
     },
     "execution_count": 8,
     "metadata": {},
     "output_type": "execute_result"
    },
    {
     "data": {
      "image/png": "[encoded data removed]",
      "text/plain": [
       "<Figure size 432x288 with 1 Axes>"
      ]
     },
     "metadata": {
      "needs_background": "light"
     },
     "output_type": "display_data"
    }
   ],
   "source": [
    "X1 = np.array(A[:,0])\n",
    "Y1 = np.array(b)\n",
    "x = np.linspace(0,7,35)\n",
    "y = (-0.7)*x+(4.3)\n",
    "plt.scatter(X1,Y1, edgecolor='k',c='none',s=50)\n",
    "plt.plot(x,y, \"r--\")"
   ]
  },
  {
   "cell_type": "markdown",
   "metadata": {},
   "source": [
    "# Question 2\n",
    "Use functions from `scipy.optimize.minimize` to minimize:<br><br>\n",
    "The Rosenbrock function\n",
    "$$\n",
    "f(x_1,x_2)=(7−x_1)^2 +100(x_2 −x^2_1)^2 +10\n",
    "$$"
   ]
  },
  {
   "cell_type": "code",
   "execution_count": 9,
   "metadata": {},
   "outputs": [
    {
     "ename": "AttributeError",
     "evalue": "module 'scipy' has no attribute 'optimize'",
     "output_type": "error",
     "traceback": [
      "\u001b[0;31m---------------------------------------------------------------------------\u001b[0m",
      "\u001b[0;31mAttributeError\u001b[0m                            Traceback (most recent call last)",
      "\u001b[1;32m/Users/jb/Documents/Joshua's Schoolwork/2022-2 Fall/MATH 3423 - Advanced Linear Algebra & Optimization /Homework/Homework 4/Homework 4 Josh Boehm.ipynb Cell 17\u001b[0m in \u001b[0;36m<cell line: 1>\u001b[0;34m()\u001b[0m\n\u001b[0;32m----> <a href='vscode-notebook-cell:/Users/jb/Documents/Joshua%27s%20Schoolwork/2022-2%20Fall/MATH%203423%20-%20Advanced%20Linear%20Algebra%20%26%20Optimization%20/Homework/Homework%204/Homework%204%20Josh%20Boehm.ipynb#X22sZmlsZQ%3D%3D?line=0'>1</a>\u001b[0m sp\u001b[39m.\u001b[39;49moptimize\u001b[39m.\u001b[39mminimize()\n",
      "\u001b[0;31mAttributeError\u001b[0m: module 'scipy' has no attribute 'optimize'"
     ]
    }
   ],
   "source": [
    "minimize()"
   ]
  },
  {
   "cell_type": "markdown",
   "metadata": {},
   "source": [
    "# Question 3\n",
    "Use functions from `scipy.optimize.minimize` to minimize:<br><br>\n",
    "The Booth function\n",
    "$$\n",
    "f(x_1,x_2)=(x_1 +2x_2 −7)^2 +(2x_1 +x_2 −5)^2\n",
    "$$"
   ]
  },
  {
   "cell_type": "code",
   "execution_count": 11,
   "metadata": {},
   "outputs": [
    {
     "name": "stdout",
     "output_type": "stream",
     "text": [
      " \n",
      "The Minimum Occurs at (x, y) = (x0, x1) =  [-0.92857143  2.35714286]\n",
      " \n",
      "And The Minimum Value =  -37.35714285714286\n",
      " \n",
      "Other Statistics:\n",
      "     fun: -37.35714285714286\n",
      "     jac: array([-4.26325641e-14,  2.48689958e-14])\n",
      " message: 'Optimization terminated successfully.'\n",
      "    nfev: 5\n",
      "     nit: 2\n",
      "    njev: 5\n",
      "  status: 0\n",
      " success: True\n",
      "       x: array([-0.92857143,  2.35714286])\n"
     ]
    },
    {
     "name": "stderr",
     "output_type": "stream",
     "text": [
      "/Library/Frameworks/Python.framework/Versions/3.10/lib/python3.10/site-packages/scipy/optimize/_minimize.py:547: RuntimeWarning: Method CG does not use Hessian information (hess).\n",
      "  warn('Method %s does not use Hessian information (hess).' % method,\n",
      "/var/folders/90/b16ybj8s2gv__lhxf5ttmvj40000gn/T/ipykernel_99917/3003740835.py:61: MatplotlibDeprecationWarning: Calling gca() with keyword arguments was deprecated in Matplotlib 3.4. Starting two minor releases later, gca() will take no keyword arguments. The gca() function should only be used to get the current axes, or if no axes exist, create new axes with default keyword arguments. To create a new axes with non-default arguments, use plt.axes() or plt.subplot().\n",
      "  ax = fig.gca(projection='3d')\n"
     ]
    },
    {
     "data": {
      "image/png": "[encoded data removed]",
      "text/plain": [
       "<Figure size 432x288 with 1 Axes>"
      ]
     },
     "metadata": {
      "needs_background": "light"
     },
     "output_type": "display_data"
    }
   ],
   "source": [
    "'''\n",
    "Function Optimization Using ==> scipy.opimize\n",
    "The Following Minimization Algoriths Are Implemented:\n",
    "    minimize(method=’Nelder-Mead’)  <=\n",
    "    minimize(method=’Powell’)       <=\n",
    "    minimize(method=’CG’)           <=\n",
    "    minimize(method=’BFGS’)         <=\n",
    "    minimize(method=’Newton-CG’)    <= Requires The Gradient & Hessian\n",
    "    minimize(method=’L-BFGS-B’)     <=\n",
    "    minimize(method=’TNC’)          <= \n",
    "    minimize(method=’COBYLA’)       <= \n",
    "    minimize(method=’SLSQP’)        <= \n",
    "    minimize(method=’trust-constr’) <=\n",
    "    minimize(method=’dogleg’)       <= Requires The Gradient & Hessian\n",
    "    minimize(method=’trust-ncg’)    <= Requires The Gradient & Hessian\n",
    "    minimize(method=’trust-krylov’) <= Requires The Gradient & Hessian\n",
    "    minimize(method=’trust-exact’)  <= Requires The Gradient & Hessian \n",
    "'''\n",
    "# Function Minimization:\n",
    "#\n",
    "from numpy import array\n",
    "from scipy.optimize import minimize\n",
    "\n",
    "a = 5 ; b = 30; c = 0 \n",
    "#def f(x): \n",
    "#    return (a - x[0])**2 + b*(x[1] - x[0]**2)**2 + c\n",
    "\n",
    "#def gradient(x):\n",
    "#    return array([-2*(a - x[0]) - 4.*b*x[0]*(x[1] - x[0]**2), \n",
    "#                     2*b*(x[1] - x[0]**2)])\n",
    "\n",
    "#def hessian(x):\n",
    "#    return array([[2 - 4*b*x[1] + 12*b*x[0]**2, -4*b*x[0] ], \n",
    "#                  [-4*b*x[0], 2*b]])\n",
    "\n",
    "def f(x): \n",
    "    return 5.*x[0]**2 + 3.*x[1]**2 - 2.*x[0]*x[1] + 14.*x[0] - 16.*x[1] - 12.0\n",
    "def gradient(x):\n",
    "      return array([10.*x[0] - 2.* x[1] +14, -2*x[0]+ 6*x[1] - 16])\n",
    "def hessian(x):\n",
    "    return array([[10,-2], [-2,6]])\n",
    "\n",
    "x0 = array([0, 0])\n",
    "result = minimize(f, x0, method = 'CG',\n",
    "                  jac = gradient, hess = hessian, tol=1.e-7)\n",
    "print(\" \")\n",
    "print(\"The Minimum Occurs at (x, y) = (x0, x1) = \", result.x)\n",
    "print(\" \")\n",
    "print(\"And The Minimum Value = \", f(result.x) ) \n",
    "print(\" \")\n",
    "print(\"Other Statistics:\" ) \n",
    "print( result )          \n",
    "#\n",
    "# Plot Function: \n",
    "#      \n",
    "from numpy import linspace, meshgrid\n",
    "import matplotlib.pyplot as plt\n",
    "from matplotlib import cm\n",
    "\n",
    "fig = plt.figure()\n",
    "ax = fig.gca(projection='3d') \n",
    "\n",
    "x = linspace( -1, 1, 20)\n",
    "y = linspace( -1, 1, 20)\n",
    " \n",
    "x, y = meshgrid(x,y)\n",
    "z = x**2 - y**2\n",
    "#z = ( a - x )**2 + b *( y - x**2 )**2 + c\n",
    "\n",
    "surf = ax.plot_surface(x, y, z, \n",
    "       rstride=1, cstride=1, cmap=cm.jet, linewidth=0)\n",
    "plt.show()"
   ]
  }
 ],
 "metadata": {
  "kernelspec": {
   "display_name": "Python 3.10.4 64-bit",
   "language": "python",
   "name": "python3"
  },
  "language_info": {
   "codemirror_mode": {
    "name": "ipython",
    "version": 3
   },
   "file_extension": ".py",
   "mimetype": "text/x-python",
   "name": "python",
   "nbconvert_exporter": "python",
   "pygments_lexer": "ipython3",
   "version": "3.10.4"
  },
  "orig_nbformat": 4,
  "vscode": {
   "interpreter": {
    "hash": "aee8b7b246df8f9039afb4144a1f6fd8d2ca17a180786b69acc140d282b71a49"
   }
  }
 },
 "nbformat": 4,
 "nbformat_minor": 2
}
