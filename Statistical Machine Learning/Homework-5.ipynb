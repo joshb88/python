{
 "cells": [
  {
   "cell_type": "code",
   "execution_count": 221,
   "metadata": {},
   "outputs": [],
   "source": [
    "import numpy as np\n",
    "import pandas as pd\n",
    "import matplotlib.pyplot as plt\n",
    "import seaborn as sns\n",
    "\n",
    "from sklearn.model_selection import train_test_split\n",
    "from sklearn.preprocessing import LabelEncoder, StandardScaler\n",
    "from sklearn.neighbors import KNeighborsRegressor\n",
    "from sklearn.metrics import confusion_matrix, accuracy_score, classification_report, mean_squared_error\n",
    "from sklearn.model_selection import cross_val_score, GridSearchCV, RandomizedSearchCV"
   ]
  },
  {
   "cell_type": "markdown",
   "metadata": {},
   "source": [
    "Consider the Abalone data set available at UCI ML Repository."
   ]
  },
  {
   "cell_type": "code",
   "execution_count": 222,
   "metadata": {},
   "outputs": [],
   "source": [
    "url = \"https://archive.ics.uci.edu/ml/machine-learning-databases/abalone/abalone.data\"\n",
    "df = pd.read_csv(url)"
   ]
  },
  {
   "cell_type": "markdown",
   "metadata": {},
   "source": [
    "Change the names of the columns using the following code"
   ]
  },
  {
   "cell_type": "code",
   "execution_count": 223,
   "metadata": {},
   "outputs": [],
   "source": [
    "df.columns = [\"Sex\", \"Length\", \"Diameter\", \"Height\", \"Whole weight\", \"Shucked weight\", \"Viscera weight\", \"Shell weight\", \"Rings\"]\n",
    "le = LabelEncoder()\n",
    "le.fit(df[\"Sex\"])\n",
    "list(le.classes_)\n",
    "le.transform(df[\"Sex\"])\n",
    "df[\"Sex\"] = le.transform(df[\"Sex\"])\n",
    "# 0 = Female, 1 = I, 2 = Male\n",
    "\n",
    "X = df.loc[:, df.columns != \"Rings\"]\n",
    "y = df[\"Rings\"]"
   ]
  },
  {
   "cell_type": "markdown",
   "metadata": {},
   "source": [
    "The goal of this homework is to use K-Nearest Neighbors Regressor to predict the number of\n",
    "rings `df[\"Rings\"]` (target variable) using the features given. Note that one of the features\n",
    "is categorical and you can choose to drop it or to encode it numerically.\n",
    "\n",
    "You can either use the code we created from scratch and modify it for this problem or you can use `sklearn KNeighborsRegressor`."
   ]
  },
  {
   "cell_type": "markdown",
   "metadata": {},
   "source": [
    "Divide the data set into subsets for training and testing."
   ]
  },
  {
   "cell_type": "code",
   "execution_count": 224,
   "metadata": {},
   "outputs": [],
   "source": [
    "X_train, X_test, y_train, y_test = train_test_split(X, y, test_size= 0.2, random_state=42)"
   ]
  },
  {
   "cell_type": "markdown",
   "metadata": {},
   "source": [
    "Since this is a regression problem, the appropriate error functions you may use are MSE,\n",
    "MAE, and RMSE. Consider several different choices of the hyper-parameter K and see how\n",
    "the error changes with respect to K.\n",
    "\n",
    "Use GridSearchCV to select the optimal values of K (and maybe other hyper-parameters)\n",
    "and report the model performance."
   ]
  },
  {
   "cell_type": "markdown",
   "metadata": {},
   "source": [
    "Before we get started building the model, I'm going to standardize the data. The data seems to be nearly the same scale throughout the regressors, but it seems good practice for KNN."
   ]
  },
  {
   "cell_type": "code",
   "execution_count": 225,
   "metadata": {},
   "outputs": [],
   "source": [
    "standard_scaler = StandardScaler()\n",
    "X_train_standardized = standard_scaler.fit_transform(X_train)\n",
    "X_test_standardized = standard_scaler.transform(X_test)"
   ]
  },
  {
   "cell_type": "markdown",
   "metadata": {},
   "source": [
    "Now, we will use GridSearch Cross Validation to find the optimal hyper-parameters"
   ]
  },
  {
   "cell_type": "code",
   "execution_count": 226,
   "metadata": {},
   "outputs": [
    {
     "data": {
      "text/plain": [
       "{'n_neighbors': 24, 'p': 2, 'weights': 'distance'}"
      ]
     },
     "execution_count": 226,
     "metadata": {},
     "output_type": "execute_result"
    }
   ],
   "source": [
    "knn = KNeighborsRegressor()\n",
    "#create a dictionary of all values we want to test for n_neighbors and p norms\n",
    "param_grid = {\"n_neighbors\": np.arange(1, 25), \"p\": [1,2], \"weights\": [\"uniform\", \"distance\"]}\n",
    "#use gridsearch to test all values for n_neighbors and norms\n",
    "knn_gscv = GridSearchCV(knn, {\"n_neighbors\": range(1, 26), \n",
    "                              \"p\": [1,2], \n",
    "                              \"weights\": [\"uniform\", \"distance\"]}, \n",
    "                              cv=5)\n",
    "#fit model to data\n",
    "knn_gscv.fit(X_train_standardized, y_train)\n",
    "#check top performing n_neighbors/norm values\n",
    "knn_gscv.best_params_\n",
    "# knn_gscv.best_score_"
   ]
  },
  {
   "cell_type": "markdown",
   "metadata": {},
   "source": [
    "In the interest of completeness/visualization: we will graph the RMSE of each iteration of k, from 1 to 25."
   ]
  },
  {
   "cell_type": "code",
   "execution_count": 227,
   "metadata": {},
   "outputs": [
    {
     "data": {
      "text/plain": [
       "Text(0, 0.5, 'MSE')"
      ]
     },
     "execution_count": 227,
     "metadata": {},
     "output_type": "execute_result"
    },
    {
     "data": {
      "image/png": "[encoded data removed]",
      "text/plain": [
       "<Figure size 720x720 with 1 Axes>"
      ]
     },
     "metadata": {
      "needs_background": "light"
     },
     "output_type": "display_data"
    }
   ],
   "source": [
    "fig,ax=plt.subplots(figsize=(10,10))\n",
    "k_list=np.arange(1,25,1)\n",
    "knn_dict={} # To store k and mse pairs\n",
    "for i in k_list:\n",
    "#Knn Model Creation\n",
    "    knn=KNeighborsRegressor(n_neighbors=int(i), weights= \"distance\", p = 2)\n",
    "    model_knn=knn.fit(X_train_standardized,y_train)\n",
    "    y_knn_pred=model_knn.predict(X_test_standardized)\n",
    "#Storing MSE \n",
    "    mse=mean_squared_error(y_test,y_knn_pred)\n",
    "    knn_dict[i]=mse\n",
    "#Plotting the results\n",
    "ax.plot(knn_dict.keys(),knn_dict.values())\n",
    "ax.set_xlabel('K-VALUE', fontsize=20)\n",
    "ax.set_ylabel('MSE' ,fontsize=20)"
   ]
  },
  {
   "cell_type": "markdown",
   "metadata": {},
   "source": [
    "Here, the lowest error is `k=7`, so perhaps we can make a model for each and compare."
   ]
  },
  {
   "cell_type": "code",
   "execution_count": 228,
   "metadata": {},
   "outputs": [
    {
     "data": {
      "text/plain": [
       "0.5430104145092629"
      ]
     },
     "execution_count": 228,
     "metadata": {},
     "output_type": "execute_result"
    }
   ],
   "source": [
    "model = KNeighborsRegressor(n_neighbors=24,p=2,weights=\"distance\")\n",
    "model.fit(X_train_standardized,y_train)\n",
    "\n",
    "y_pred = model.predict(X_test_standardized)\n",
    "model.score(X_test_standardized, y_test)"
   ]
  },
  {
   "cell_type": "code",
   "execution_count": 229,
   "metadata": {},
   "outputs": [
    {
     "data": {
      "text/plain": [
       "0.5446261074648935"
      ]
     },
     "execution_count": 229,
     "metadata": {},
     "output_type": "execute_result"
    }
   ],
   "source": [
    "model2 = KNeighborsRegressor(n_neighbors=7,p=2,weights=\"distance\")\n",
    "model2.fit(X_train_standardized,y_train)\n",
    "\n",
    "y_pred = model2.predict(X_test_standardized)\n",
    "model2.score(X_test_standardized, y_test)"
   ]
  },
  {
   "cell_type": "markdown",
   "metadata": {},
   "source": [
    "Apparently, the model scores better with `k=7` as compared to `k=24`. It is strange that GridSearch would suggest 24."
   ]
  },
  {
   "cell_type": "code",
   "execution_count": 230,
   "metadata": {},
   "outputs": [],
   "source": [
    "# performance = pd.DataFrame({ 'True Value': y_test,\n",
    "#                             'Prediction': y_pred,\n",
    "#                             'Error': y_test - y_pred})\n",
    "\n",
    "# performance"
   ]
  }
 ],
 "metadata": {
  "kernelspec": {
   "display_name": "Python 3",
   "language": "python",
   "name": "python3"
  },
  "language_info": {
   "codemirror_mode": {
    "name": "ipython",
    "version": 3
   },
   "file_extension": ".py",
   "mimetype": "text/x-python",
   "name": "python",
   "nbconvert_exporter": "python",
   "pygments_lexer": "ipython3",
   "version": "3.10.11"
  }
 },
 "nbformat": 4,
 "nbformat_minor": 2
}
