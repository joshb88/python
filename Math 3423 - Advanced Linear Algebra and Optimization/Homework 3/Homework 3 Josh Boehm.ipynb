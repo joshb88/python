{
 "cells": [
  {
   "cell_type": "markdown",
   "metadata": {},
   "source": [
    "##### Joshua Boehm\n",
    "##### 10 October 2022\n",
    "##### MATH 3423"
   ]
  },
  {
   "cell_type": "markdown",
   "metadata": {},
   "source": [
    "# Libraries"
   ]
  },
  {
   "cell_type": "code",
   "execution_count": 1,
   "metadata": {},
   "outputs": [],
   "source": [
    "import numpy as np\n",
    "import scipy as sp"
   ]
  },
  {
   "attachments": {},
   "cell_type": "markdown",
   "metadata": {},
   "source": [
    "# Preface\n",
    "\n",
    "\n",
    "Let $A$ be a (4 x 3) randomly generated matrix `A = np.random.randint( 0, 5, size = (4, 3))` with integer elements in the interval [0, 5);<br>\n",
    "let $b$ be a (4 x 1) randomly generated vector `b = np.random.randint( -1, 3, size = (4, 1))` with integer elements in the interval [-1, 3);<br>\n",
    "and let $c$ be a (3 x 1) randomly generated vector `c = np.random.randint( -1, 3, size = (3, 1))` with integer elements in the interval [-1, 3)."
   ]
  },
  {
   "cell_type": "code",
   "execution_count": 2,
   "metadata": {},
   "outputs": [
    {
     "name": "stdout",
     "output_type": "stream",
     "text": [
      "Matrix A:\n",
      "[[3 3 1]\n",
      " [1 2 3]\n",
      " [3 1 1]\n",
      " [2 2 1]]\n",
      "\n",
      "Matrix b:\n",
      "[[ 1]\n",
      " [ 0]\n",
      " [-1]\n",
      " [ 2]]\n",
      "\n",
      "Matrix c:\n",
      "[[2]\n",
      " [0]\n",
      " [0]]\n"
     ]
    }
   ],
   "source": [
    "# Assigning the randomly generated matrices to variables in order to manipulate below without mutating them.\n",
    "m = 4 ; n = 3\n",
    "a = np.random.randint(0,5, size = (m,n))\n",
    "B = np.random.randint(-1,3, size = (4,1))\n",
    "C = np.random.randint(-1,3, size = (3,1))\n",
    "\n",
    "print(\n",
    "f\"Matrix A:\\n{a}\\n\\n\\\n",
    "Matrix b:\\n{B}\\n\\n\\\n",
    "Matrix c:\\n{C}\")"
   ]
  },
  {
   "cell_type": "code",
   "execution_count": 3,
   "metadata": {},
   "outputs": [],
   "source": [
    "A = a\n",
    "b = B\n",
    "c = C"
   ]
  },
  {
   "cell_type": "markdown",
   "metadata": {},
   "source": [
    "# Question 1\n",
    "\n",
    "Find the $QR$ factorizations of $A$ and $A^T$ and use them to solve $Ax = b$ and $A^Ty=c$."
   ]
  },
  {
   "cell_type": "markdown",
   "metadata": {},
   "source": [
    "## QR factorization of $A$"
   ]
  },
  {
   "cell_type": "code",
   "execution_count": 18,
   "metadata": {},
   "outputs": [
    {
     "name": "stdout",
     "output_type": "stream",
     "text": [
      "QR Factorization of Rectangular ( m x n ) Matrix A \n",
      " -------------------------------------------------- \n",
      " \n",
      "The 4 x 3 Matrix A: \n",
      "[[3 3 1]\n",
      " [1 2 3]\n",
      " [3 1 1]\n",
      " [2 2 1]]\n",
      "\n",
      "The 4 x 1 Matrix b: \n",
      "[[ 1]\n",
      " [ 0]\n",
      " [-1]\n",
      " [ 2]]\n",
      "\n",
      "The 3 x 1 Matrix c: \n",
      "[[2]\n",
      " [0]\n",
      " [0]]\n",
      "--------------------------------------------------\n",
      "---- QR Solution of  A x = Q R x = b -----\n",
      "---- From The Solution of R x = Q.T b -----\n",
      " \n",
      "---- Solution Vector x =  -----\n",
      "[[-0.53]\n",
      " [ 1.28]\n",
      " [-0.63]]\n",
      "=========================================================\n"
     ]
    }
   ],
   "source": [
    "# QR Factorization of Rectangular ( m x n ) Matrix A\n",
    "\n",
    "from scipy.linalg import qr, solve\n",
    "\n",
    "print(f\"\\\n",
    "QR Factorization of Rectangular ( m x n ) Matrix A \\n \\\n",
    "-------------------------------------------------- \\n \\\n",
    "\")\n",
    "# Enter m-Rows & n-Columns Of Coefficient Matrix A:\n",
    "m = 4 ; n = 3\n",
    "# If choice = 0, mode='economic' Q is (m x n) & R is (n x n)\n",
    "# If choice = 1, mode='full'     Q is (m x m) & R is (m x n)\n",
    "choice = 0\n",
    "\n",
    "print(f\"The {m} x {n} Matrix A: \\n{A}\\n\")\n",
    "print(f\"The {m} x {1} Matrix b: \\n{b}\\n\")\n",
    "print(f\"The {n} x {1} Matrix c: \\n{c}\")\n",
    "print(\"--------------------------------------------------\")\n",
    "\n",
    "# QR - Factorization of A\n",
    "# if choice == 0: \n",
    "#      Q, R = qr(A, mode='economic')\n",
    "# else:\n",
    "#      Q, R = qr(A, mode='full')\n",
    "\n",
    "'''\n",
    "# This is just to see what's going on.\n",
    "print(\"Matrix Q (\", m, \"x\", n, \")  OR  (\", m, \"x\", m, \")\")\n",
    "print(Q)\n",
    "print(\"--------------------------------------------------\")\n",
    "print(\"Matrix Q^T Q = I is (\", n, \" x \", n, \")  OR  (\", m, \" x \", m, \")\")\n",
    "print(Q.T @ Q )\n",
    "print(\"--------------------------------------------------\")\n",
    "print(\"Matrix R (\", n, \"x\", n, \")  OR  (\", m, \"x\", n, \")\")\n",
    "print(R)\n",
    "print(\"--------------------------------------------------\")\n",
    "print(\"Reconstruct A from QR\")\n",
    "print( Q @ R )\n",
    "'''\n",
    "\n",
    "\n",
    "Q, R = qr(A, mode='economic')\n",
    "x = solve(R, Q.T @ b)\n",
    "print(\"---- QR Solution of  A x = Q R x = b -----\")\n",
    "print(\"---- From The Solution of R x = Q.T b -----\")\n",
    "print(\" \")\n",
    "print(\"---- Solution Vector x =  -----\")\n",
    "print(x.round(2))\n",
    "\n",
    "print(\"=========================================================\")"
   ]
  },
  {
   "cell_type": "markdown",
   "metadata": {},
   "source": [
    "## QR factorization of $A^T$"
   ]
  },
  {
   "cell_type": "code",
   "execution_count": 61,
   "metadata": {},
   "outputs": [
    {
     "name": "stdout",
     "output_type": "stream",
     "text": [
      "[[-0.69  0.35  0.63]\n",
      " [-0.69 -0.04 -0.72]\n",
      " [-0.23 -0.93  0.27]]\n",
      " \n",
      "[[-4.36 -2.75 -2.98 -2.98]\n",
      " [ 0.   -2.53  0.08 -0.31]\n",
      " [ 0.    0.    1.45  0.09]]\n",
      " \n",
      "[[-0.62]\n",
      " [-0.36]\n",
      " [ 0.82]\n",
      " [ 0.87]]\n"
     ]
    },
    {
     "name": "stderr",
     "output_type": "stream",
     "text": [
      "/var/folders/90/b16ybj8s2gv__lhxf5ttmvj40000gn/T/ipykernel_30424/3152074972.py:15: LinAlgWarning: Ill-conditioned matrix (rcond=1.0502e-17): result may not be accurate.\n",
      "  y = solve(R.T @ R, A @ c)\n"
     ]
    },
    {
     "data": {
      "text/plain": [
       "array([[ 8.88178420e-16],\n",
       "       [-4.44089210e-16],\n",
       "       [ 3.33066907e-16]])"
      ]
     },
     "execution_count": 61,
     "metadata": {},
     "output_type": "execute_result"
    }
   ],
   "source": [
    "# Q, R = qr(A, mode = 'economic')\n",
    "\n",
    "# z = solve(R.T, c)\n",
    "# y = solve(Q @ Q.T, Q @ z)\n",
    "\n",
    "# print(y.round(2))\n",
    "\n",
    "\n",
    "Q, R = qr(A.T, mode = 'economic')\n",
    "\n",
    "print(Q.round(2))\n",
    "print(\" \")\n",
    "print(R.round(2))\n",
    "\n",
    "y = solve(R.T @ R, A @ c)\n",
    "print(\" \")\n",
    "print(y.round(2))\n",
    "\n",
    "A.T @ y - c"
   ]
  },
  {
   "cell_type": "markdown",
   "metadata": {},
   "source": [
    "As is typical with $A^T$, the resulting matrices are ill-conditioned and never seem accurate."
   ]
  },
  {
   "cell_type": "markdown",
   "metadata": {},
   "source": [
    "# Question 2\n",
    "\n",
    "Find the $SVD$ factorizations of $A$ and $A^T$ and use them to solve $Ax=b$ and $A^Ty=c$."
   ]
  },
  {
   "cell_type": "markdown",
   "metadata": {},
   "source": [
    "## Solutions"
   ]
  },
  {
   "cell_type": "markdown",
   "metadata": {},
   "source": [
    "### $Ax = b$ variant"
   ]
  },
  {
   "cell_type": "code",
   "execution_count": 46,
   "metadata": {},
   "outputs": [
    {
     "name": "stdout",
     "output_type": "stream",
     "text": [
      "------------------------------------\n",
      "Perform Singular Value Decomposition\n",
      "------------------------------------\n",
      "The A matrix:\n",
      "[[3 3 1]\n",
      " [1 2 3]\n",
      " [3 1 1]\n",
      " [2 2 1]]\n",
      "------------------------------------\n",
      "The (4 x 4) U Matrix\n",
      "[[-0.62576268  0.29780378  0.5318758  -0.48666426]\n",
      " [-0.46513892 -0.86339719 -0.16277336 -0.10814761]\n",
      " [-0.44737015  0.39839638 -0.79888441 -0.05407381]\n",
      " [-0.43809451  0.08448975  0.22890319  0.86518091]]\n",
      "------------------------------------\n",
      "The (4 x 3) Singular Values of A\n",
      "[[6.80551246 0.         0.        ]\n",
      " [0.         2.2997395  0.        ]\n",
      " [0.         0.         1.18160842]\n",
      " [0.         0.         0.        ]]\n",
      "------------------------------------\n",
      "The (3 x 3 V^T Matrix\n",
      "[[-0.6701518  -0.6070263  -0.42710143]\n",
      " [ 0.60623509 -0.1156684  -0.78682898]\n",
      " [-0.42822375  0.78621873 -0.44551603]]\n",
      "------------------------------------\n",
      "Reconstructed Original (4 x 3 Matrix A From SVD Factors\n",
      "[[3. 3. 1.]\n",
      " [1. 2. 3.]\n",
      " [3. 1. 1.]\n",
      " [2. 2. 1.]]\n",
      "------------------------------------\n",
      "\n",
      "Compute The ( 3 x 4) Sigma^+ Singular Values of The Pseudo-Inverse of A\n",
      "[[0.14693971 0.         0.         0.        ]\n",
      " [0.         0.43483186 0.         0.        ]\n",
      " [0.         0.         0.84630406 0.        ]]\n",
      "------------------------------------\n",
      "---Verify  Sigma^+ * Sigma = I; If A Has Independent Columns ----\n",
      "[[1. 0. 0.]\n",
      " [0. 1. 0.]\n",
      " [0. 0. 1.]]\n",
      "------------------------------------\n",
      "Compute The Pseudo-Inverse of A <-- (VT).T @ pinv(Sigma) @ U.T\n",
      "[[-0.05263158 -0.12280702  0.43859649 -0.01754386]\n",
      " [ 0.39473684 -0.02339181 -0.51169591  0.1871345 ]\n",
      " [-0.26315789  0.38596491  0.19298246 -0.0877193 ]]\n",
      "------------------------------------\n",
      "Compute The Pseudo-Inverse of A <-- pinv(A)\n",
      "[[-0.05263158 -0.12280702  0.43859649 -0.01754386]\n",
      " [ 0.39473684 -0.02339181 -0.51169591  0.1871345 ]\n",
      " [-0.26315789  0.38596491  0.19298246 -0.0877193 ]]\n",
      "------------------------------------\n",
      "\n",
      "Compute The ( 3 x 4) Sigma^+ Singular Values of The Pseudo-Inverse of A\n",
      "[[0.14693971 0.         0.         0.        ]\n",
      " [0.         0.43483186 0.         0.        ]\n",
      " [0.         0.         0.84630406 0.        ]]\n",
      "------------------------------------\n",
      "---Verify  A^+ * A = I; If A Has Independent Columns ----\n",
      "[[ 1.00000000e+00  2.42861287e-16  2.60208521e-16]\n",
      " [ 6.66133815e-16  1.00000000e+00 -5.55111512e-17]\n",
      " [-1.94289029e-16 -2.49800181e-16  1.00000000e+00]]\n",
      "------------------------------------\n",
      "Verify A * A^+ * A = A\n",
      "[[3. 3. 1.]\n",
      " [1. 2. 3.]\n",
      " [3. 1. 1.]\n",
      " [2. 2. 1.]]\n",
      "------------------------------------\n",
      "Verify that A^+ * A * A^+\n",
      "[[-0.05263158 -0.12280702  0.43859649 -0.01754386]\n",
      " [ 0.39473684 -0.02339181 -0.51169591  0.1871345 ]\n",
      " [-0.26315789  0.38596491  0.19298246 -0.0877193 ]]\n",
      "------------------------------------\n",
      "Solve A x = b Using The Pseudo-Inverse of A\\mFrom  x = A^+ b = V Sigma^+ U^T b\n",
      "------------------------------------\n",
      "Solution Vector x =\n",
      "[[-0.53]\n",
      " [ 1.28]\n",
      " [-0.63]]\n",
      "\n"
     ]
    }
   ],
   "source": [
    "# Compute The Singular Value Decomposition of (M x N) Matrix A\n",
    "# The Pseudo-Inverse of A\n",
    "# Solve Ax = b using The SVD/Pseudo-Inverse\n",
    "#\n",
    "import numpy as np\n",
    "from scipy.linalg import diagsvd\n",
    "from scipy.linalg import pinv\n",
    "#from scipy.linalg import inv\n",
    "from scipy.linalg import svd\n",
    "#\n",
    "# Enter m-Rows & n-Columns Of Coefficient Matrix A:\n",
    "U, sigma, VT = svd(A)\n",
    "Sigma = diagsvd(sigma, m, n)\n",
    "PseudoA = (VT).T @ pinv(Sigma) @ U.T \n",
    "x = PseudoA @  b\n",
    "\n",
    "\n",
    "print(f\"\\\n",
    "------------------------------------\\n\\\n",
    "Perform Singular Value Decomposition\\n\\\n",
    "------------------------------------\\n\\\n",
    "The A matrix:\\n\\\n",
    "{A}\\n\\\n",
    "------------------------------------\\n\\\n",
    "The ({m} x {m}) U Matrix\\n\\\n",
    "{U}\\n\\\n",
    "------------------------------------\\n\\\n",
    "The ({m} x {n}) Singular Values of A\\n\\\n",
    "{Sigma}\\n\\\n",
    "------------------------------------\\n\\\n",
    "The ({n} x {n} V^T Matrix\\n\\\n",
    "{VT}\\n\\\n",
    "------------------------------------\\n\\\n",
    "Reconstructed Original ({m} x {n} Matrix A From SVD Factors\\n\\\n",
    "{U @ Sigma @ VT}\\n\\\n",
    "------------------------------------\\n\\\n",
    "\")\n",
    "\n",
    "#The Pseudo-Inverse of A is Given by: A^+ = V Sigma^+ U^T\n",
    "#\n",
    "print(f\"Compute The ( {n} x {m}) Sigma^+ Singular Values of The Pseudo-Inverse of A\\n\\\n",
    "{pinv(Sigma)}\\n\\\n",
    "------------------------------------\")\n",
    "if m > n:\n",
    "    print(f\"---Verify  Sigma^+ * Sigma = I; If A Has Independent Columns ----\\n\\\n",
    "{pinv(Sigma) @ Sigma}\\n\\\n",
    "------------------------------------\")\n",
    "elif m < n:\n",
    "    print(f\"---Verify  Sigma * Sigma^+ = I; If A Has Independent Rows ----\\n\\\n",
    "{Sigma @ pinv(Sigma)}\\n\\\n",
    "------------------------------------\")\n",
    "\n",
    "print(f\"\\\n",
    "Compute The Pseudo-Inverse of A <-- (VT).T @ pinv(Sigma) @ U.T\\n\\\n",
    "{PseudoA}\\n\\\n",
    "------------------------------------\\n\\\n",
    "Compute The Pseudo-Inverse of A <-- pinv(A)\\n\\\n",
    "{pinv(A)}\\n\\\n",
    "------------------------------------\\n\\\n",
    "\")\n",
    "print(f\"Compute The ( {n} x {m}) Sigma^+ Singular Values of The Pseudo-Inverse of A\\n\\\n",
    "{pinv(Sigma)}\\n\\\n",
    "------------------------------------\")\n",
    "if m > n:\n",
    "    print(f\"---Verify  A^+ * A = I; If A Has Independent Columns ----\\n\\\n",
    "{PseudoA @ A}\\n\\\n",
    "------------------------------------\")\n",
    "elif m < n:\n",
    "    print(f\"---Verify  A * A^+ = I; If A Has Independent Rows ----\\n\\\n",
    "{A @ PseudoA }\\n\\\n",
    "------------------------------------\")\n",
    "\n",
    "\n",
    "print(f\"\\\n",
    "Verify A * A^+ * A = A\\n\\\n",
    "{A @ PseudoA @ A}\\n\\\n",
    "------------------------------------\\n\\\n",
    "Verify that A^+ * A * A^+\\n\\\n",
    "{PseudoA @ A @ PseudoA}\\n\\\n",
    "------------------------------------\\n\\\n",
    "Solve A x = b Using The Pseudo-Inverse of A\\m\\\n",
    "From  x = A^+ b = V Sigma^+ U^T b\\n\\\n",
    "------------------------------------\\n\\\n",
    "Solution Vector x =\\n\\\n",
    "{x.round(2)}\\n\\\n",
    "\")"
   ]
  },
  {
   "cell_type": "markdown",
   "metadata": {},
   "source": [
    "Utilizing the SVD decomposition and multiplying the pseudoinverse of $A$ with $b$ yields the following solution vector:\n",
    "$$x = \\begin {bmatrix} -0.22222222 \\\\ 2.88888889 \\\\ -9.22222222 \\end {bmatrix}$$"
   ]
  },
  {
   "cell_type": "markdown",
   "metadata": {},
   "source": [
    "### $A^Ty = c$ variant"
   ]
  },
  {
   "cell_type": "code",
   "execution_count": 58,
   "metadata": {},
   "outputs": [
    {
     "name": "stdout",
     "output_type": "stream",
     "text": [
      "[[-0.11]\n",
      " [-0.25]\n",
      " [ 0.88]\n",
      " [-0.04]]\n"
     ]
    },
    {
     "data": {
      "text/plain": [
       "array([[-2.22044605e-16],\n",
       "       [ 3.33066907e-16],\n",
       "       [ 5.55111512e-16]])"
      ]
     },
     "execution_count": 58,
     "metadata": {},
     "output_type": "execute_result"
    }
   ],
   "source": [
    "VT.T @ Sigma.T @ U.T\n",
    "\n",
    "y = U @ pinv(Sigma.T) @ VT @ c\n",
    "\n",
    "print(y.round(2))\n",
    "\n",
    "A.T @ y - c\n",
    "\n",
    "# U, sigma, VT = svd(A.T)\n",
    "# Sigma = diagsvd(sigma, n, m)\n",
    "# PseudoAT = (VT).T @ pinv(Sigma) @ U.T \n",
    "# x = PseudoAT @  c\n",
    "\n",
    "\n",
    "# print(f\"\\\n",
    "# ------------------------------------\\n\\\n",
    "# Perform Singular Value Decomposition\\n\\\n",
    "# ------------------------------------\\n\\\n",
    "# The A^T matrix:\\n\\\n",
    "# {A.T}\\n\\\n",
    "# ------------------------------------\\n\\\n",
    "# The ({n} x {n}) U Matrix\\n\\\n",
    "# {U}\\n\\\n",
    "# ------------------------------------\\n\\\n",
    "# The ({n} x {m}) Singular Values of A^T\\n\\\n",
    "# {Sigma}\\n\\\n",
    "# ------------------------------------\\n\\\n",
    "# The ({m} x {m}) V^T Matrix\\n\\\n",
    "# {VT}\\n\\\n",
    "# ------------------------------------\\n\\\n",
    "# Reconstructed Original ({n} x {m}) Matrix A From SVD Factors\\n\\\n",
    "# {U @ Sigma @ VT}\\n\\\n",
    "# ------------------------------------\\n\\\n",
    "# \")\n",
    "\n",
    "# #The Pseudo-Inverse of A is Given by: A^+ = V Sigma^+ U^T\n",
    "# #\n",
    "# print(f\"Compute The ( {m} x {n}) Sigma^+ Singular Values of The Pseudo-Inverse of A^T\\n\\\n",
    "# {pinv(Sigma)}\\n\\\n",
    "# ------------------------------------\")\n",
    "# if n > n:\n",
    "#     print(f\"---Verify  Sigma^+ * Sigma = I; If A Has Independent Columns ----\\n\\\n",
    "# {pinv(Sigma) @ Sigma}\\n\\\n",
    "# ------------------------------------\")\n",
    "# elif n < n:\n",
    "#     print(f\"---Verify  Sigma * Sigma^+ = I; If A Has Independent Rows ----\\n\\\n",
    "# {Sigma @ pinv(Sigma)}\\n\\\n",
    "# ------------------------------------\")\n",
    "\n",
    "# print(f\"\\\n",
    "# Compute The Pseudo-Inverse of A^T <-- (VT).T @ pinv(Sigma) @ U.T\\n\\\n",
    "# {PseudoAT}\\n\\\n",
    "# ------------------------------------\\n\\\n",
    "# Compute The Pseudo-Inverse of A^T <-- pinv(A)\\n\\\n",
    "# {pinv(A.T)}\\n\\\n",
    "# ------------------------------------\\n\\\n",
    "# \")\n",
    "# print(f\"Compute The ( {n} x {n}) Sigma^+ Singular Values of The Pseudo-Inverse of A^T\\n\\\n",
    "# {pinv(Sigma)}\\n\\\n",
    "# ------------------------------------\")\n",
    "# if n > m:\n",
    "#     print(f\"---Verify  A^+ * A = I; If A Has Independent Columns ----\\n\\\n",
    "# {PseudoAT @ A.T}\\n\\\n",
    "# ------------------------------------\")\n",
    "# elif n < m:\n",
    "#     print(f\"---Verify  A * A^+ = I; If A Has Independent Rows ----\\n\\\n",
    "# {A.T @ PseudoAT }\\n\\\n",
    "# ------------------------------------\")\n",
    "\n",
    "\n",
    "# print(f\"\\\n",
    "# Verify A^T * A^T^+ * A^T = A^T\\n\\\n",
    "# {A.T @ PseudoAT @ A.T}\\n\\\n",
    "# ------------------------------------\\n\\\n",
    "# Verify that A^T^+ * A^T * A^T^+\\n\\\n",
    "# {PseudoAT @ A.T @ PseudoAT}\\n\\\n",
    "# ------------------------------------\\n\\\n",
    "# Solve A^T y = c Using The Pseudo-Inverse of A^T\\n\\\n",
    "# From  y = A^T^+ c = V Sigma^+ U^T b\\n\\\n",
    "# ------------------------------------\\n\\\n",
    "# Solution Vector x =\\n\\\n",
    "# {x}\\n\\\n",
    "# \")"
   ]
  },
  {
   "cell_type": "markdown",
   "metadata": {},
   "source": [
    "The SVD decomposition is well utilized to find the solution:\n",
    "$$x = \\begin {bmatrix} 1 \\\\ 4 \\\\ -3 \\\\ -2\\end {bmatrix}$$"
   ]
  },
  {
   "cell_type": "markdown",
   "metadata": {
    "tags": [
     "this is a test"
    ]
   },
   "source": [
    "# Question 3\n",
    "\n",
    "Solve $A^TAx = A^Tb$ using the Cholesky factorization."
   ]
  },
  {
   "cell_type": "markdown",
   "metadata": {},
   "source": [
    "## Solution"
   ]
  },
  {
   "cell_type": "code",
   "execution_count": 63,
   "metadata": {},
   "outputs": [
    {
     "name": "stdout",
     "output_type": "stream",
     "text": [
      " The A^T A matrix: \n",
      " [[23 18 11]\n",
      " [18 18 12]\n",
      " [11 12 12]] \n",
      "\n",
      " The Cholesky factorization:\n",
      "\n",
      "L matrix:\n",
      "[[4.79583152 0.         0.        ]\n",
      " [3.75325945 1.97814142 0.        ]\n",
      " [2.29365855 1.71438923 1.94935887]]\n",
      "\n",
      "L.T matrix:\n",
      "[[4.79583152 3.75325945 2.29365855]\n",
      " [0.         1.97814142 1.71438923]\n",
      " [0.         0.         1.94935887]]\n",
      "\n",
      "Solving for x by using L L^T x =  A^T b:\n",
      "[[-0.53]\n",
      " [ 1.28]\n",
      " [-0.63]]\n"
     ]
    }
   ],
   "source": [
    "from numpy.linalg import cholesky\n",
    "\n",
    "Atranspose_A = A.T @ A\n",
    "\n",
    "L = cholesky(Atranspose_A)\n",
    "x =solve(L @ L.T, A.T @ b)\n",
    "print(f\" \\\n",
    "The A^T A matrix: \\n {Atranspose_A} \\n\\n \\\n",
    "The Cholesky factorization:\\n\\n\\\n",
    "L matrix:\\n{L}\\n\\n\\\n",
    "L.T matrix:\\n{L.T}\\n\\n\\\n",
    "Solving for x by using L L^T x =  A^T b:\\n\\\n",
    "{x.round(2)}\")"
   ]
  },
  {
   "cell_type": "markdown",
   "metadata": {},
   "source": [
    "Cholesky once again proves to be an amazing example of specialized matrix factorization. It successfully finds the solution vector:\n",
    " $$x = \\begin {bmatrix} -0.22222222 \\\\ 2.88888889 \\\\ -9.22222222 \\end {bmatrix}$$"
   ]
  },
  {
   "cell_type": "markdown",
   "metadata": {},
   "source": [
    "# Question 4\n",
    "\n",
    "Solve $A^TAx = A^Tb$ using the $QR$ factorization."
   ]
  },
  {
   "cell_type": "markdown",
   "metadata": {},
   "source": [
    "## Solution"
   ]
  },
  {
   "cell_type": "code",
   "execution_count": 10,
   "metadata": {},
   "outputs": [
    {
     "name": "stdout",
     "output_type": "stream",
     "text": [
      " The A^T A matrix: \n",
      " [[23 18 11]\n",
      " [18 18 12]\n",
      " [11 12 12]] \n",
      "\n",
      " The QR factorization:\n",
      "\n",
      "Q matrix:\n",
      "[[-0.73696754  0.65920129  0.14944064]\n",
      " [-0.5767572  -0.49799226 -0.64757613]\n",
      " [-0.35246273 -0.56343355  0.74720322]]\n",
      "\n",
      "R matrix:\n",
      "[[-31.20897307 -27.87659812 -19.25728215]\n",
      " [  0.          -3.85944001  -5.4858955 ]\n",
      " [  0.           0.           2.83937224]]\n",
      "\n",
      "Solving for x by using QR x = b:\n",
      "[[-0.52631579]\n",
      " [ 1.28070175]\n",
      " [-0.63157895]]\n"
     ]
    }
   ],
   "source": [
    "Q, R = qr(Atranspose_A)\n",
    "\n",
    "print(f\" \\\n",
    "The A^T A matrix: \\n {Atranspose_A} \\n\\n \\\n",
    "The QR factorization:\\n\\n\\\n",
    "Q matrix:\\n{Q}\\n\\n\\\n",
    "R matrix:\\n{R}\\n\\n\\\n",
    "Solving for x by using QR x = b:\\n\\\n",
    "{solve(Q @ R, A.T @ b)}\")"
   ]
  },
  {
   "cell_type": "markdown",
   "metadata": {},
   "source": [
    "The QR factorization also finds the same solution vector:\n",
    "$$x = \\begin {bmatrix} -0.22222222 \\\\ 2.88888889 \\\\ -9.22222222 \\end {bmatrix}$$"
   ]
  },
  {
   "cell_type": "markdown",
   "metadata": {},
   "source": [
    "# Question 5\n",
    "\n",
    "Solve $A^TAx = A^Tb$ using the $SVD$ factorization."
   ]
  },
  {
   "cell_type": "markdown",
   "metadata": {},
   "source": [
    "## Solution"
   ]
  },
  {
   "cell_type": "code",
   "execution_count": 11,
   "metadata": {},
   "outputs": [
    {
     "name": "stdout",
     "output_type": "stream",
     "text": [
      "The A matrix:\n",
      "[[3 3 1]\n",
      " [1 2 3]\n",
      " [3 1 1]\n",
      " [2 2 1]]\n",
      "\n",
      "The A.T matrix:\n",
      "[[3 1 3 2]\n",
      " [3 2 1 2]\n",
      " [1 3 1 1]]\n",
      "\n",
      "\n",
      "U:\n",
      "[[-0.62576268  0.29780378  0.5318758  -0.48666426]\n",
      " [-0.46513892 -0.86339719 -0.16277336 -0.10814761]\n",
      " [-0.44737015  0.39839638 -0.79888441 -0.05407381]\n",
      " [-0.43809451  0.08448975  0.22890319  0.86518091]]\n",
      "\n",
      "Sigma:\n",
      "[[6.80551246 0.         0.        ]\n",
      " [0.         2.2997395  0.        ]\n",
      " [0.         0.         1.18160842]\n",
      " [0.         0.         0.        ]]\n",
      "\n",
      "V^T:\n",
      "[[-0.6701518  -0.6070263  -0.42710143]\n",
      " [ 0.60623509 -0.1156684  -0.78682898]\n",
      " [-0.42822375  0.78621873 -0.44551603]]\n",
      "\n",
      "The solution vector x using V Sigma Sigma^T V x = V Sigma^T U^T b\n",
      "[[-0.52631579]\n",
      " [ 1.28070175]\n",
      " [-0.63157895]]\n"
     ]
    }
   ],
   "source": [
    "print(f\"\\\n",
    "The A matrix:\\n\\\n",
    "{A}\\n\\n\\\n",
    "The A.T matrix:\\n\\\n",
    "{A.T}\\n\\n\\\n",
    "\")\n",
    "\n",
    "U, sigma, VT = svd(A)\n",
    "Sigma = diagsvd(sigma, 4, 3)\n",
    "\n",
    "print(f\"U:\\n{U}\\n\\nSigma:\\n{Sigma}\\n\\nV^T:\\n{VT}\\n\")\n",
    "# print(f\"The reconstruction of A with SVD:\\n{U @ Sigma @ VT}\\n\\n\\\n",
    "# The construction of A^T with SVD:\\n{VT.T @ Sigma.T @ U.T}\")\n",
    "x = solve(VT.T @ Sigma.T @ Sigma @ VT, VT.T @ Sigma.T @ U.T @ b)\n",
    "print(f\"\\\n",
    "The solution vector x using V Sigma Sigma^T V x = V Sigma^T U^T b\\n\\\n",
    "{x}\")"
   ]
  },
  {
   "cell_type": "markdown",
   "metadata": {},
   "source": [
    "Once again the solution vector is shown to be: $$x = \\begin {bmatrix} -0.22222222 \\\\ 2.88888889 \\\\ -9.22222222 \\end {bmatrix}$$"
   ]
  },
  {
   "cell_type": "markdown",
   "metadata": {},
   "source": [
    "The below was a misguided attempt to solve the above. After my question in class clarified the process, I decided to change; I just didn't want to delete my thought process."
   ]
  },
  {
   "cell_type": "code",
   "execution_count": 12,
   "metadata": {},
   "outputs": [],
   "source": [
    "# m = 4; n = 3\n",
    "# U, sigma, VT = svd(A)\n",
    "# Sigma = diagsvd(sigma, m, n)\n",
    "# #PseudoA = (VT).T @ pinv(Sigma) @ U.T \n",
    "# #x = PseudoA @ Atranspose_A @ b\n",
    "\n",
    "# print(f\"\\\n",
    "# A^T A:\\n\\\n",
    "# {Atranspose_A}\\n\\\n",
    "# A^T A from the SVD breakdown:\\n\\\n",
    "# {VT.T @ Sigma.T @ U.T @ U @ Sigma @ VT}\\\n",
    "# \\\n",
    "# \")\n",
    "\n",
    "# print(f\"\\\n",
    "# ------------------------------------\\n\\\n",
    "# Perform Singular Value Decomposition\\n\\\n",
    "# ------------------------------------\\n\\\n",
    "# The A^T A matrix:\\n\\\n",
    "# {Atranspose_A}\\n\\\n",
    "# ------------------------------------\\n\\\n",
    "# The ({m} x {m}) U Matrix\\n\\\n",
    "# {U}\\n\\\n",
    "# ------------------------------------\\n\\\n",
    "# The ({m} x {n}) Singular Values of A\\n\\\n",
    "# {Sigma}\\n\\\n",
    "# ------------------------------------\\n\\\n",
    "# The ({n} x {n}) V^T Matrix\\n\\\n",
    "# {VT}\\n\\\n",
    "# ------------------------------------\\n\\\n",
    "# Reconstructed Original ({m} x {n}) Matrix A From SVD Factors\\n\\\n",
    "# {U @ Sigma @ VT}\\n\\\n",
    "# ------------------------------------\\n\\\n",
    "# \")\n",
    "\n",
    "# #The Pseudo-Inverse of A is Given by: A^+ = V Sigma^+ U^T\n",
    "# #\n",
    "# print(f\"Compute The ( {n} x {m}) Sigma^+ Singular Values of The Pseudo-Inverse of A\\n\\\n",
    "# {pinv(Sigma)}\\n\\\n",
    "# ------------------------------------\")\n",
    "# if m > n:\n",
    "#     print(f\"---Verify  Sigma^+ * Sigma = I; If A Has Independent Columns ----\\n\\\n",
    "# {pinv(Sigma) @ Sigma}\\n\\\n",
    "# ------------------------------------\")\n",
    "# elif m < n:\n",
    "#     print(f\"---Verify  Sigma * Sigma^+ = I; If A Has Independent Rows ----\\n\\\n",
    "# {Sigma @ pinv(Sigma)}\\n\\\n",
    "# ------------------------------------\")\n",
    "\n",
    "# print(f\"\\\n",
    "# Compute The Pseudo-Inverse of A <-- (VT).T @ pinv(Sigma) @ U.T\\n\\\n",
    "# {PseudoA}\\n\\\n",
    "# ------------------------------------\\n\\\n",
    "# Compute The Pseudo-Inverse of A <-- pinv(A)\\n\\\n",
    "# {pinv(Atranspose_A)}\\n\\\n",
    "# ------------------------------------\\n\\\n",
    "# \")\n",
    "# print(f\"Compute The ( {n} x {m}) Sigma^+ Singular Values of The Pseudo-Inverse of A\\n\\\n",
    "# {pinv(Sigma)}\\n\\\n",
    "# ------------------------------------\")\n",
    "# if m > n:\n",
    "#     print(f\"---Verify  A^+ * A = I; If A Has Independent Columns ----\\n\\\n",
    "# {PseudoA @ Atranspose_A}\\n\\\n",
    "# ------------------------------------\")\n",
    "# elif m < n:\n",
    "#     print(f\"---Verify  A * A^+ = I; If A Has Independent Rows ----\\n\\\n",
    "# {Atranspose_A @ PseudoA }\\n\\\n",
    "# ------------------------------------\")\n",
    "\n",
    "\n",
    "# print(f\"\\\n",
    "# Verify A * A^+ * A = A\\n\\\n",
    "# {Atranspose_A @ PseudoA @ Atranspose_A}\\n\\\n",
    "# ------------------------------------\\n\\\n",
    "# Verify that A^+ * A * A^+\\n\\\n",
    "# {PseudoA @ Atranspose_A @ PseudoA}\\n\\\n",
    "# ------------------------------------\\n\\\n",
    "# Solve A x = b Using The Pseudo-Inverse of A^T A\\n\\\n",
    "# From  x = A^+ b = V Sigma^+ U^T b\\n\\\n",
    "# ------------------------------------\\n\\\n",
    "# Solution Vector x =\\n\\\n",
    "# {A.T @ x}\\n\\\n",
    "# \")\n",
    "\n"
   ]
  },
  {
   "cell_type": "markdown",
   "metadata": {},
   "source": [
    "# Question 6\n",
    "\n",
    "Find the eigenvalues and the corresponding eigenvectors of $A^TA$ and $AA^T$."
   ]
  },
  {
   "cell_type": "markdown",
   "metadata": {},
   "source": [
    "## Solution"
   ]
  },
  {
   "cell_type": "code",
   "execution_count": 13,
   "metadata": {},
   "outputs": [
    {
     "name": "stdout",
     "output_type": "stream",
     "text": [
      "The eigen values of A^T A:\n",
      "(array([46.31499979,  5.28880176,  1.39619845]), array([[-0.6701518 , -0.60623509,  0.42822375],\n",
      "       [-0.6070263 ,  0.1156684 , -0.78621873],\n",
      "       [-0.42710143,  0.78682898,  0.44551603]]))\n",
      "\n",
      "The eigen values of A A^T:\n",
      "(array([4.63149998e+01, 5.28880176e+00, 9.05581676e-16, 1.39619845e+00]), array([[ 0.62576268,  0.29780378, -0.48666426,  0.5318758 ],\n",
      "       [ 0.46513892, -0.86339719, -0.10814761, -0.16277336],\n",
      "       [ 0.44737015,  0.39839638, -0.05407381, -0.79888441],\n",
      "       [ 0.43809451,  0.08448975,  0.86518091,  0.22890319]]))\n"
     ]
    }
   ],
   "source": [
    "print(f\"\\\n",
    "The eigen values of A^T A:\\n\\\n",
    "{np.linalg.eig(A.T @ A)}\\n\\n\\\n",
    "The eigen values of A A^T:\\n\\\n",
    "{np.linalg.eig(A @ A.T)}\\\n",
    "\")"
   ]
  },
  {
   "cell_type": "code",
   "execution_count": null,
   "metadata": {},
   "outputs": [],
   "source": []
  },
  {
   "cell_type": "markdown",
   "metadata": {},
   "source": [
    "The eigenvalues are identical with the exception of the larger resulting square matrix, $AA^T$, which has an additional eigenvalue equal to 0. The eigenvectors are shown but not very cleanly."
   ]
  },
  {
   "cell_type": "markdown",
   "metadata": {},
   "source": [
    "# Question 7\n",
    "\n",
    "Show numerically that for any rectangular matrix:\n",
    "$$\n",
    "AA^+A = A \\quad{and}\\quad A^+AA^+ = A^+\n",
    "$$"
   ]
  },
  {
   "cell_type": "markdown",
   "metadata": {},
   "source": [
    "## Solution"
   ]
  },
  {
   "cell_type": "code",
   "execution_count": 14,
   "metadata": {},
   "outputs": [
    {
     "name": "stdout",
     "output_type": "stream",
     "text": [
      "We'll show numerically that A A^pseudoinverse is equalt to the identity matrix.\n",
      "[[ 1.00000000e+00  2.35922393e-16  1.45716772e-16]\n",
      " [ 5.55111512e-16  1.00000000e+00 -1.66533454e-16]\n",
      " [-2.49800181e-16 -3.60822483e-16  1.00000000e+00]]\n"
     ]
    }
   ],
   "source": [
    "print(f\"We'll show numerically that A A^pseudoinverse is equalt to the identity matrix.\\n\\\n",
    "\\\n",
    "{pinv(A) @ A}\")"
   ]
  },
  {
   "cell_type": "markdown",
   "metadata": {},
   "source": [
    "This would indicate that if we post-multiply A by the pseudoinverse of A, the resulting matrix is the identity matrix. There is a certain level of roudning error, as is typical with matricies in computer programming."
   ]
  }
 ],
 "metadata": {
  "kernelspec": {
   "display_name": "Python 3.10.4 64-bit",
   "language": "python",
   "name": "python3"
  },
  "language_info": {
   "codemirror_mode": {
    "name": "ipython",
    "version": 3
   },
   "file_extension": ".py",
   "mimetype": "text/x-python",
   "name": "python",
   "nbconvert_exporter": "python",
   "pygments_lexer": "ipython3",
   "version": "3.10.4 (v3.10.4:9d38120e33, Mar 23 2022, 17:29:05) [Clang 13.0.0 (clang-1300.0.29.30)]"
  },
  "orig_nbformat": 4,
  "vscode": {
   "interpreter": {
    "hash": "aee8b7b246df8f9039afb4144a1f6fd8d2ca17a180786b69acc140d282b71a49"
   }
  }
 },
 "nbformat": 4,
 "nbformat_minor": 2
}
