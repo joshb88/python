{
 "cells": [
  {
   "cell_type": "markdown",
   "metadata": {},
   "source": [
    "# Libraries"
   ]
  },
  {
   "cell_type": "code",
   "execution_count": 2,
   "metadata": {},
   "outputs": [],
   "source": [
    "import numpy as np\n",
    "import scipy as sp\n",
    "from numpy.linalg import solve\n",
    "from numpy.linalg import qr\n",
    "from numpy.linalg import svd\n",
    "from scipy.linalg import diagsvd\n",
    "from scipy.linalg import pinv\n",
    "from scipy.linalg import ldl\n",
    "from numpy.linalg import cholesky\n",
    "from scipy.optimize import minimize\n",
    "import matplotlib.pyplot as plt"
   ]
  },
  {
   "cell_type": "markdown",
   "metadata": {},
   "source": [
    "# Instructions"
   ]
  },
  {
   "cell_type": "markdown",
   "metadata": {},
   "source": [
    "Let:<br>\n",
    "$A = $ `np.random.randint(1, 5, size = (5,3))`, <br>\n",
    "$b = $ `np.random.randint(1, 5, size = (5,1))`, and<br>\n",
    "$c = $ `np.random.randint(1, 5, size = (3,1))`."
   ]
  },
  {
   "cell_type": "code",
   "execution_count": 3,
   "metadata": {},
   "outputs": [
    {
     "name": "stdout",
     "output_type": "stream",
     "text": [
      "\"[[2 2 4]\n",
      " [4 4 4]\n",
      " [2 2 4]\n",
      " [1 2 1]\n",
      " [3 3 4]]\n",
      "\n",
      "[[1]\n",
      " [2]\n",
      " [4]\n",
      " [2]\n",
      " [2]]\n",
      "\n",
      "[[1]\n",
      " [3]\n",
      " [2]]\n"
     ]
    }
   ],
   "source": [
    "A = np.random.randint(1, 5, size = (5,3))\n",
    "b = np.random.randint(1, 5, size = (5,1))\n",
    "c = np.random.randint(1, 5, size = (3,1))\n",
    "\n",
    "m = 5\n",
    "n = 3\n",
    "\n",
    "print(f'\"{A}\\n\\n{b}\\n\\n{c}')"
   ]
  },
  {
   "cell_type": "markdown",
   "metadata": {},
   "source": [
    "These were the exact matrices I randomly generated for the test. They happened to be usable with Cholesky's in the later questions."
   ]
  },
  {
   "cell_type": "code",
   "execution_count": 4,
   "metadata": {},
   "outputs": [],
   "source": [
    "A_tested = np.array([[2,3,3],[3,4,4],[2,1,1],[4,3,1],[3,1,3]])\n",
    "b_tested = np.array([[3],[4],[3],[4],[3]])\n",
    "c_tested = np.array([[1],[2],[3]])\n",
    "\n",
    "linebreak = \"------------------------------------\""
   ]
  },
  {
   "cell_type": "markdown",
   "metadata": {},
   "source": [
    "# Questions"
   ]
  },
  {
   "cell_type": "markdown",
   "metadata": {},
   "source": [
    "## Question 1\n",
    "### From the $SVD$ of $A$, find the Pseudo-Inverse of $A$ and use it to solve $Ax=b$."
   ]
  },
  {
   "cell_type": "code",
   "execution_count": 5,
   "metadata": {},
   "outputs": [
    {
     "name": "stdout",
     "output_type": "stream",
     "text": [
      "[[-1.79545455]\n",
      " [ 1.52272727]\n",
      " [ 0.75      ]]\n"
     ]
    }
   ],
   "source": [
    "U, sigma, VT = svd(A)\n",
    "Sigma = diagsvd(sigma, m, n)\n",
    "\n",
    "PseudoA = VT.T @ pinv(Sigma) @ U.T\n",
    "#PseudoA @ A\n",
    "\n",
    "x = PseudoA @ b\n",
    "\n",
    "print(x)"
   ]
  },
  {
   "cell_type": "markdown",
   "metadata": {},
   "source": [
    "$$x = \\begin{bmatrix}.8\\overline{6} \\\\ .218 \\\\ .151\\end{bmatrix}$$"
   ]
  },
  {
   "cell_type": "markdown",
   "metadata": {},
   "source": [
    "## Question 2\n",
    "### Explain why the rank of A cannot be 5. What is the rank of A; and why?"
   ]
  },
  {
   "cell_type": "markdown",
   "metadata": {},
   "source": [
    "The rank of A cannot be 5 because the matrix is overdetermined i.e., there are more rows (5) than columns (3). For the reason, the rank of the matrix is 3. Besides calling a library to determine it, you can also see the Sigma from the SVD decomposition to see there are only 3 eigenvalues."
   ]
  },
  {
   "cell_type": "code",
   "execution_count": 6,
   "metadata": {},
   "outputs": [
    {
     "name": "stdout",
     "output_type": "stream",
     "text": [
      "3 3\n"
     ]
    }
   ],
   "source": [
    "print(np.linalg.matrix_rank(A), len(sigma))"
   ]
  },
  {
   "cell_type": "markdown",
   "metadata": {},
   "source": [
    "## Question 3\n",
    "### Find the $QR$ factorization of A and use it to solve $Ax=b$."
   ]
  },
  {
   "cell_type": "code",
   "execution_count": 7,
   "metadata": {},
   "outputs": [
    {
     "data": {
      "text/plain": [
       "array([[-1.79545455],\n",
       "       [ 1.52272727],\n",
       "       [ 0.75      ]])"
      ]
     },
     "execution_count": 7,
     "metadata": {},
     "output_type": "execute_result"
    }
   ],
   "source": [
    "Q, R = qr(A)\n",
    "\n",
    "x = solve(R, Q.T @ b)\n",
    "x"
   ]
  },
  {
   "cell_type": "markdown",
   "metadata": {},
   "source": [
    "$$x = \\begin{bmatrix}.8\\overline{6} \\\\ .218 \\\\ .151\\end{bmatrix}$$"
   ]
  },
  {
   "cell_type": "markdown",
   "metadata": {},
   "source": [
    "## Question 4\n",
    "### Find the eigenvalues of $A^TA$. Is $A^tA$ postive definite and why? What do you know about the eigenvalues of $AA^T$?"
   ]
  },
  {
   "cell_type": "code",
   "execution_count": 8,
   "metadata": {},
   "outputs": [
    {
     "data": {
      "text/plain": [
       "array([132.17422828,   0.3872527 ,   3.43851902])"
      ]
     },
     "execution_count": 8,
     "metadata": {},
     "output_type": "execute_result"
    }
   ],
   "source": [
    "AtransposeA = A.T @ A\n",
    "\n",
    "np.linalg.eigvals(AtransposeA)"
   ]
  },
  {
   "cell_type": "markdown",
   "metadata": {},
   "source": [
    "The eigenvalues were $\\begin{bmatrix}104.817\\\\5.864\\\\3.319\\end{bmatrix}$. Because there were positive and $A^TA$ is symmetric, the matrix is positive definite. The eigenvalues of $AA^T$ are the same, with the excess being 0."
   ]
  },
  {
   "cell_type": "code",
   "execution_count": 9,
   "metadata": {},
   "outputs": [
    {
     "data": {
      "text/plain": [
       "array([ 1.32174228e+02,  3.43851902e+00,  3.87252699e-01, -1.36722046e-16,\n",
       "        1.00794486e-15])"
      ]
     },
     "execution_count": 9,
     "metadata": {},
     "output_type": "execute_result"
    }
   ],
   "source": [
    "np.linalg.eigvals(A@A.T)"
   ]
  },
  {
   "cell_type": "markdown",
   "metadata": {},
   "source": [
    "## Question 5\n",
    "### Solve $A^TAy = c$ using the $LDL^T$ factorization."
   ]
  },
  {
   "cell_type": "code",
   "execution_count": 10,
   "metadata": {},
   "outputs": [
    {
     "name": "stdout",
     "output_type": "stream",
     "text": [
      "First step\n",
      "------------------------------------\n",
      "Solve Lw = c for w\n",
      "------------------------------------\n",
      "[[1.        ]\n",
      " [1.97058824]\n",
      " [1.33333333]]\n",
      "Second step\n",
      "------------------------------------\n",
      "Solve Dx = w for x\n",
      "------------------------------------\n",
      "[[0.02941176]\n",
      " [2.03030303]\n",
      " [0.25      ]]\n",
      "Last step\n",
      "------------------------------------\n",
      "Solve L^Ty = x for y\n",
      "------------------------------------\n",
      "[[-2.47727273]\n",
      " [ 2.11363636]\n",
      " [ 0.25      ]]\n"
     ]
    }
   ],
   "source": [
    "L, D, P = ldl (AtransposeA)\n",
    "\n",
    "#solve(AtransposeA, c)\n",
    "\n",
    "step1 = solve(L, c)\n",
    "step2 = solve(D, step1)\n",
    "y = solve(L.T, step2)\n",
    "\n",
    "print(f\"\\\n",
    "First step\\n\\\n",
    "{linebreak}\\n\\\n",
    "Solve Lw = c for w\\n\\\n",
    "{linebreak}\\n\\\n",
    "{step1}\\n\\\n",
    "Second step\\n\\\n",
    "{linebreak}\\n\\\n",
    "Solve Dx = w for x\\n\\\n",
    "{linebreak}\\n\\\n",
    "{step2}\\n\\\n",
    "Last step\\n\\\n",
    "{linebreak}\\n\\\n",
    "Solve L^Ty = x for y\\n\\\n",
    "{linebreak}\\n\\\n",
    "{y}\")"
   ]
  },
  {
   "cell_type": "markdown",
   "metadata": {},
   "source": [
    "$$y = \\begin{bmatrix}-0.1\\overline{6}\\\\0.037\\\\0.203\\end{bmatrix}$$"
   ]
  },
  {
   "cell_type": "markdown",
   "metadata": {},
   "source": [
    "## Question 6\n",
    "### Solve $A^TAy=c$ using the Cholesky factorization. If the factorization cannot be applied, explain why."
   ]
  },
  {
   "cell_type": "code",
   "execution_count": 11,
   "metadata": {},
   "outputs": [
    {
     "name": "stdout",
     "output_type": "stream",
     "text": [
      "[[-2.47727273]\n",
      " [ 2.11363636]\n",
      " [ 0.25      ]]\n"
     ]
    }
   ],
   "source": [
    "L = cholesky(AtransposeA)\n",
    "w = solve(L, c)\n",
    "y = solve(L.T, w)\n",
    "\n",
    "print(y)"
   ]
  },
  {
   "cell_type": "markdown",
   "metadata": {},
   "source": [
    "As above: $$y = \\begin{bmatrix}-0.1\\overline{6}\\\\0.037\\\\0.203\\end{bmatrix}$$ The reason Cholesky's may not work is due to a lack of positive definiteness."
   ]
  },
  {
   "cell_type": "markdown",
   "metadata": {},
   "source": [
    "## Question 7\n",
    "Given the data points $$(-1,0), (0,1), (1,2), (2,4)$$ derive the least-squares line equation $y=mx+b$ that best fits the given data points. Solve the system of equations using:\n",
    "1. the Normal equations\n",
    "2. the QR factorization\n",
    "3. the SVD"
   ]
  },
  {
   "cell_type": "code",
   "execution_count": 12,
   "metadata": {},
   "outputs": [
    {
     "name": "stdout",
     "output_type": "stream",
     "text": [
      "[[-1  1]\n",
      " [ 0  1]\n",
      " [ 1  1]\n",
      " [ 2  1]]\n",
      "[[0]\n",
      " [1]\n",
      " [2]\n",
      " [4]]\n"
     ]
    }
   ],
   "source": [
    "A = np.matrix([[-1,1],[0,1],[1,1],[2,1]])\n",
    "b = np.matrix([0,1,2,4]).T\n",
    "\n",
    "print(A)\n",
    "print(b)"
   ]
  },
  {
   "cell_type": "markdown",
   "metadata": {},
   "source": [
    "The matrix created from the data points:\n",
    "$$\\begin{bmatrix}-1, 1\\\\0, 1\\\\1, 1\\\\2, 1\\end{bmatrix}\n",
    "\\begin{bmatrix}m \\\\ b\\end{bmatrix}=\\begin{bmatrix}0 \\\\1 \\\\2 \\\\4\\end{bmatrix}$$"
   ]
  },
  {
   "cell_type": "markdown",
   "metadata": {},
   "source": [
    "#### Normal Equations\n",
    "The normal equation is that which minimizes the sum of the square differences between the left and right sides:<br>\n",
    "$$\n",
    "A^TAx = A^Tb\n",
    "$$\n",
    "\n",
    "Just use `solve()` with the composite parts of the above matrix. There are many different ways to solve this but this will work."
   ]
  },
  {
   "cell_type": "code",
   "execution_count": 13,
   "metadata": {},
   "outputs": [
    {
     "name": "stdout",
     "output_type": "stream",
     "text": [
      "[[1.3]\n",
      " [1.1]]\n"
     ]
    }
   ],
   "source": [
    "solvex = solve(A.T @ A, A.T @ b)\n",
    "print(solvex)"
   ]
  },
  {
   "cell_type": "markdown",
   "metadata": {},
   "source": [
    "$$x = \\begin{bmatrix}1.3 \\\\ 1.1\\end{bmatrix}$$"
   ]
  },
  {
   "cell_type": "markdown",
   "metadata": {},
   "source": [
    "#### QR factorization\n",
    "To solve using $QR$ factorization, we first factor $A$ as $QR$. <br>\n",
    "Next, we pre-multiply with $Q^T$, giving $Rx=Q^Tb$ ($Q^TQ$ is the identity matrix)<br>\n",
    "Now, we can call `solve()` with $R$ and $Q^Tb$"
   ]
  },
  {
   "cell_type": "code",
   "execution_count": 14,
   "metadata": {},
   "outputs": [
    {
     "data": {
      "text/plain": [
       "matrix([[1.3],\n",
       "        [1.1]])"
      ]
     },
     "execution_count": 14,
     "metadata": {},
     "output_type": "execute_result"
    }
   ],
   "source": [
    "Q,R = qr(A)\n",
    "solve(R, Q.T @ b)"
   ]
  },
  {
   "cell_type": "markdown",
   "metadata": {},
   "source": [
    "$$x = \\begin{bmatrix}1.3 \\\\ 1.1\\end{bmatrix}$$"
   ]
  },
  {
   "cell_type": "markdown",
   "metadata": {},
   "source": [
    "#### SVD factorization\n",
    "To solve using $SVD$ factorization, we first factor $A$ as $SVD$.    \n",
    "Now, we create the pseudo-inverse by taking the transpose of the the parts in reverse order, except with $\\Sigma$, we take the take the  reciprocals before transposing.    \n",
    "Last, we can call pre-multiply $b$ with $A^\\dagger$, as $A^\\dagger A$ is the identity matrix\n",
    "\n",
    "$$\n",
    "Ax = b \\\\\n",
    "U \\Sigma V^T x = b \\\\\n",
    "A^\\dagger = V \\Sigma^\\dagger U^T \\\\\n",
    "A^TA = I \\\\\n",
    "Ix = A^\\dagger b \\\\\n",
    "x = A^\\dagger b \\space\\space \\text{or} \\space\\space V \\Sigma^\\dagger U^T b\n",
    "$$"
   ]
  },
  {
   "cell_type": "code",
   "execution_count": 15,
   "metadata": {},
   "outputs": [
    {
     "name": "stdout",
     "output_type": "stream",
     "text": [
      "[[1.3]\n",
      " [1.1]]\n"
     ]
    }
   ],
   "source": [
    "U, sigma, VT = svd(A)\n",
    "Sigma = diagsvd(sigma, len(A), len(A.T))\n",
    "PseudoA = (VT).T @ pinv(Sigma) @ U.T \n",
    "\n",
    "x = PseudoA @  b\n",
    "print(x)"
   ]
  },
  {
   "cell_type": "markdown",
   "metadata": {},
   "source": [
    "$$x = \\begin{bmatrix}1.3 \\\\ 1.1\\end{bmatrix}$$"
   ]
  },
  {
   "cell_type": "code",
   "execution_count": 16,
   "metadata": {},
   "outputs": [
    {
     "data": {
      "text/plain": [
       "[<matplotlib.lines.Line2D at 0x10ff224a0>]"
      ]
     },
     "execution_count": 16,
     "metadata": {},
     "output_type": "execute_result"
    },
    {
     "data": {
      "image/png": "[encoded data removed]",
      "text/plain": [
       "<Figure size 432x288 with 1 Axes>"
      ]
     },
     "metadata": {
      "needs_background": "light"
     },
     "output_type": "display_data"
    }
   ],
   "source": [
    "X1 = np.array(A[:,0])\n",
    "Y1 = np.array(b)\n",
    "x = np.linspace(-2,3,5)\n",
    "y = (1.3)*x+(1.1)\n",
    "plt.scatter(X1,Y1, edgecolor='k',c='none',s=50)\n",
    "plt.plot(x,y, \"r--\")"
   ]
  },
  {
   "cell_type": "markdown",
   "metadata": {},
   "source": [
    "### Let $$f\\left(\\begin{bmatrix}x\\\\y\\end{bmatrix}\\right) = (x - 2y +1)^2 + (y-2x+1)^2 + 1$$"
   ]
  },
  {
   "cell_type": "markdown",
   "metadata": {},
   "source": [
    "## Question 8\n",
    "Find the Gradient and the Hessian of $f$."
   ]
  },
  {
   "cell_type": "markdown",
   "metadata": {},
   "source": [
    "#### Gradient"
   ]
  },
  {
   "cell_type": "markdown",
   "metadata": {},
   "source": [
    "$$\\nabla f = \\begin{bmatrix} \\frac{\\partial f}{\\partial x} \\\\ \\frac{\\partial f}{\\partial y}\\end{bmatrix} \\\\\n",
    "\\frac{\\partial f}{\\partial x} \\left((x-2y+1)^2 + (y-2x +1)^2 + 1\\right) = 10x-8y+2 \\\\\n",
    "\\frac{\\partial f}{\\partial y} \\left((x-2y+1)^2 + (y-2x +1)^2 + 1\\right)  = -8x+10y-2 \\\\\n",
    "\\nabla f = \\begin{bmatrix} 10x-8y+2 \\\\ -8x+10y-2\\end{bmatrix}$$"
   ]
  },
  {
   "cell_type": "markdown",
   "metadata": {},
   "source": [
    "#### Hessian"
   ]
  },
  {
   "cell_type": "markdown",
   "metadata": {},
   "source": [
    "$$\\bf H_f = \n",
    "\\begin{bmatrix}\n",
    "\\frac{\\partial^2f}{\\partial x^2} & \\frac{\\partial^2f}{\\partial x\\partial y} \\\\\n",
    "\\frac{\\partial^2f}{\\partial y\\partial x} & \\frac{\\partial^2 f}{\\partial y^2}\n",
    "\\end{bmatrix}$$\n",
    "\n",
    "\n",
    "\n",
    "\\begin{align*}\n",
    "\\frac{\\partial^2f}{\\partial x^2} &= 10 \\\\\n",
    "\\frac{\\partial^2f}{\\partial y\\partial x} &= -8 \\\\\n",
    "\\frac{\\partial^2f}{\\partial y\\partial x} &=  -8\\\\\n",
    "\\frac{\\partial^2 f}{\\partial y^2} &= 10\n",
    "\\end{align*}\n",
    "\n",
    "\n",
    "This makes the Hessian:\n",
    "$$\n",
    "\\bf {H}_f = \\begin{bmatrix} 10 &-8 \\\\ -8 &10\\end{bmatrix}\n",
    "$$"
   ]
  },
  {
   "cell_type": "markdown",
   "metadata": {},
   "source": [
    "## Question 9\n",
    "Starting at $\\begin{bmatrix}x^0\\\\y^0\\end{bmatrix} = \\begin{bmatrix}5\\\\5\\end{bmatrix}$, apply **one step** of Newton's Method to find $\\begin{bmatrix}x^1\\\\y^1\\end{bmatrix}$ and $f\\left(\\begin{bmatrix}x^1\\\\y^1\\end{bmatrix}\\right)$"
   ]
  },
  {
   "cell_type": "markdown",
   "metadata": {},
   "source": [
    "## Question 10\n",
    "Fromt `SCIPIY.OPTIMIZE` select **ONE** optimization method that requires the use of the Gradient and the Hessian to minimize the function."
   ]
  },
  {
   "cell_type": "code",
   "execution_count": 17,
   "metadata": {},
   "outputs": [],
   "source": [
    "def f(x):\n",
    "    return ((x[0]- 2*x[1] + 1)**2 + (x[1] - 2*x[0] + 1)**2 + 1)\n",
    "\n",
    "def gradient(x):\n",
    "    return np.array([10*x[0]-8*x[1]-2, -8*x[0]+10*x[1]-2])\n",
    "\n",
    "def hessian(x):\n",
    "    return np.array([[10, -8], [-8, 10]])\n",
    "\n",
    "starting_points = [np.random.randint(-20,20, size = (1,2)) for i in range(3)]"
   ]
  },
  {
   "cell_type": "code",
   "execution_count": 18,
   "metadata": {},
   "outputs": [
    {
     "name": "stdout",
     "output_type": "stream",
     "text": [
      "------------------------------------\n",
      "Test Run 1 :\n",
      "------------------------------------\n",
      "Starting Value Used:  [[3 3]]\n",
      "The Minimum Occurs at (x, y) =  [1. 1.]\n",
      "The Minimum Value =  1.0\n",
      "Other Statistics:\n",
      "     fun: 1.0\n",
      "    hess: array([[10, -8],\n",
      "       [-8, 10]])\n",
      "     jac: array([0., 0.])\n",
      " message: 'Optimization terminated successfully.'\n",
      "    nfev: 3\n",
      "    nhev: 2\n",
      "     nit: 2\n",
      "    njev: 3\n",
      "  status: 0\n",
      " success: True\n",
      "       x: array([1., 1.])\n",
      "------------------------------------\n",
      "------------------------------------\n",
      "\n",
      "\n",
      "------------------------------------\n",
      "Test Run 2 :\n",
      "------------------------------------\n",
      "Starting Value Used:  [[ 0 18]]\n",
      "The Minimum Occurs at (x, y) =  [1. 1.]\n",
      "The Minimum Value =  1.0\n",
      "Other Statistics:\n",
      "     fun: 1.0\n",
      "    hess: array([[10, -8],\n",
      "       [-8, 10]])\n",
      "     jac: array([-3.55271368e-15, -3.55271368e-15])\n",
      " message: 'Optimization terminated successfully.'\n",
      "    nfev: 6\n",
      "    nhev: 5\n",
      "     nit: 5\n",
      "    njev: 6\n",
      "  status: 0\n",
      " success: True\n",
      "       x: array([1., 1.])\n",
      "------------------------------------\n",
      "------------------------------------\n",
      "\n",
      "\n",
      "------------------------------------\n",
      "Test Run 3 :\n",
      "------------------------------------\n",
      "Starting Value Used:  [[-10 -10]]\n",
      "The Minimum Occurs at (x, y) =  [1. 1.]\n",
      "The Minimum Value =  1.0\n",
      "Other Statistics:\n",
      "     fun: 1.0\n",
      "    hess: array([[10, -8],\n",
      "       [-8, 10]])\n",
      "     jac: array([0., 0.])\n",
      " message: 'Optimization terminated successfully.'\n",
      "    nfev: 6\n",
      "    nhev: 5\n",
      "     nit: 5\n",
      "    njev: 6\n",
      "  status: 0\n",
      " success: True\n",
      "       x: array([1., 1.])\n",
      "------------------------------------\n",
      "------------------------------------\n",
      "\n",
      "\n"
     ]
    }
   ],
   "source": [
    "for x in enumerate(starting_points):\n",
    "    result = minimize(f, x[1], method = 'dogleg',jac = gradient, hess = hessian, tol = 1.e-7) \n",
    "    \n",
    "    print(linebreak)\n",
    "    print('Test Run', x[0] + 1, ':')\n",
    "    print(linebreak)\n",
    "\n",
    "    print('Starting Value Used: ', x[1])\n",
    "    print(\"The Minimum Occurs at (x, y) = \", result.x)\n",
    "    print(\"The Minimum Value = \", f(result.x).round(3))\n",
    "    \n",
    "    print(\"Other Statistics:\") \n",
    "    print(result) \n",
    "    print(linebreak)\n",
    "    print(linebreak)\n",
    "    print('\\n')"
   ]
  },
  {
   "cell_type": "markdown",
   "metadata": {},
   "source": [
    "The minimum is found at $(-0.\\overline{1}, 0.\\overline{1})$ with a value of 3.222."
   ]
  }
 ],
 "metadata": {
  "kernelspec": {
   "display_name": "Python 3.10.4 64-bit",
   "language": "python",
   "name": "python3"
  },
  "language_info": {
   "codemirror_mode": {
    "name": "ipython",
    "version": 3
   },
   "file_extension": ".py",
   "mimetype": "text/x-python",
   "name": "python",
   "nbconvert_exporter": "python",
   "pygments_lexer": "ipython3",
   "version": "3.10.4"
  },
  "orig_nbformat": 4,
  "vscode": {
   "interpreter": {
    "hash": "aee8b7b246df8f9039afb4144a1f6fd8d2ca17a180786b69acc140d282b71a49"
   }
  }
 },
 "nbformat": 4,
 "nbformat_minor": 2
}
