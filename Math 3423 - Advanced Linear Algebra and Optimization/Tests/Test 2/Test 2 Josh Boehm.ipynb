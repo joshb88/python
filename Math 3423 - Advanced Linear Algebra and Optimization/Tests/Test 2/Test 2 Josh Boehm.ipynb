{
 "cells": [
  {
   "cell_type": "markdown",
   "metadata": {},
   "source": [
    "Joshua Boehm</br>\n",
    "December 1, 2022</br>\n",
    "Math 3423</br>\n",
    "Homework 4</br>"
   ]
  },
  {
   "cell_type": "markdown",
   "metadata": {},
   "source": [
    "# Libraries/Imports"
   ]
  },
  {
   "cell_type": "code",
   "execution_count": 71,
   "metadata": {},
   "outputs": [],
   "source": [
    "import numpy as np\n",
    "import scipy as sp\n",
    "from numpy.linalg import solve\n",
    "from numpy.linalg import qr\n",
    "from numpy.linalg import svd\n",
    "from scipy.linalg import diagsvd\n",
    "from scipy.linalg import pinv\n",
    "from scipy.optimize import minimize\n",
    "from statistics import mean \n",
    "import matplotlib.pyplot as plt"
   ]
  },
  {
   "cell_type": "markdown",
   "metadata": {},
   "source": [
    "# Question 1"
   ]
  },
  {
   "cell_type": "markdown",
   "metadata": {},
   "source": [
    "Given the data points\n",
    "$$(2,1), (5,2), (7,3), (8,3)$$\n",
    "derive the equation of the least-squares line\n",
    "$$y = mx + b$$\n",
    "that best fits the given data points. Solve the system using the QR factorization, the SVD, and the Normal Equations."
   ]
  },
  {
   "cell_type": "code",
   "execution_count": 72,
   "metadata": {},
   "outputs": [],
   "source": [
    "A = np.matrix([[2,1],[5,1],[7,1],[8,1]])\n",
    "b = np.matrix([1,2,3,3]).T"
   ]
  },
  {
   "cell_type": "markdown",
   "metadata": {},
   "source": [
    "## QR Factorization"
   ]
  },
  {
   "cell_type": "markdown",
   "metadata": {},
   "source": [
    "The matrix created from the data points:\n",
    "$$\\begin{bmatrix}2, 1 \\\\ 5, 1 \\\\7, 1 \\\\8, 1\\end{bmatrix}\n",
    "\\begin{bmatrix}m \\\\ b\\end{bmatrix}=\\begin{bmatrix}1 \\\\2 \\\\3 \\\\3\\end{bmatrix}$$\n",
    "\n",
    "To solve using $QR$ factorization, we first factor $A$ as $QR$. <br>\n",
    "Next, we pre-multiply with $Q^T$, giving $Rx=Q^Tb$ ($Q^TQ$ is the identity matrix)<br>\n",
    "Now, we can call `solve()` with $R$ and $Q^Tb$"
   ]
  },
  {
   "cell_type": "code",
   "execution_count": 73,
   "metadata": {},
   "outputs": [
    {
     "name": "stdout",
     "output_type": "stream",
     "text": [
      "[[0.35714286]\n",
      " [0.28571429]]\n"
     ]
    }
   ],
   "source": [
    "Q, R = qr(A)\n",
    "\n",
    "x = solve(R, Q.T @ b)\n",
    "print(x)"
   ]
  },
  {
   "cell_type": "markdown",
   "metadata": {},
   "source": [
    "### Solution"
   ]
  },
  {
   "cell_type": "markdown",
   "metadata": {},
   "source": [
    "$$x = \\begin{bmatrix} 0.35714286 \\\\  0.28571429\\end{bmatrix} = \\begin{bmatrix}\\frac{5}{14} \\\\ \\frac{2}{7}\\end{bmatrix}$$"
   ]
  },
  {
   "cell_type": "markdown",
   "metadata": {},
   "source": [
    "## SVD Factorization"
   ]
  },
  {
   "cell_type": "markdown",
   "metadata": {},
   "source": [
    "To solve using $SVD$ factorization, we first factor $A$ as $SVD$.    \n",
    "Now, we create the pseudo-inverse by taking the transpose of the the parts in reverse order, except with $\\Sigma$, we take the take the  reciprocals before transposing.    \n",
    "Last, we can call pre-multiply $b$ with $A^\\dagger$, as $A^\\dagger A$ is the identity matrix\n",
    "\n",
    "$$\n",
    "Ax = b \\\\\n",
    "U \\Sigma V^T x = b \\\\\n",
    "A^\\dagger = V \\Sigma^\\dagger U^T \\\\\n",
    "A^TA = I \\\\\n",
    "Ix = A^\\dagger b \\\\\n",
    "x = A^\\dagger b \\space\\space \\text{or} \\space\\space V \\Sigma^\\dagger U^T b\n",
    "$$"
   ]
  },
  {
   "cell_type": "code",
   "execution_count": 74,
   "metadata": {},
   "outputs": [
    {
     "name": "stdout",
     "output_type": "stream",
     "text": [
      "[[0.35714286]\n",
      " [0.28571429]]\n"
     ]
    }
   ],
   "source": [
    "U, sigma, VT = svd(A)\n",
    "Sigma = diagsvd(sigma, len(A), len(A.T))\n",
    "PseudoA = (VT).T @ pinv(Sigma) @ U.T \n",
    "\n",
    "x = PseudoA @  b\n",
    "print(x)"
   ]
  },
  {
   "cell_type": "markdown",
   "metadata": {},
   "source": [
    "### Solution"
   ]
  },
  {
   "cell_type": "markdown",
   "metadata": {},
   "source": [
    "$$x = \\begin{bmatrix} 0.35714286 \\\\  0.28571429\\end{bmatrix} = \\begin{bmatrix}\\frac{5}{14} \\\\ \\frac{2}{7}\\end{bmatrix}$$"
   ]
  },
  {
   "cell_type": "markdown",
   "metadata": {},
   "source": [
    "## Normal Equations"
   ]
  },
  {
   "cell_type": "markdown",
   "metadata": {},
   "source": [
    "The normal equation is that which minimizes the sum of the square differences between the left and right sides:<br>\n",
    "$$\n",
    "A^TAx = A^Tb\n",
    "$$\n",
    "\n",
    "In this case, I would just use `solve(A.T @ A, A.T @ b)` and see. You could still utilize the previous factorizations, if desired."
   ]
  },
  {
   "cell_type": "markdown",
   "metadata": {},
   "source": [
    "### Solution"
   ]
  },
  {
   "cell_type": "code",
   "execution_count": 75,
   "metadata": {},
   "outputs": [
    {
     "name": "stdout",
     "output_type": "stream",
     "text": [
      "[[0.35714286]\n",
      " [0.28571429]]\n",
      "\n",
      "[[0.35714286]\n",
      " [0.28571429]]\n",
      "\n",
      "[[0.35714286]\n",
      " [0.28571429]]\n"
     ]
    }
   ],
   "source": [
    "solvex = solve(A.T @ A, A.T @ b)\n",
    "solveqr = solve(R.T @ Q.T @ Q @ R, R.T @ Q.T @ b)\n",
    "solvesvd = solve(VT.T @ Sigma.T @ U.T @ U @ Sigma @ VT, VT.T @ Sigma.T @ U.T @ b)\n",
    "\n",
    "print(f\"{solvex}\\n\\n{solveqr}\\n\\n{solvesvd}\")"
   ]
  },
  {
   "cell_type": "markdown",
   "metadata": {},
   "source": [
    "$$x = \\begin{bmatrix} 0.35714286 \\\\  0.28571429\\end{bmatrix} = \\begin{bmatrix}\\frac{5}{14} \\\\ \\frac{2}{7}\\end{bmatrix}$$"
   ]
  },
  {
   "cell_type": "code",
   "execution_count": 76,
   "metadata": {},
   "outputs": [
    {
     "data": {
      "text/plain": [
       "[<matplotlib.lines.Line2D at 0x17cce7430>]"
      ]
     },
     "execution_count": 76,
     "metadata": {},
     "output_type": "execute_result"
    },
    {
     "data": {
      "image/png": "[encoded data removed]",
      "text/plain": [
       "<Figure size 432x288 with 1 Axes>"
      ]
     },
     "metadata": {
      "needs_background": "light"
     },
     "output_type": "display_data"
    }
   ],
   "source": [
    "X1 = np.array(A[:,0])\n",
    "Y1 = np.array(b)\n",
    "x = np.linspace(0,10,50)\n",
    "y = (5/14)*x+(2/7)\n",
    "plt.scatter(X1,Y1, edgecolor='k',c='none',s=50)\n",
    "plt.plot(x,y, \"r--\")"
   ]
  },
  {
   "cell_type": "markdown",
   "metadata": {},
   "source": [
    "# Question 2"
   ]
  },
  {
   "cell_type": "markdown",
   "metadata": {},
   "source": [
    "Let\n",
    "$$f(x,y) = 3+x+\\frac{1}{2}y-xy+\\frac{1}{2}x^2+y^2$$\n",
    "\n",
    "1. Find the Gradiant and the Hessian of this function.\n",
    "2. Starting at $\\begin{bmatrix}x^0 \\\\ y^0\\end{bmatrix} = \\begin{bmatrix}1\\\\1\\end{bmatrix}$ apply _**one-step**_ of Newtown's Method to find $\\begin{bmatrix}x^1\\\\y^1\\end{bmatrix}$ and $f(x^1,y^1)$.\n",
    "3. Use any two methods from `SCIPY.OPTIMIZE` to minimize this function."
   ]
  },
  {
   "cell_type": "markdown",
   "metadata": {},
   "source": [
    "### Gradient"
   ]
  },
  {
   "cell_type": "markdown",
   "metadata": {},
   "source": [
    "In order to derive the gradient, let's first define it:\n",
    "$$\\nabla f = \\begin{bmatrix} \\frac{\\partial f}{\\partial x} \\\\ \\frac{\\partial f}{\\partial y} \\\\ \\vdots\\end{bmatrix}$$\n",
    "\n",
    "First with regards to $x$:\n",
    "\n",
    "$$\\frac{\\partial f}{\\partial x} \\left(3+x+\\frac{1}{2}y-xy+\\frac{1}{2}x^2+y^2\\right) = x-y+1$$\n",
    "\n",
    "Next with regards to $y$:\n",
    "\n",
    "$$\\frac{\\partial f}{\\partial y} \\left(3+x+\\frac{1}{2}y-xy+\\frac{1}{2}x^2+y^2\\right)  = -x+2y+\\frac{1}{2}$$\n",
    "\n",
    "Thus:\n",
    "\n",
    "$$\\nabla f = \\begin{bmatrix} x-y+1 \\\\ -x+2y+\\frac{1}{2}\\end{bmatrix}$$"
   ]
  },
  {
   "cell_type": "markdown",
   "metadata": {},
   "source": [
    "### Hessian"
   ]
  },
  {
   "cell_type": "markdown",
   "metadata": {},
   "source": [
    "Again, to derive the Hessian, it might help to define it.\n",
    "\n",
    "$$\\bf H_f = \n",
    "\\begin{bmatrix}\n",
    "\\frac{\\partial^2f}{\\partial x^2} & \\frac{\\partial^2f}{\\partial x\\partial y} \\\\\n",
    "\\frac{\\partial^2f}{\\partial y\\partial x} & \\frac{\\partial^2 f}{\\partial y^2}\n",
    "\\end{bmatrix}$$\n",
    "\n",
    "So our second partials are as follows:\n",
    "\n",
    "\\begin{align*}\n",
    "\\frac{\\partial^2f}{\\partial x^2} &= 1 \\\\\n",
    "\\frac{\\partial^2f}{\\partial y\\partial x} &= -1 \\\\\n",
    "\\frac{\\partial^2f}{\\partial y\\partial x} &=  -1\\\\\n",
    "\\frac{\\partial^2 f}{\\partial y^2} &= 2\n",
    "\\end{align*}\n",
    "\n",
    "\n",
    "This makes the Hessian:\n",
    "$$\n",
    "\\bf {H}_f = \\begin{bmatrix} 1 &-1 \\\\ -1 &2\\end{bmatrix}\n",
    "$$"
   ]
  },
  {
   "cell_type": "markdown",
   "metadata": {},
   "source": [
    "### Definitions"
   ]
  },
  {
   "cell_type": "code",
   "execution_count": 77,
   "metadata": {},
   "outputs": [],
   "source": [
    "def q2(x): \n",
    "   return 3 + x[0] + (1/2)*x[1] - x[0]*x[1] + (1/2)*x[0]**2 + x[1]**2\n",
    "\n",
    "def q2_gradient(x):\n",
    "   return np.array([x[0]-x[1]+1, \n",
    "                    -x[0]+2*x[1]+(1/2)])\n",
    "\n",
    "def q2_hessian(x):\n",
    "   return np.array([[1,-1], \n",
    "                    [-1,2]])\n",
    "starting_points = [np.random.randint(-20,20, size = (1,2)) for i in range(3)]\n",
    "section_break = \"==========================================================\""
   ]
  },
  {
   "cell_type": "markdown",
   "metadata": {},
   "source": [
    "Apply one step of Newton's Method:"
   ]
  },
  {
   "cell_type": "code",
   "execution_count": 78,
   "metadata": {},
   "outputs": [
    {
     "data": {
      "text/plain": [
       "array([0.79591837, 0.90816327])"
      ]
     },
     "execution_count": 78,
     "metadata": {},
     "output_type": "execute_result"
    }
   ],
   "source": []
  },
  {
   "cell_type": "markdown",
   "metadata": {},
   "source": [
    "## Use any two methods from `SCIPY.OPTIMIZE` to minimize this function."
   ]
  },
  {
   "cell_type": "markdown",
   "metadata": {},
   "source": [
    "### Method 1: <span style=\"color: tan;\">Nelder-Mead</span>"
   ]
  },
  {
   "cell_type": "code",
   "execution_count": 79,
   "metadata": {},
   "outputs": [
    {
     "name": "stdout",
     "output_type": "stream",
     "text": [
      "==========================================================\n",
      "Test Run 1 :\n",
      "==========================================================\n",
      "Starting Value Used:  [[-15   4]]\n",
      "The Minimum Occurs at (x, y) =  [-2.5        -1.50000002]\n",
      "The Minimum Value =  1.375\n",
      "Other Statistics:\n",
      " final_simplex: (array([[-2.5       , -1.50000002],\n",
      "       [-2.50000009, -1.50000007],\n",
      "       [-2.50000003, -1.49999994]]), array([1.375, 1.375, 1.375]))\n",
      "           fun: 1.3750000000000009\n",
      "       message: 'Optimization terminated successfully.'\n",
      "          nfev: 145\n",
      "           nit: 75\n",
      "        status: 0\n",
      "       success: True\n",
      "             x: array([-2.5       , -1.50000002])\n",
      "==========================================================\n",
      "==========================================================\n",
      "\n",
      "\n",
      "==========================================================\n",
      "Test Run 2 :\n",
      "==========================================================\n",
      "Starting Value Used:  [[-2 12]]\n",
      "The Minimum Occurs at (x, y) =  [-2.49999995 -1.49999996]\n",
      "The Minimum Value =  1.375\n",
      "Other Statistics:\n",
      " final_simplex: (array([[-2.49999995, -1.49999996],\n",
      "       [-2.5       , -1.50000003],\n",
      "       [-2.50000004, -1.50000002]]), array([1.375, 1.375, 1.375]))\n",
      "           fun: 1.3750000000000009\n",
      "       message: 'Optimization terminated successfully.'\n",
      "          nfev: 121\n",
      "           nit: 63\n",
      "        status: 0\n",
      "       success: True\n",
      "             x: array([-2.49999995, -1.49999996])\n",
      "==========================================================\n",
      "==========================================================\n",
      "\n",
      "\n",
      "==========================================================\n",
      "Test Run 3 :\n",
      "==========================================================\n",
      "Starting Value Used:  [[  5 -15]]\n",
      "The Minimum Occurs at (x, y) =  [-2.50000001 -1.49999999]\n",
      "The Minimum Value =  1.375\n",
      "Other Statistics:\n",
      " final_simplex: (array([[-2.50000001, -1.49999999],\n",
      "       [-2.5000001 , -1.50000007],\n",
      "       [-2.49999995, -1.50000005]]), array([1.375, 1.375, 1.375]))\n",
      "           fun: 1.375\n",
      "       message: 'Optimization terminated successfully.'\n",
      "          nfev: 139\n",
      "           nit: 71\n",
      "        status: 0\n",
      "       success: True\n",
      "             x: array([-2.50000001, -1.49999999])\n",
      "==========================================================\n",
      "==========================================================\n",
      "\n",
      "\n"
     ]
    }
   ],
   "source": [
    "for x in enumerate(starting_points):\n",
    "    result = minimize(q2, x[1], method = 'Nelder-Mead', tol = 1.e-7) \n",
    "    \n",
    "    print(section_break)\n",
    "    print('Test Run', x[0] + 1, ':')\n",
    "    print(section_break)\n",
    "\n",
    "    print('Starting Value Used: ', x[1])\n",
    "    print(\"The Minimum Occurs at (x, y) = \", result.x)\n",
    "    print(\"The Minimum Value = \", q2(result.x).round(3))\n",
    "    \n",
    "    print(\"Other Statistics:\") \n",
    "    print(result) \n",
    "    print(section_break)\n",
    "    print(section_break)\n",
    "    print('\\n')"
   ]
  },
  {
   "cell_type": "markdown",
   "metadata": {},
   "source": [
    "### Method 2: <span style=\"color: tan;\">Powell</span>"
   ]
  },
  {
   "cell_type": "code",
   "execution_count": 80,
   "metadata": {},
   "outputs": [
    {
     "name": "stdout",
     "output_type": "stream",
     "text": [
      "==========================================================\n",
      "Test Run 1 :\n",
      "==========================================================\n",
      "Starting Value Used:  [[-15   4]]\n",
      "The Minimum Occurs at (x, y) =  [-2.5 -1.5]\n",
      "The Minimum Value =  1.375\n",
      "Other Statistics:\n",
      "   direc: array([[ 0.   ,  1.   ],\n",
      "       [-2.75 , -1.375]])\n",
      "     fun: 1.3749999999999996\n",
      " message: 'Optimization terminated successfully.'\n",
      "    nfev: 89\n",
      "     nit: 3\n",
      "  status: 0\n",
      " success: True\n",
      "       x: array([-2.5, -1.5])\n",
      "==========================================================\n",
      "==========================================================\n",
      "\n",
      "\n",
      "==========================================================\n",
      "Test Run 2 :\n",
      "==========================================================\n",
      "Starting Value Used:  [[-2 12]]\n",
      "The Minimum Occurs at (x, y) =  [-2.5        -1.49999998]\n",
      "The Minimum Value =  1.375\n",
      "Other Statistics:\n",
      "   direc: array([[ 0.   ,  1.   ],\n",
      "       [-6.75 , -3.375]])\n",
      "     fun: 1.375\n",
      " message: 'Optimization terminated successfully.'\n",
      "    nfev: 100\n",
      "     nit: 3\n",
      "  status: 0\n",
      " success: True\n",
      "       x: array([-2.5       , -1.49999998])\n",
      "==========================================================\n",
      "==========================================================\n",
      "\n",
      "\n",
      "==========================================================\n",
      "Test Run 3 :\n",
      "==========================================================\n",
      "Starting Value Used:  [[  5 -15]]\n",
      "The Minimum Occurs at (x, y) =  [-2.49999999 -1.50000001]\n",
      "The Minimum Value =  1.375\n",
      "Other Statistics:\n",
      "   direc: array([[0.   , 1.   ],\n",
      "       [6.75 , 3.375]])\n",
      "     fun: 1.375\n",
      " message: 'Optimization terminated successfully.'\n",
      "    nfev: 131\n",
      "     nit: 3\n",
      "  status: 0\n",
      " success: True\n",
      "       x: array([-2.49999999, -1.50000001])\n",
      "==========================================================\n",
      "==========================================================\n",
      "\n",
      "\n"
     ]
    }
   ],
   "source": [
    "for x in enumerate(starting_points):\n",
    "    result = minimize(q2, x[1], method = 'Powell',tol = 1.e-7) \n",
    "    \n",
    "    print(section_break)\n",
    "    print('Test Run', x[0] + 1, ':')\n",
    "    print(section_break)\n",
    "\n",
    "    print('Starting Value Used: ', x[1])\n",
    "    print(\"The Minimum Occurs at (x, y) = \", result.x)\n",
    "    print(\"The Minimum Value = \", q2(result.x).round(3))\n",
    "    \n",
    "    print(\"Other Statistics:\") \n",
    "    print(result) \n",
    "\n",
    "    print(section_break)\n",
    "    print(section_break)\n",
    "    print('\\n')"
   ]
  },
  {
   "cell_type": "markdown",
   "metadata": {},
   "source": [
    "# Question 3"
   ]
  },
  {
   "cell_type": "markdown",
   "metadata": {},
   "source": [
    "Let\n",
    "$$f(x,y) = 7 + 5x + 6y + 4xy + 3(x^2+y^2)^2$$\n",
    "\n",
    "1. Find the Gradiant and the Hessian of this function.\n",
    "3. Use any two optimization methods from `SCIPY.OPTIMIZE` to minimize this function."
   ]
  },
  {
   "cell_type": "markdown",
   "metadata": {},
   "source": [
    "### Gradient"
   ]
  },
  {
   "cell_type": "markdown",
   "metadata": {},
   "source": [
    "As before, the Gradient definition is:\n",
    "$$\\nabla f = \\begin{bmatrix} \\frac{\\partial f}{\\partial x} \\\\ \\frac{\\partial f}{\\partial y} \\\\ \\vdots\\end{bmatrix}$$\n",
    "\n",
    "First with regards to $x$:\n",
    "\n",
    "$$\\frac{\\partial f}{\\partial x} \\left(7 + 5x + 6y + 4xy + 3(x^2+y^2)^2\\right) =12x(x^2+y^2)+4y+5$$\n",
    "\n",
    "Next with regards to $y$:\n",
    "\n",
    "$$\\frac{\\partial f}{\\partial y} \\left(7 + 5x + 6y + 4xy + 3(x^2+y^2)^2\\right)  = 4x+12y(x^2+y^2)+6$$\n",
    "\n",
    "Thus:\n",
    "\n",
    "$$\\nabla f = \\begin{bmatrix}12x(x^2+y^2)+4y+5 \\\\ 4x+12y(x^2+y^2)+6\\end{bmatrix}$$"
   ]
  },
  {
   "cell_type": "markdown",
   "metadata": {},
   "source": [
    "### Hessian"
   ]
  },
  {
   "cell_type": "markdown",
   "metadata": {},
   "source": [
    "Again, to derive the Hessian, it might help to define it.\n",
    "\n",
    "$$\\bf H_f = \n",
    "\\begin{bmatrix}\n",
    "\\frac{\\partial^2f}{\\partial x^2} & \\frac{\\partial^2f}{\\partial x\\partial y} \\\\\n",
    "\\frac{\\partial^2f}{\\partial y\\partial x} & \\frac{\\partial^2 f}{\\partial y^2}\n",
    "\\end{bmatrix}$$\n",
    "\n",
    "So our second partials are as follows:\n",
    "\n",
    "\\begin{align*}\n",
    "\\frac{\\partial^2f}{\\partial x^2} &= 36x^2 + 12y^2 \\\\\n",
    "\\frac{\\partial^2f}{\\partial y\\partial x} &= 24xy+4 \\\\\n",
    "\\frac{\\partial^2f}{\\partial y\\partial x} &=  24xy+4\\\\\n",
    "\\frac{\\partial^2 f}{\\partial y^2} &= 12x^2+36y^2\n",
    "\\end{align*}\n",
    "\n",
    "\n",
    "This makes the Hessian:\n",
    "$$\n",
    "\\bf {H}_f = \\begin{bmatrix} 36x^2 + 12y^2 &24xy+4 \\\\ 24xy+4 &12x^2+36y^2\\end{bmatrix}\n",
    "$$"
   ]
  },
  {
   "cell_type": "markdown",
   "metadata": {},
   "source": [
    "### Definitions"
   ]
  },
  {
   "cell_type": "code",
   "execution_count": 81,
   "metadata": {},
   "outputs": [],
   "source": [
    "def q3(x): \n",
    "   return 3 + x[0] + (1/2)*x[1] - x[0]*x[1] + (1/2)*x[0]**2 + x[1]**2\n",
    "\n",
    "def q3_gradient(x):\n",
    "   return np.array([12*x[0]*(x[0]**2 + x[1]**2) + 4*x[1] + 5, \n",
    "                    4*x[0] +12*x[1]*(x[0]**2 + x[1]**2) + 6])\n",
    "\n",
    "def q3_hessian(x):\n",
    "   return np.array([[36*x[0]**2 + 12*x[1]**2,24*x[0]*x[1]+4], \n",
    "                    [24*x[0]*x[1]+4,12*x[0]**2 + 36*x[1]**2 ]])\n",
    "\n",
    "section_break = \"==========================================================\""
   ]
  },
  {
   "cell_type": "markdown",
   "metadata": {},
   "source": [
    "### Method 1: <span style=\"color: tan;\">Nelder-Mead</span>"
   ]
  },
  {
   "cell_type": "code",
   "execution_count": 82,
   "metadata": {},
   "outputs": [
    {
     "name": "stdout",
     "output_type": "stream",
     "text": [
      "==========================================================\n",
      "Test Run 1 :\n",
      "==========================================================\n",
      "Starting Value Used:  [[-15   4]]\n",
      "The Minimum Occurs at (x, y) =  [-2.5        -1.50000002]\n",
      "The Minimum Value =  1.375\n",
      "Other Statistics:\n",
      " final_simplex: (array([[-2.5       , -1.50000002],\n",
      "       [-2.50000009, -1.50000007],\n",
      "       [-2.50000003, -1.49999994]]), array([1.375, 1.375, 1.375]))\n",
      "           fun: 1.3750000000000009\n",
      "       message: 'Optimization terminated successfully.'\n",
      "          nfev: 145\n",
      "           nit: 75\n",
      "        status: 0\n",
      "       success: True\n",
      "             x: array([-2.5       , -1.50000002])\n",
      "==========================================================\n",
      "==========================================================\n",
      "\n",
      "\n",
      "==========================================================\n",
      "Test Run 2 :\n",
      "==========================================================\n",
      "Starting Value Used:  [[-2 12]]\n",
      "The Minimum Occurs at (x, y) =  [-2.49999995 -1.49999996]\n",
      "The Minimum Value =  1.375\n",
      "Other Statistics:\n",
      " final_simplex: (array([[-2.49999995, -1.49999996],\n",
      "       [-2.5       , -1.50000003],\n",
      "       [-2.50000004, -1.50000002]]), array([1.375, 1.375, 1.375]))\n",
      "           fun: 1.3750000000000009\n",
      "       message: 'Optimization terminated successfully.'\n",
      "          nfev: 121\n",
      "           nit: 63\n",
      "        status: 0\n",
      "       success: True\n",
      "             x: array([-2.49999995, -1.49999996])\n",
      "==========================================================\n",
      "==========================================================\n",
      "\n",
      "\n",
      "==========================================================\n",
      "Test Run 3 :\n",
      "==========================================================\n",
      "Starting Value Used:  [[  5 -15]]\n",
      "The Minimum Occurs at (x, y) =  [-2.50000001 -1.49999999]\n",
      "The Minimum Value =  1.375\n",
      "Other Statistics:\n",
      " final_simplex: (array([[-2.50000001, -1.49999999],\n",
      "       [-2.5000001 , -1.50000007],\n",
      "       [-2.49999995, -1.50000005]]), array([1.375, 1.375, 1.375]))\n",
      "           fun: 1.375\n",
      "       message: 'Optimization terminated successfully.'\n",
      "          nfev: 139\n",
      "           nit: 71\n",
      "        status: 0\n",
      "       success: True\n",
      "             x: array([-2.50000001, -1.49999999])\n",
      "==========================================================\n",
      "==========================================================\n",
      "\n",
      "\n"
     ]
    }
   ],
   "source": [
    "for x in enumerate(starting_points):\n",
    "    result = minimize(q3, x[1], method = 'Nelder-Mead', tol = 1.e-7) \n",
    "    \n",
    "    print(section_break)\n",
    "    print('Test Run', x[0] + 1, ':')\n",
    "    print(section_break)\n",
    "\n",
    "    print('Starting Value Used: ', x[1])\n",
    "    print(\"The Minimum Occurs at (x, y) = \", result.x)\n",
    "    print(\"The Minimum Value = \", q3(result.x).round(3))\n",
    "    \n",
    "    print(\"Other Statistics:\") \n",
    "    print(result) \n",
    "    print(section_break)\n",
    "    print(section_break)\n",
    "    print('\\n')"
   ]
  },
  {
   "cell_type": "markdown",
   "metadata": {},
   "source": [
    "### Method 2: <span style=\"color: tan;\">Powell</span>"
   ]
  },
  {
   "cell_type": "code",
   "execution_count": 83,
   "metadata": {},
   "outputs": [
    {
     "name": "stdout",
     "output_type": "stream",
     "text": [
      "==========================================================\n",
      "Test Run 1 :\n",
      "==========================================================\n",
      "Starting Value Used:  [[-15   4]]\n",
      "The Minimum Occurs at (x, y) =  [-2.5 -1.5]\n",
      "The Minimum Value =  1.375\n",
      "Other Statistics:\n",
      "   direc: array([[ 0.   ,  1.   ],\n",
      "       [-2.75 , -1.375]])\n",
      "     fun: 1.3749999999999996\n",
      " message: 'Optimization terminated successfully.'\n",
      "    nfev: 89\n",
      "     nit: 3\n",
      "  status: 0\n",
      " success: True\n",
      "       x: array([-2.5, -1.5])\n",
      "==========================================================\n",
      "==========================================================\n",
      "\n",
      "\n",
      "==========================================================\n",
      "Test Run 2 :\n",
      "==========================================================\n",
      "Starting Value Used:  [[-2 12]]\n",
      "The Minimum Occurs at (x, y) =  [-2.5        -1.49999998]\n",
      "The Minimum Value =  1.375\n",
      "Other Statistics:\n",
      "   direc: array([[ 0.   ,  1.   ],\n",
      "       [-6.75 , -3.375]])\n",
      "     fun: 1.375\n",
      " message: 'Optimization terminated successfully.'\n",
      "    nfev: 100\n",
      "     nit: 3\n",
      "  status: 0\n",
      " success: True\n",
      "       x: array([-2.5       , -1.49999998])\n",
      "==========================================================\n",
      "==========================================================\n",
      "\n",
      "\n",
      "==========================================================\n",
      "Test Run 3 :\n",
      "==========================================================\n",
      "Starting Value Used:  [[  5 -15]]\n",
      "The Minimum Occurs at (x, y) =  [-2.49999999 -1.50000001]\n",
      "The Minimum Value =  1.375\n",
      "Other Statistics:\n",
      "   direc: array([[0.   , 1.   ],\n",
      "       [6.75 , 3.375]])\n",
      "     fun: 1.375\n",
      " message: 'Optimization terminated successfully.'\n",
      "    nfev: 131\n",
      "     nit: 3\n",
      "  status: 0\n",
      " success: True\n",
      "       x: array([-2.49999999, -1.50000001])\n",
      "==========================================================\n",
      "==========================================================\n",
      "\n",
      "\n"
     ]
    }
   ],
   "source": [
    "for x in enumerate(starting_points):\n",
    "    result = minimize(q3, x[1], method = 'Powell',tol = 1.e-7) \n",
    "    \n",
    "    print(section_break)\n",
    "    print('Test Run', x[0] + 1, ':')\n",
    "    print(section_break)\n",
    "\n",
    "    print('Starting Value Used: ', x[1])\n",
    "    print(\"The Minimum Occurs at (x, y) = \", result.x)\n",
    "    print(\"The Minimum Value = \", q3(result.x).round(3))\n",
    "    \n",
    "    print(\"Other Statistics:\") \n",
    "    print(result) \n",
    "\n",
    "    print(section_break)\n",
    "    print(section_break)\n",
    "    print('\\n')"
   ]
  },
  {
   "cell_type": "code",
   "execution_count": null,
   "metadata": {},
   "outputs": [],
   "source": []
  },
  {
   "cell_type": "code",
   "execution_count": 84,
   "metadata": {},
   "outputs": [
    {
     "name": "stderr",
     "output_type": "stream",
     "text": [
      "/var/folders/90/b16ybj8s2gv__lhxf5ttmvj40000gn/T/ipykernel_34318/1248200888.py:6: MatplotlibDeprecationWarning: Calling gca() with keyword arguments was deprecated in Matplotlib 3.4. Starting two minor releases later, gca() will take no keyword arguments. The gca() function should only be used to get the current axes, or if no axes exist, create new axes with default keyword arguments. To create a new axes with non-default arguments, use plt.axes() or plt.subplot().\n",
      "  ax = fig.gca(projection='3d')\n"
     ]
    },
    {
     "data": {
      "image/png": "[encoded data removed]",
      "text/plain": [
       "<Figure size 432x288 with 1 Axes>"
      ]
     },
     "metadata": {
      "needs_background": "light"
     },
     "output_type": "display_data"
    }
   ],
   "source": [
    "from numpy import linspace, meshgrid\n",
    "import matplotlib.pyplot as plt\n",
    "from matplotlib import cm\n",
    "\n",
    "fig = plt.figure()\n",
    "ax = fig.gca(projection='3d') \n",
    "\n",
    "x = linspace( -1, 1, 20)\n",
    "y = linspace( -1, 1, 20)\n",
    " \n",
    "x, y = meshgrid(x,y)\n",
    "z= 3 + x + (1/2)*y - x*y + (1/2)*x**2 + y**2\n",
    "\n",
    "surf = ax.plot_surface(x, y, z, \n",
    "       rstride=1, cstride=1, cmap=cm.jet, linewidth=0)\n",
    "plt.show()"
   ]
  }
 ],
 "metadata": {
  "kernelspec": {
   "display_name": "Python 3.10.4 64-bit",
   "language": "python",
   "name": "python3"
  },
  "language_info": {
   "codemirror_mode": {
    "name": "ipython",
    "version": 3
   },
   "file_extension": ".py",
   "mimetype": "text/x-python",
   "name": "python",
   "nbconvert_exporter": "python",
   "pygments_lexer": "ipython3",
   "version": "3.10.4 (v3.10.4:9d38120e33, Mar 23 2022, 17:29:05) [Clang 13.0.0 (clang-1300.0.29.30)]"
  },
  "orig_nbformat": 4,
  "vscode": {
   "interpreter": {
    "hash": "aee8b7b246df8f9039afb4144a1f6fd8d2ca17a180786b69acc140d282b71a49"
   }
  }
 },
 "nbformat": 4,
 "nbformat_minor": 2
}
