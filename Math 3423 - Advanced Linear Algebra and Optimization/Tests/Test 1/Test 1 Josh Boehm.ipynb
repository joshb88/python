{
 "cells": [
  {
   "cell_type": "markdown",
   "metadata": {},
   "source": [
    "Let:<br>\n",
    "$A = $ `np.random.randint(-1,4,size=(3,2))`, <br>\n",
    "$b = $ `np.random.randint(1,5, size=(3,1))`, and<br>\n",
    "$c = $ `np.random.randint(1,5,size =(2,1))`.\n"
   ]
  },
  {
   "cell_type": "code",
   "execution_count": 140,
   "metadata": {},
   "outputs": [],
   "source": [
    "import numpy as np\n",
    "import scipy as sp\n",
    "from scipy.linalg import svd, qr, cholesky, ldl, lu, svd, diagsvd, pinv, solve\n",
    "from numpy.linalg import cond"
   ]
  },
  {
   "cell_type": "code",
   "execution_count": 20,
   "metadata": {},
   "outputs": [
    {
     "name": "stdout",
     "output_type": "stream",
     "text": [
      "Matrix A:\n",
      "[[2 1]\n",
      " [2 2]\n",
      " [1 3]]\n",
      "\n",
      "Matrix b:\n",
      "[[1]\n",
      " [1]\n",
      " [3]]\n",
      "\n",
      "Matrix c:\n",
      "[[2]\n",
      " [2]]\n"
     ]
    }
   ],
   "source": [
    "a = np.random.randint(-1,4,size=(3,2))\n",
    "B = np.random.randint(1,5, size=(3,1))\n",
    "C = np.random.randint(1,5,size =(2,1))\n",
    "\n",
    "print(f\"\\\n",
    "Matrix A:\\n{a}\\n\\n\\\n",
    "Matrix b:\\n{B}\\n\\n\\\n",
    "Matrix c:\\n{C}\\\n",
    "\")"
   ]
  },
  {
   "cell_type": "markdown",
   "metadata": {},
   "source": [
    "## Question 1\n",
    "\n",
    "[2 points] Solve $A^TAx = A^Tb$ using $PLU$ factorization."
   ]
  },
  {
   "cell_type": "code",
   "execution_count": 21,
   "metadata": {},
   "outputs": [
    {
     "name": "stdout",
     "output_type": "stream",
     "text": [
      " The original A matrix: \n",
      " [[2 1]\n",
      " [2 2]\n",
      " [1 3]] \n",
      "\n",
      " The original right-side matrix b: \n",
      " [[1]\n",
      " [1]\n",
      " [3]] \n",
      "\n",
      " The matrix A^t A: \n",
      " [[ 9  9]\n",
      " [ 9 14]] \n",
      "\n",
      " The right-side matrix A^t b \n",
      " [[ 7]\n",
      " [12]] \n",
      "\n",
      " The Permutation matrix: \n",
      " [[1. 0.]\n",
      " [0. 1.]] \n",
      "\n",
      " The Lower matrix: \n",
      " [[1. 0.]\n",
      " [1. 1.]] \n",
      "\n",
      " The Upper matrix: \n",
      " [[9. 9.]\n",
      " [0. 5.]] \n",
      "\n",
      "The solution vector x:\n",
      "[[-0.22222222]\n",
      " [ 1.        ]]\n",
      "\n"
     ]
    }
   ],
   "source": [
    "# This step keeps the programs I have a bit simpler to utilize; \n",
    "# I don't have to reorganize the programming based on whether it's A, A.T, A.T @ A, or A @ A.T.\n",
    "A= a.T @ a\n",
    "b = a.T @ B\n",
    "\n",
    "P, L, U = lu(A) \n",
    "\n",
    "x = solve(A, b)\n",
    "\n",
    "print(f\" \\\n",
    "The original A matrix: \\n {a} \\n\\n \\\n",
    "The original right-side matrix b: \\n {B} \\n\\n \\\n",
    "The matrix A^t A: \\n {A} \\n\\n \\\n",
    "The right-side matrix A^t b \\n {b} \\n\\n \\\n",
    "The Permutation matrix: \\n {P} \\n\\n \\\n",
    "The Lower matrix: \\n {L} \\n\\n \\\n",
    "The Upper matrix: \\n {U} \\n\\n\\\n",
    "The solution vector x:\\n{x}\\n\\\n",
    "\")"
   ]
  },
  {
   "cell_type": "markdown",
   "metadata": {},
   "source": [
    "## Question 2\n",
    "\n",
    "[2 points] Solve $AA^Ty = Ac$ using the $LDL^T$ factorization."
   ]
  },
  {
   "cell_type": "code",
   "execution_count": 58,
   "metadata": {},
   "outputs": [
    {
     "name": "stdout",
     "output_type": "stream",
     "text": [
      " The original A matrix: \n",
      " [[2 1]\n",
      " [2 2]\n",
      " [1 3]] \n",
      "\n",
      " The original right-side matrix c: \n",
      " [[2]\n",
      " [2]] \n",
      "\n",
      " The matrix A A^t: \n",
      " [[ 5  6  5]\n",
      " [ 6  8  8]\n",
      " [ 5  8 10]] \n",
      "\n",
      " The right-side matrix A c \n",
      " [[6]\n",
      " [8]\n",
      " [8]] \n",
      "\n",
      " The Permutation matrix: \n",
      " [0 2 1] \n",
      "\n",
      " The Lower matrix: \n",
      " [[1.  0.  0. ]\n",
      " [1.2 0.4 1. ]\n",
      " [1.  1.  0. ]] \n",
      "\n",
      " The Diagonal matrix: \n",
      " [[ 5.00000000e+00  0.00000000e+00  0.00000000e+00]\n",
      " [ 0.00000000e+00  5.00000000e+00  0.00000000e+00]\n",
      " [ 0.00000000e+00  0.00000000e+00 -4.21884749e-16]] \n",
      "\n",
      "Reconstitution of A A^T:\n",
      "[[ 5.  6.  5.]\n",
      " [ 6.  8.  8.]\n",
      " [ 5.  8. 10.]]\n",
      "\n",
      "Solve Lz = Ac for z:\n",
      "[[ 6.00000000e+00]\n",
      " [ 2.00000000e+00]\n",
      " [-3.55271368e-16]]\n",
      "\n",
      "Solve Dy=z for y:\n",
      "[[1.2       ]\n",
      " [0.4       ]\n",
      " [0.84210526]]\n",
      "\n",
      "Solve L^tx = y for x (in our case, its really y):\n",
      "[[1.2       ]\n",
      " [0.4       ]\n",
      " [0.84210526]]\n",
      "\n",
      "Rebuild to test validity:\n",
      "[[6.]\n",
      " [8.]\n",
      " [8.]]\n",
      "\n",
      "Ac:\n",
      "[[6]\n",
      " [8]\n",
      " [8]]\n",
      "\n",
      "\n",
      "Condition number:\n",
      "3.5996471215481224e+16\n"
     ]
    },
    {
     "name": "stderr",
     "output_type": "stream",
     "text": [
      "/var/folders/90/b16ybj8s2gv__lhxf5ttmvj40000gn/T/ipykernel_10023/2976227465.py:5: LinAlgWarning: Ill-conditioned matrix (rcond=8.42541e-18): result may not be accurate.\n",
      "  sol = solve(A, b)\n",
      "/var/folders/90/b16ybj8s2gv__lhxf5ttmvj40000gn/T/ipykernel_10023/2976227465.py:7: LinAlgWarning: Ill-conditioned matrix (rcond=8.43769e-17): result may not be accurate.\n",
      "  y = solve(D, z)\n"
     ]
    }
   ],
   "source": [
    "A = a @ a.T\n",
    "b = a @ C\n",
    "\n",
    "L, D, P = ldl(A)\n",
    "sol = solve(A, b)\n",
    "z = solve(L, b)\n",
    "y = solve(D, z)\n",
    "x = solve(L.T, y)\n",
    "\n",
    "\n",
    "print(f\" \\\n",
    "The original A matrix: \\n {a} \\n\\n \\\n",
    "The original right-side matrix c: \\n {C} \\n\\n \\\n",
    "The matrix A A^t: \\n {A} \\n\\n \\\n",
    "The right-side matrix A c \\n {b} \\n\\n \\\n",
    "The Permutation matrix: \\n {P} \\n\\n \\\n",
    "The Lower matrix: \\n {L} \\n\\n \\\n",
    "The Diagonal matrix: \\n {D} \\n\\n\\\n",
    "Reconstitution of A A^T:\\n{L @ D @ L.T}\\n\\n\\\n",
    "Solve Lz = Ac for z:\\n{z}\\n\\n\\\n",
    "Solve Dy=z for y:\\n{y}\\n\\n\\\n",
    "Solve L^tx = y for x (in our case, its really y):\\n{y}\\n\\n\\\n",
    "Rebuild to test validity:\\n{L@D@L.T@x}\\n\\n\\\n",
    "Ac:\\n{b}\\n\\n\\\n",
    "\")\n",
    "\n",
    "print(f\"Condition number:\\n{cond(A)}\")"
   ]
  },
  {
   "cell_type": "markdown",
   "metadata": {},
   "source": [
    "It's worth noting that the condition number of the matrix is quite high sometimes. It may result in poor rounding."
   ]
  },
  {
   "cell_type": "markdown",
   "metadata": {},
   "source": [
    "## Question 3\n",
    "\n",
    "[4 points] Solve $A^TAx = A^Tb$ and $AA^Ty = Ac$ using the Cholesky factorization."
   ]
  },
  {
   "cell_type": "markdown",
   "metadata": {},
   "source": [
    "### $A^TAx = A^Tb$ variant"
   ]
  },
  {
   "cell_type": "markdown",
   "metadata": {},
   "source": [
    "The below is a matrix that seemed to work with Cholesky's. Feel free to use the same or search for your own!"
   ]
  },
  {
   "cell_type": "code",
   "execution_count": 68,
   "metadata": {},
   "outputs": [],
   "source": [
    "aposdef = np.array([[2,1],[2,2],[1,3]])\n",
    "bposdef = np.array([[1],[1],[3]])\n",
    "# print(aposdef)\n",
    "# print(bposdef)"
   ]
  },
  {
   "cell_type": "code",
   "execution_count": 74,
   "metadata": {},
   "outputs": [
    {
     "name": "stdout",
     "output_type": "stream",
     "text": [
      " The original A matrix: \n",
      " [[2 1]\n",
      " [2 2]\n",
      " [1 3]] \n",
      "\n",
      " The matrix A^t A: \n",
      " [[ 9  9]\n",
      " [ 9 14]] \n",
      "\n",
      " The original right-side matrix b: \n",
      " [[1]\n",
      " [1]\n",
      " [3]] \n",
      "\n",
      " The right-side matrix A^t b: \n",
      " [[ 7]\n",
      " [12]] \n",
      "\n",
      " The Cholesky Lower matrix: \n",
      " [[3.         3.        ]\n",
      " [0.         2.23606798]] \n",
      "\n",
      " Solve A^T A x = L L^t x =  A^T b\n",
      "\n",
      " 1st: Solve Ly =  b for y:\n",
      "[[-3.03322981]\n",
      " [ 5.36656315]]\n",
      "\n",
      " 2nd: Solve L^tx = y for x: \n",
      " [[-1.0110766 ]\n",
      " [ 3.75650161]] \n",
      "\n",
      " Reconstruct to check:\n",
      " [[ 7.]\n",
      " [12.]]\n",
      "\n",
      " The A^T b matrix for comparison: \n",
      " [[ 7]\n",
      " [12]]\n"
     ]
    }
   ],
   "source": [
    "a = aposdef\n",
    "b = bposdef\n",
    "\n",
    "A = a.T @ a\n",
    "b = a.T @ B\n",
    "\n",
    "L = cholesky(A)\n",
    "y = solve(L, b)\n",
    "x = solve(L.T, y)\n",
    "\n",
    "print(f\" \\\n",
    "The original A matrix: \\n {aposdef} \\n\\n \\\n",
    "The matrix A^t A: \\n {A} \\n\\n \\\n",
    "The original right-side matrix b: \\n {bposdef} \\n\\n \\\n",
    "The right-side matrix A^t b: \\n {b} \\n\\n \\\n",
    "The Cholesky Lower matrix: \\n {L} \\n\\n \\\n",
    "Solve A^T A x = L L^t x =  A^T b\\n\\n \\\n",
    "1st: Solve Ly =  b for y:\\n{y}\\n\\n \\\n",
    "2nd: Solve L^tx = y for x: \\n {x} \\n\\n \\\n",
    "Reconstruct to check:\\n {L @ L.T @ x}\\n\\n \\\n",
    "The A^T b matrix for comparison: \\n {b}\")"
   ]
  },
  {
   "cell_type": "markdown",
   "metadata": {},
   "source": [
    "### $AA^T$ variant"
   ]
  },
  {
   "cell_type": "code",
   "execution_count": 117,
   "metadata": {},
   "outputs": [
    {
     "name": "stdout",
     "output_type": "stream",
     "text": [
      " The original A matrix: \n",
      " [[ 3 -1]\n",
      " [ 1  2]\n",
      " [-1  0]] \n",
      "\n",
      " The matrix A^t A: \n",
      " [[10  1 -3]\n",
      " [ 1  5 -1]\n",
      " [-3 -1  1]] \n",
      "\n",
      " The original right-side matrix b: \n",
      " [[1]\n",
      " [1]\n",
      " [3]] \n",
      "\n",
      " The right-side matrix A^t b: \n",
      " [[ 2]\n",
      " [ 3]\n",
      " [-1]] \n",
      "\n",
      " The Cholesky Lower matrix: \n",
      " [[ 3.16227766e+00  3.16227766e-01 -9.48683298e-01]\n",
      " [ 0.00000000e+00  2.21359436e+00 -3.16227766e-01]\n",
      " [ 0.00000000e+00  0.00000000e+00  1.05367121e-08]] \n",
      "\n",
      " Solve A^T A x = L L^t x =  A^T b\n",
      "\n",
      " 1st: Solve Ly =  b for y:\n",
      "[[-27116075.39571395]\n",
      " [-13558036.5910598 ]\n",
      " [-94906265.62425154]]\n",
      "\n",
      " 2nd: Solve L^tx = y for x: \n",
      " [[-8.57485595e+06]\n",
      " [-4.89991718e+06]\n",
      " [-9.92630119e+15]] \n",
      "\n",
      " Reconstruct to check:\n",
      " [[ 1.99999999]\n",
      " [ 3.        ]\n",
      " [-1.        ]]\n",
      "\n",
      " The A^T b matrix for comparison: \n",
      " [[ 2]\n",
      " [ 3]\n",
      " [-1]]\n"
     ]
    }
   ],
   "source": [
    "aposdef = np.array([[3,-1],[1,2],[-1,0]])\n",
    "cposdef = np.array([[1],[1]])\n",
    "\n",
    "a = aposdef\n",
    "C = cposdef\n",
    "\n",
    "A = a @ a.T\n",
    "b = a @ C\n",
    "\n",
    "L = cholesky(A)\n",
    "y = solve(L, b)\n",
    "x = solve(L.T, y)\n",
    "\n",
    "print(f\" \\\n",
    "The original A matrix: \\n {aposdef} \\n\\n \\\n",
    "The matrix A^t A: \\n {A} \\n\\n \\\n",
    "The original right-side matrix b: \\n {bposdef} \\n\\n \\\n",
    "The right-side matrix A^t b: \\n {b} \\n\\n \\\n",
    "The Cholesky Lower matrix: \\n {L} \\n\\n \\\n",
    "Solve A^T A x = L L^t x =  A^T b\\n\\n \\\n",
    "1st: Solve Ly =  b for y:\\n{y}\\n\\n \\\n",
    "2nd: Solve L^tx = y for x: \\n {x} \\n\\n \\\n",
    "Reconstruct to check:\\n {L @ L.T @ x}\\n\\n \\\n",
    "The A^T b matrix for comparison: \\n {b}\")"
   ]
  },
  {
   "cell_type": "markdown",
   "metadata": {},
   "source": [
    "### Question 4\n",
    "\n",
    "[2 Points] Find the Eigenvalues and corresponding Eigenvectors of $A^TA$."
   ]
  },
  {
   "cell_type": "code",
   "execution_count": 119,
   "metadata": {},
   "outputs": [
    {
     "data": {
      "text/plain": [
       "(array([11.16227766,  4.83772234]),\n",
       " array([[ 0.98708746,  0.16018224],\n",
       "        [-0.16018224,  0.98708746]]))"
      ]
     },
     "execution_count": 119,
     "metadata": {},
     "output_type": "execute_result"
    }
   ],
   "source": [
    "from numpy.linalg import eig\n",
    "\n",
    "eig(a.T @ a)"
   ]
  },
  {
   "cell_type": "markdown",
   "metadata": {},
   "source": [
    "[1 Point] What do you know about the Eigenvalues of $AA^T$?"
   ]
  },
  {
   "cell_type": "markdown",
   "metadata": {},
   "source": [
    "We know them to be equal to the above, $A^TA$,  in addition to more zero eigenvalues; the quantity of how many extra eigenvalues depends on the difference between the number of rows, $m$, and  the number of columns, $n$, which results in this case to be 1."
   ]
  },
  {
   "cell_type": "markdown",
   "metadata": {},
   "source": [
    "## Question 5\n",
    "\n",
    "[4 points] Find the $QR$ factorization of $A$ and use the factorization to solve $Ax = b$ and $A^Ty = c$."
   ]
  },
  {
   "cell_type": "markdown",
   "metadata": {},
   "source": [
    "### QR factorization"
   ]
  },
  {
   "cell_type": "code",
   "execution_count": 130,
   "metadata": {},
   "outputs": [],
   "source": [
    "A = a\n",
    "b = B\n",
    "c = C"
   ]
  },
  {
   "cell_type": "markdown",
   "metadata": {},
   "source": [
    "### Solving $Ax = b$ with $QR$ factorizations."
   ]
  },
  {
   "cell_type": "code",
   "execution_count": 129,
   "metadata": {},
   "outputs": [
    {
     "name": "stdout",
     "output_type": "stream",
     "text": [
      "The Matrix A:\n",
      "[[ 3 -1]\n",
      " [ 1  2]\n",
      " [-1  0]]\n",
      "\n",
      "The Matrix b:\n",
      "[[3]\n",
      " [2]\n",
      " [4]]\n",
      "\n",
      "The Q matrix:\n",
      "[[-0.90453403  0.32824398]\n",
      " [-0.30151134 -0.94370143]\n",
      " [ 0.30151134  0.0410305 ]]\n",
      "\n",
      "The R matrix:\n",
      "[[-3.31662479  0.30151134]\n",
      " [ 0.         -2.21564684]]\n",
      "\n",
      "Solving Ax = QRx = b for x:\n",
      "[[0.66666667]\n",
      " [0.33333333]]\n",
      "\n",
      "\n"
     ]
    }
   ],
   "source": [
    "Q,R = qr(A, mode = 'economic')\n",
    "\n",
    "x = solve(R, Q.T @ b)\n",
    "print(f\"\\\n",
    "The Matrix A:\\n{A}\\n\\n\\\n",
    "The Matrix b:\\n{b}\\n\\n\\\n",
    "The Q matrix:\\n{Q}\\n\\n\\\n",
    "The R matrix:\\n{R}\\n\\n\\\n",
    "Solving Ax = QRx = b for x:\\n{x}\\n\\n\\\n",
    "\")"
   ]
  },
  {
   "cell_type": "markdown",
   "metadata": {},
   "source": [
    "### Solving $A^Ty = c$ with $QR$ factorizations."
   ]
  },
  {
   "cell_type": "code",
   "execution_count": 137,
   "metadata": {},
   "outputs": [
    {
     "name": "stdout",
     "output_type": "stream",
     "text": [
      " The A transpose matrix: \n",
      " [[ 3  1 -1]\n",
      " [-1  2  0]] \n",
      "\n",
      " The QR factorization:\n",
      "\n",
      "Q matrix:\n",
      "[[-0.9486833   0.31622777]\n",
      " [ 0.31622777  0.9486833 ]]\n",
      "\n",
      "R matrix:\n",
      "[[-3.16227766 -0.31622777  0.9486833 ]\n",
      " [ 0.          2.21359436 -0.31622777]]\n",
      "\n",
      "Solving for x by using QR y = c:\n",
      "[[-1.40210586]\n",
      " [-0.0685974 ]\n",
      " [-3.64245943]]\n",
      "\n",
      "\n"
     ]
    },
    {
     "name": "stderr",
     "output_type": "stream",
     "text": [
      "/var/folders/90/b16ybj8s2gv__lhxf5ttmvj40000gn/T/ipykernel_10023/3290188184.py:2: LinAlgWarning: Ill-conditioned matrix (rcond=5.74937e-19): result may not be accurate.\n",
      "  x = x = solve(R.T @ R, R.T @ c)\n"
     ]
    }
   ],
   "source": [
    "Q, R = qr(A.T, mode='economic')\n",
    "x = solve(R.T @ R, R.T @ c)\n",
    "\n",
    "\n",
    "print(f\" \\\n",
    "The A transpose matrix: \\n {A.T} \\n\\n \\\n",
    "The QR factorization:\\n\\n\\\n",
    "Q matrix:\\n{Q}\\n\\n\\\n",
    "R matrix:\\n{R}\\n\\n\\\n",
    "Solving for x by using QR y = c:\\n\\\n",
    "{x}\\n\\n\\\n",
    "\")"
   ]
  },
  {
   "cell_type": "markdown",
   "metadata": {},
   "source": [
    "## Question 6\n",
    "\n",
    "[4 points] Find the $SVD$ factorization of A and use the factorization to solve $Ax = b$ and $A^Ty = c$."
   ]
  },
  {
   "cell_type": "markdown",
   "metadata": {},
   "source": [
    "### $SVD$ factorization of $A$"
   ]
  },
  {
   "cell_type": "code",
   "execution_count": 151,
   "metadata": {},
   "outputs": [
    {
     "name": "stdout",
     "output_type": "stream",
     "text": [
      "------------------------------------\n",
      "Perform Singular Value Decomposition\n",
      "------------------------------------\n",
      "The A matrix:\n",
      "[[ 3 -1]\n",
      " [ 1  2]\n",
      " [-1  0]]\n",
      "------------------------------------\n",
      "The (3 x 3) U Matrix\n",
      "[[-0.93428467  0.23029998  0.27216553]\n",
      " [-0.19955794 -0.9703907   0.13608276]\n",
      " [ 0.29544675  0.07282725  0.95257934]]\n",
      "------------------------------------\n",
      "The (3 x 2) Singular Values of A\n",
      "[[3.3409995  0.        ]\n",
      " [0.         2.19948229]\n",
      " [0.         0.        ]]\n",
      "------------------------------------\n",
      "The (2 x 2) V^T Matrix\n",
      "[[-0.98708746  0.16018224]\n",
      " [-0.16018224 -0.98708746]]\n",
      "------------------------------------\n",
      "Reconstructed Original (3 x 2) Matrix A From SVD Factors\n",
      "[[ 3.00000000e+00 -1.00000000e+00]\n",
      " [ 1.00000000e+00  2.00000000e+00]\n",
      " [-1.00000000e+00 -3.31756994e-17]]\n",
      "------------------------------------\n",
      "\n"
     ]
    }
   ],
   "source": [
    "m = 3; n = 2\n",
    "# Enter m-Rows & n-Columns Of Coefficient Matrix A:\n",
    "U, sigma, VT = svd(A)\n",
    "Sigma = diagsvd(sigma, m, n)\n",
    "\n",
    "print(f\"\\\n",
    "------------------------------------\\n\\\n",
    "Perform Singular Value Decomposition\\n\\\n",
    "------------------------------------\\n\\\n",
    "The A matrix:\\n\\\n",
    "{A}\\n\\\n",
    "------------------------------------\\n\\\n",
    "The ({m} x {m}) U Matrix\\n\\\n",
    "{U}\\n\\\n",
    "------------------------------------\\n\\\n",
    "The ({m} x {n}) Singular Values of A\\n\\\n",
    "{Sigma}\\n\\\n",
    "------------------------------------\\n\\\n",
    "The ({n} x {n}) V^T Matrix\\n\\\n",
    "{VT}\\n\\\n",
    "------------------------------------\\n\\\n",
    "Reconstructed Original ({m} x {n}) Matrix A From SVD Factors\\n\\\n",
    "{U @ Sigma @ VT}\\n\\\n",
    "------------------------------------\\n\\\n",
    "\")"
   ]
  },
  {
   "cell_type": "markdown",
   "metadata": {},
   "source": [
    "### $Ax = b$ with $SVD$ factorization."
   ]
  },
  {
   "cell_type": "code",
   "execution_count": 152,
   "metadata": {},
   "outputs": [
    {
     "name": "stdout",
     "output_type": "stream",
     "text": [
      "------------------------------------\n",
      "Solve A x = b Using The Pseudo-Inverse of A\n",
      "From  x = A^+ b = V Sigma^+ U^T b\n",
      "------------------------------------\n",
      "Solution Vector x =\n",
      "[[0.66666667]\n",
      " [0.33333333]]\n",
      "\n"
     ]
    }
   ],
   "source": [
    "PseudoA = (VT).T @ pinv(Sigma) @ U.T \n",
    "x = PseudoA @  b\n",
    "print(f\"\\\n",
    "------------------------------------\\n\\\n",
    "Solve A x = b Using The Pseudo-Inverse of A\\n\\\n",
    "From  x = A^+ b = V Sigma^+ U^T b\\n\\\n",
    "------------------------------------\\n\\\n",
    "Solution Vector x =\\n\\\n",
    "{x}\\n\\\n",
    "\")"
   ]
  },
  {
   "cell_type": "markdown",
   "metadata": {},
   "source": [
    "### $A^Ty = c$ with $SVD$ factorization."
   ]
  },
  {
   "cell_type": "code",
   "execution_count": 157,
   "metadata": {},
   "outputs": [
    {
     "name": "stdout",
     "output_type": "stream",
     "text": [
      "------------------------------------\n",
      "Solve A^T y = C Using The Pseudo-Inverse of A^T\n",
      "From  y = A^+ c = V Sigma^+ U^T c\n",
      "------------------------------------\n",
      "Solution Vector x =\n",
      "[[ 0.11111111]\n",
      " [ 0.55555556]\n",
      " [-0.11111111]]\n",
      "\n"
     ]
    }
   ],
   "source": [
    "U, sigma, VT = svd(A.T)\n",
    "Sigma = diagsvd(sigma, n, m)\n",
    "PseudoAT = (VT).T @ pinv(Sigma) @ U.T \n",
    "x = PseudoAT @  c\n",
    "\n",
    "print(f\"\\\n",
    "------------------------------------\\n\\\n",
    "Solve A^T y = C Using The Pseudo-Inverse of A^T\\n\\\n",
    "From  y = A^+ c = V Sigma^+ U^T c\\n\\\n",
    "------------------------------------\\n\\\n",
    "Solution Vector x =\\n\\\n",
    "{x}\\n\\\n",
    "\")"
   ]
  },
  {
   "cell_type": "markdown",
   "metadata": {},
   "source": [
    "### Question 7\n",
    "\n",
    "[2 points] Find the Singular Values of $A$ and the Pseudo-Inverse of $A^+$"
   ]
  },
  {
   "cell_type": "code",
   "execution_count": 163,
   "metadata": {},
   "outputs": [
    {
     "name": "stdout",
     "output_type": "stream",
     "text": [
      "The Singular Values of A:\n",
      "[3.3409995  2.19948229]\n",
      "\n",
      "The Pseudo-inverse of A:\n",
      "[[ 0.25925926  0.12962963 -0.09259259]\n",
      " [-0.14814815  0.42592593 -0.01851852]]\n",
      "\n",
      "To illustrate the Pseudo-inverse, we can multiply A^+A and get the identity:\n",
      "[[1.00000000e+00 0.00000000e+00]\n",
      " [3.12250226e-17 1.00000000e+00]]\n",
      "\n",
      "\n"
     ]
    }
   ],
   "source": [
    "U, sigma, VT = svd(A)\n",
    "print(f\"\\\n",
    "The Singular Values of A:\\n{sigma}\\n\\n\\\n",
    "The Pseudo-inverse of A:\\n{PseudoA}\\n\\n\\\n",
    "To illustrate the Pseudo-inverse, we can multiply A^+A and get the identity:\\n{PseudoA @ A}\\n\\n\\\n",
    "\")"
   ]
  },
  {
   "cell_type": "markdown",
   "metadata": {},
   "source": [
    "[1 point] What is the Rank of $A$?"
   ]
  },
  {
   "cell_type": "code",
   "execution_count": 165,
   "metadata": {},
   "outputs": [
    {
     "data": {
      "text/plain": [
       "2"
      ]
     },
     "execution_count": 165,
     "metadata": {},
     "output_type": "execute_result"
    }
   ],
   "source": [
    "np.linalg.matrix_rank(A)"
   ]
  },
  {
   "cell_type": "markdown",
   "metadata": {},
   "source": [
    "With the function above we can determine the rank to be 2, however since there are only 2 Singular Values, this also indicates that it's only 2 as well."
   ]
  }
 ],
 "metadata": {
  "kernelspec": {
   "display_name": "Python 3.10.4 64-bit",
   "language": "python",
   "name": "python3"
  },
  "language_info": {
   "codemirror_mode": {
    "name": "ipython",
    "version": 3
   },
   "file_extension": ".py",
   "mimetype": "text/x-python",
   "name": "python",
   "nbconvert_exporter": "python",
   "pygments_lexer": "ipython3",
   "version": "3.10.4"
  },
  "orig_nbformat": 4,
  "vscode": {
   "interpreter": {
    "hash": "aee8b7b246df8f9039afb4144a1f6fd8d2ca17a180786b69acc140d282b71a49"
   }
  }
 },
 "nbformat": 4,
 "nbformat_minor": 2
}
