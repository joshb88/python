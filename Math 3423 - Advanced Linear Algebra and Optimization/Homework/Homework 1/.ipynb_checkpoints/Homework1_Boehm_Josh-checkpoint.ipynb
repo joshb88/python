{
 "cells": [
  {
   "cell_type": "markdown",
   "metadata": {},
   "source": [
    "##### Joshua Boehm\n",
    "##### 31 August, 2022\n",
    "##### Math 3423"
   ]
  },
  {
   "cell_type": "markdown",
   "metadata": {},
   "source": [
    "## Libraries"
   ]
  },
  {
   "cell_type": "code",
   "execution_count": 123,
   "metadata": {},
   "outputs": [],
   "source": [
    "import pprint\n",
    "import numpy as np\n",
    "import scipy as sp\n",
    "import matplotlib.pyplot as plt\n",
    "from numpy import array\n",
    "from scipy.linalg import hilbert\n",
    "from scipy.linalg import lu\n",
    "from scipy.linalg import solve\n",
    "from scipy.linalg import ldl\n",
    "from scipy.linalg import det"
   ]
  },
  {
   "cell_type": "markdown",
   "metadata": {},
   "source": [
    "## Function to fill m x n matrices"
   ]
  },
  {
   "cell_type": "code",
   "execution_count": 2,
   "metadata": {
    "scrolled": true
   },
   "outputs": [],
   "source": [
    "def matrix_creator(ROW, COL):\n",
    "    \n",
    "    ROW = int(ROW)\n",
    "    COL = int(COL)\n",
    "    rownumber = 1\n",
    "    entries = []\n",
    "    \n",
    "    print('\\n')\n",
    "    print(\"-\"*70)\n",
    "    print(\"-\"*70)\n",
    "    print(f\"Confirming matrix size {ROW} x {COL}.\")\n",
    "    print(\"Enter the entries, row by row, pressing return after each entry: \")\n",
    "    \n",
    "    # User input of entries in a \n",
    "    # single line separated by space\n",
    "    for r in range(ROW):\n",
    "        entries.append([int(input(f\"Enter value {x+1} in Row {rownumber}:  \")) for x in range(COL)])\n",
    "        rownumber+=1\n",
    "    \n",
    "    \n",
    "    \n",
    "    # For printing the matrix\n",
    "    matrix = np.array(entries).reshape(ROW, COL)\n",
    "    print(f\"The matrix entered is as follows: \\n {matrix}\")\n",
    "    print(\"-\"*70)\n",
    "    print(\"-\"*70)\n",
    "    print('\\n')\n",
    "    return(matrix)"
   ]
  },
  {
   "cell_type": "markdown",
   "metadata": {},
   "source": [
    "## Problem Set 2.1 Question 15:\n",
    "A well-known example of an ill-conditioned matrix is the Hilbert matrix:\n",
    "\n",
    "$$A = \\begin{bmatrix}\n",
    "1 & \\frac1 2 & \\frac 1 3 & \\cdots\\\\\n",
    "\\frac 1 2 & \\frac 1 3 & \\frac 1 4 & \\cdots\\\\\n",
    "\\frac 1 3 & \\frac 1 4 & \\frac 1 5 & \\cdots\\\\\n",
    "\\vdots & \\vdots & \\vdots & \\ddots\n",
    "\\end{bmatrix}$$\n",
    "\n",
    "Write a program that specializes in solving the equations $Ax = b$ by Doolittle’s decomposition method, where $A$ is the Hilbert matrix of arbitrary size $n \\times n$, and\n",
    "\n",
    "$$\n",
    "b_i = \\sum_{j=1}^{n} = A_{ij}\n",
    "$$\n",
    "\n",
    "The program should have no input apart from $n$. By running the program, determine the largest $n$ for which the solution is within six significant figures of the exact solution \n",
    "\n",
    "\n",
    "$$\n",
    "x =\n",
    "\\begin{bmatrix}1 & 1 & 1 & \\cdots\n",
    "\\end{bmatrix}^{T}\n",
    "$$"
   ]
  },
  {
   "cell_type": "markdown",
   "metadata": {},
   "source": [
    "#### Answer:\n",
    "\n",
    "We will utilize the numpy library, as below (question 18), but hide the outputs. As $n$ grows higher, it becomes more annoying to see. If you want to, you can uncomment the lines that print the matrices.<br><br>"
   ]
  },
  {
   "cell_type": "code",
   "execution_count": 3,
   "metadata": {
    "scrolled": true
   },
   "outputs": [],
   "source": [
    "def hilbert_test(n):\n",
    "    \n",
    "    # Assigns A and b to a hilbert matrix of size nxn and to an nx1 matrix respectively.\n",
    "    A = hilbert(n)\n",
    "    #b = np.ones((n,1))\n",
    "    b = A.sum(axis=1, keepdims = True)\n",
    "    \n",
    "    # Utilies the scipy library to formulate P, L, and U from A.\n",
    "    P, L, U = sp.linalg.lu(A)\n",
    "\n",
    "#     print (\"A:\")\n",
    "#     pprint.pprint(A)\n",
    "\n",
    "#     print (\"P:\")\n",
    "#     pprint.pprint(P)\n",
    "\n",
    "#     print (\"L:\")\n",
    "#     pprint.pprint(L)\n",
    "\n",
    "#     print (\"U:\")\n",
    "#     pprint.pprint(U)\n",
    "    \n",
    "#     print (\"b:\")\n",
    "#     pprint.pprint(b)\n",
    "    \n",
    "    #print (\"Lb=y, solve for y:\")\n",
    "    y = solve(L, P.T @ b)\n",
    "    #pprint.pprint(y)\n",
    "    \n",
    "    #print(\"Uy = x: solve for x\")\n",
    "    x = solve(U, y)\n",
    "    #pprint.pprint(x)\n",
    "           \n",
    "    print(\"LU Solve x:\")\n",
    "    solvex = solve(A, b)\n",
    "    pprint.pprint(solvex)\n",
    "    \n",
    "    realsolution = np.ones((n,1))\n",
    "    \n",
    "#     print (\"Reconstruction:\")\n",
    "#     reconstruction = (P @ L @ U @ x)\n",
    "#     pprint.pprint(reconstruction)\n",
    "    \n",
    "    if np.allclose(x, realsolution, atol = 0,rtol = 1e-07):\n",
    "        print(\"TEST PASS\")\n",
    "    else:\n",
    "        print(\"TEST FAIL\")\n",
    "    "
   ]
  },
  {
   "cell_type": "code",
   "execution_count": 4,
   "metadata": {},
   "outputs": [
    {
     "name": "stdout",
     "output_type": "stream",
     "text": [
      "LU Solve x:\n",
      "array([[1.        ],\n",
      "       [1.        ],\n",
      "       [0.99999998],\n",
      "       [1.00000011],\n",
      "       [0.9999997 ],\n",
      "       [1.00000043],\n",
      "       [0.9999997 ],\n",
      "       [1.00000009]])\n",
      "TEST FAIL\n"
     ]
    }
   ],
   "source": [
    "hilbert_test(8)"
   ]
  },
  {
   "cell_type": "markdown",
   "metadata": {},
   "source": [
    "#### Answer:\n",
    "\n",
    "When the relative tolerance used to check the matrix is set to  $1\\cdot10^{-7}$, it starts to diverge at $n=7$. It fails at $n=8$. To be honest, I was expecting the $n$ value to be higher before it failed with this sensativity.\n",
    "\n",
    "If I did this terribly wrong, let me know please.\n",
    "<br><br>"
   ]
  },
  {
   "cell_type": "markdown",
   "metadata": {},
   "source": [
    "## Problem Set 2.1 **Question 18:** "
   ]
  },
  {
   "cell_type": "markdown",
   "metadata": {},
   "source": [
    "Determine the fourth-degree polynomial $y(x)$ that passes through the points $(0, −1), (1, 1), (3, 3), (5, 2)$, and $(6, −2)$."
   ]
  },
  {
   "cell_type": "markdown",
   "metadata": {},
   "source": [
    "# Answer:\n",
    "\n",
    "The system of equations derived from this information follows this formula:\n",
    "\n",
    "$$y = a_0 + a_1x + a_2x^2...+ a_nx^n$$\n",
    "\n",
    "\n",
    "When the data in the question is applied, we get the following.\n",
    "\n",
    "\\begin{align*}\n",
    "a_0& + a_1(0) + a_2(0) + a_3(0) + a_4(0) &= -1&\\\\\n",
    "a_0& + a_1(1) + a_2(1) + a_3(1) + a_4(1) &= 1&\\\\\n",
    "a_0& + a_1(3) + a_2(9) + a_3(27) + a_4(81) &= 3&\\\\\n",
    "a_0& + a_1(5) + a_2(25) + a_3(125) + a_4(625)  &= 2&\\\\\n",
    "a_0& + a_1(6) + a_2(36) + a_3(216) + a_4(1296) &= -2&\n",
    "\\end{align*}\n",
    "\n",
    "\n",
    "In matrix form we end up with:\n",
    "$$\n",
    "\\begin{bmatrix} \n",
    "1 & 0 & 0 & 0 & 0 \\\\\n",
    "1 & 1 & 1 & 1 & 1 \\\\\n",
    "1 & 3 & 9 & 27 & 81 \\\\\n",
    "1 & 5 & 25 & 125 & 625 \\\\\n",
    "1 & 6 & 36 & 216 & 1296\n",
    "\\end{bmatrix}\n",
    "\\begin{bmatrix}\n",
    "a_0\\\\a_1\\\\a_2\\\\a_3\\\\a_4\\end{bmatrix}=\\begin{bmatrix} -1\\\\1\\\\3\\\\2\\\\-2 \\end{bmatrix}$$\n",
    "\n",
    "\n",
    "\n",
    "<br><br>\n",
    "At this point, we can perform PLU factorization as shown in the code block below.\n",
    "As mentioned above, I wrote a code to input these numbers (mostly to practice Python again) so that the formula can be reused more easily in the future. It should be commented out, but if you're interested in seeing it work, feel free to remove them. <br><br>"
   ]
  },
  {
   "cell_type": "code",
   "execution_count": 5,
   "metadata": {
    "scrolled": true
   },
   "outputs": [
    {
     "name": "stdout",
     "output_type": "stream",
     "text": [
      "Original (m x n) Matrix A\n",
      "array([[1.000e+00, 0.000e+00, 0.000e+00, 0.000e+00, 0.000e+00],\n",
      "       [1.000e+00, 1.000e+00, 1.000e+00, 1.000e+00, 1.000e+00],\n",
      "       [1.000e+00, 3.000e+00, 9.000e+00, 2.700e+01, 8.100e+01],\n",
      "       [1.000e+00, 5.000e+00, 2.500e+01, 1.250e+02, 6.250e+02],\n",
      "       [1.000e+00, 6.000e+00, 3.600e+01, 2.160e+02, 1.296e+03]])\n",
      " \n",
      "Permutation (m x m) Matrix P \n",
      "[[1. 0. 0. 0. 0.]\n",
      " [0. 0. 0. 0. 1.]\n",
      " [0. 0. 1. 0. 0.]\n",
      " [0. 0. 0. 1. 0.]\n",
      " [0. 1. 0. 0. 0.]]\n",
      " \n",
      "Lower Triangular (m x m) Matrix L\n",
      "[[ 1.          0.          0.          0.          0.        ]\n",
      " [ 1.          1.          0.          0.          0.        ]\n",
      " [ 1.          0.5         1.          0.          0.        ]\n",
      " [ 1.          0.83333333  0.55555556  1.          0.        ]\n",
      " [ 1.          0.16666667  0.55555556 -1.          1.        ]]\n",
      " \n",
      "Upper Triangular (m x n) Matrix U\n",
      "[[ 1.000e+00  0.000e+00  0.000e+00  0.000e+00  0.000e+00]\n",
      " [ 0.000e+00  6.000e+00  3.600e+01  2.160e+02  1.296e+03]\n",
      " [ 0.000e+00  0.000e+00 -9.000e+00 -8.100e+01 -5.670e+02]\n",
      " [ 0.000e+00  0.000e+00  0.000e+00 -1.000e+01 -1.400e+02]\n",
      " [ 0.000e+00  0.000e+00  0.000e+00  0.000e+00 -4.000e+01]]\n",
      " \n",
      "---> Reconstruct A\n",
      "[[1.000e+00 0.000e+00 0.000e+00 0.000e+00 0.000e+00]\n",
      " [1.000e+00 1.000e+00 1.000e+00 1.000e+00 1.000e+00]\n",
      " [1.000e+00 3.000e+00 9.000e+00 2.700e+01 8.100e+01]\n",
      " [1.000e+00 5.000e+00 2.500e+01 1.250e+02 6.250e+02]\n",
      " [1.000e+00 6.000e+00 3.600e+01 2.160e+02 1.296e+03]]\n",
      "\n",
      "\n",
      "The (m x 1) Vector b\n",
      "[-1  1  3  2 -2]\n",
      "\n",
      "\n",
      " ---> Solve A x = P L U x = b Using the PLU-Factorization\n",
      " ---> Since A = P L U we have L U x = P^t b \n",
      " \n",
      " ---> 1st: Solve L y = P^t b --> For the (m x 1) Vector y \n",
      "[-1.         -1.          4.5         1.33333333  1.        ]\n",
      " \n",
      " ---> 2nd: Solve U x = y --> x \n",
      " ---> The (n x 1) Solution Vector x from PLU:\n",
      "[-1.          2.68333333 -0.875       0.21666667 -0.025     ]\n",
      " \n",
      " ---> The (n x 1) Solution Vector x from solve:\n",
      "[-1.          2.68333333 -0.875       0.21666667 -0.025     ]\n",
      " \n",
      " ---> Reconstruct the (m x 1) Vector P L U x --> b \n",
      "[-1.  1.  3.  2. -2.]\n",
      " \n"
     ]
    }
   ],
   "source": [
    "#row = input(\"How many rows/columns?: \")\n",
    "#A = matrix_creator(row,row) # It can only be square\n",
    "\n",
    "A = array([\n",
    "  [1, 0, 0, 0, 0],\n",
    "  [1, 1, 1, 1, 1],\n",
    "  [1, 3, 9, 27, 81],\n",
    "  [1, 5, 25, 125, 625],\n",
    "  [1, 6, 36, 216, 1296]], float)\n",
    "print(\"Original (m x n) Matrix A\")\n",
    "pprint.pprint(A)\n",
    "#\n",
    "# PLU Factorization of A\n",
    "P, L, U = lu(A)\n",
    "#\n",
    "print(\" \")\n",
    "print(\"Permutation (m x m) Matrix P \")\n",
    "print(P)\n",
    "print(\" \")\n",
    "print(\"Lower Triangular (m x m) Matrix L\")\n",
    "print(L)\n",
    "print(\" \")\n",
    "print(\"Upper Triangular (m x n) Matrix U\")\n",
    "print(U)\n",
    "print(\" \")\n",
    "print(\"---> Reconstruct A\")\n",
    "print(P @ L @ U)\n",
    "#\n",
    "# Solve A x = b\n",
    "print('\\n')\n",
    "\n",
    "print(\"The (m x 1) Vector b\")\n",
    "#b = matrix_creator(row, 1)\n",
    "b = array([ -1, 1, 3, 2, -2])\n",
    "print(b)\n",
    "print(\"\\n\")\n",
    "#\n",
    "print(\" ---> Solve A x = P L U x = b Using the PLU-Factorization\")\n",
    "print(\" ---> Since A = P L U we have L U x = P^t b \")\n",
    "print(\" \")\n",
    "print(\" ---> 1st: Solve L y = P^t b --> For the (m x 1) Vector y \")\n",
    "y = solve(L, P.T @ b)\n",
    "print(y)\n",
    "#\n",
    "print(\" \")\n",
    "print(\" ---> 2nd: Solve U x = y --> x \")\n",
    "x = solve(U, y)\n",
    "print(\" ---> The (n x 1) Solution Vector x from PLU:\")\n",
    "print(x)\n",
    "x = solve(A, b)\n",
    "print(\" \")\n",
    "print(\" ---> The (n x 1) Solution Vector x from solve:\")\n",
    "print(x)\n",
    "print(\" \")\n",
    "print(\" ---> Reconstruct the (m x 1) Vector P L U x --> b \")\n",
    "print(P @ L @ U @ x)\n",
    "print(\" \")\n",
    "\n",
    "asub = x"
   ]
  },
  {
   "cell_type": "markdown",
   "metadata": {},
   "source": [
    "The solution vector is:\n",
    "\n",
    "$$\\begin{bmatrix}-1\\\\2.68\\overline{3}\\\\-0.875\\\\0.21\\overline{6}\\\\-.025\n",
    "\\end{bmatrix}$$"
   ]
  },
  {
   "cell_type": "code",
   "execution_count": 6,
   "metadata": {},
   "outputs": [
    {
     "data": {
      "image/png": "[encoded data removed]",
      "text/plain": [
       "<Figure size 576x576 with 1 Axes>"
      ]
     },
     "metadata": {
      "needs_background": "light"
     },
     "output_type": "display_data"
    }
   ],
   "source": [
    "# A plot to show this graphically\n",
    "\n",
    "# Create the vectors for the line and the points\n",
    "x = np.linspace(-10, 10, 100)\n",
    "y = asub[0] + asub[1]*x + asub[2]*x**2 + asub[3]*x**3 + asub[4]*x**4\n",
    "X1 = np.array([0,1,3,5,6])\n",
    "Y1 = np.array([-1,1,3,2,-2])\n",
    "\n",
    "# Setting up the plot itself\n",
    "fig = plt.figure(figsize=(8,8))\n",
    "ax = fig.add_subplot(1, 1, 1)\n",
    "ax.spines['left'].set_position('zero')\n",
    "ax.spines['bottom'].set_position('zero')\n",
    "ax.spines['right'].set_color('none')\n",
    "ax.spines['top'].set_color('none')\n",
    "ax.xaxis.set_ticks_position('bottom')\n",
    "ax.yaxis.set_ticks_position('left')\n",
    "plt.ylim(-5,6)\n",
    "plt.xlim(-4,8)\n",
    "\n",
    "# Plotting the functions\n",
    "plt.plot(x,y, 'g--')\n",
    "plt.scatter(X1,Y1, edgecolor='k',c='none',s=100)\n",
    "\n",
    "# Showing the plot\n",
    "plt.show()"
   ]
  },
  {
   "cell_type": "markdown",
   "metadata": {},
   "source": [
    "## Problem 2.1 Set Question 21"
   ]
  },
  {
   "cell_type": "markdown",
   "metadata": {},
   "source": [
    "Compute the condition number of the matrix \n",
    "\n",
    "$$A=\\begin{bmatrix}\n",
    "1 & -1 & -1\\\\\n",
    "0 & 1 & -2\\\\\n",
    "0 & 0 & 1\n",
    "\\end{bmatrix}$$\n",
    "\n",
    "based on \n",
    "+ (a) the euclidean norm and \n",
    "+ (b) the infinity norm.\n",
    "\n",
    "You may use the function `inv(A)` in `numpy.linalg` to determine the inverse of **A**."
   ]
  },
  {
   "cell_type": "markdown",
   "metadata": {},
   "source": [
    "### Answer (a):\n",
    "\n",
    "First, let's define the cond($A$).\n",
    "\n",
    "$$cond(A) = \\Vert\\mathbf{A}\\Vert \\Vert\\mathbf{A^{-1}}\\Vert   $$\n",
    "\n",
    "Next, it would be beneficial to establish what the euclidean norm of a matrix is:\n",
    "\n",
    "$$\\|\\mathbf{A}\\|_2 = \\sqrt{ \\lambda _{max}(A^{T}A)}$$\n",
    "\n",
    "In order to faciliate this process, I wrote a small program to do this job. In the interest of creating a study guide and showing comprehension, I will explain the process after the program in Markdown - the code is commented, but Markdown looks better."
   ]
  },
  {
   "cell_type": "code",
   "execution_count": 7,
   "metadata": {},
   "outputs": [],
   "source": [
    "def twonorm(matrix):\n",
    "    \n",
    "    # First take the transpose of A\n",
    "    matrixtrans = np.transpose(matrix)\n",
    "    \n",
    "    # Then take the product of Atrans and A \n",
    "    matrixtransmatrix = matrixtrans @ matrix\n",
    "    \n",
    "    # Find the maximum eigenvalue for AtransA\n",
    "    max_eig_val = max(np.linalg.eigvals(matrixtransmatrix))\n",
    "    \n",
    "    # Sqaure root that value to return the Euclidean Norm\n",
    "    norm = max_eig_val**.5\n",
    "    print(f'The Euclidean Norm of the matrix:\\n {matrix}\\n is {norm}\\n')\n",
    "\n",
    "    # EDIT: I learned about numpy.linalg.norm() later, and.... dang. :(\n",
    "    \n",
    "    return norm"
   ]
  },
  {
   "cell_type": "markdown",
   "metadata": {},
   "source": [
    "The first step is to transpose A. This is rather easily done by `np.transpose()` and equates to:\n",
    "\n",
    "$$A^{T} = \\begin{bmatrix}\n",
    "1 & 1 & 3\\\\\n",
    "0 & 1 & 2\\\\\n",
    "0 & 0 & 1\n",
    "\\end{bmatrix}$$\n",
    "\n",
    "The second step is to evaluate the product matrix of $A^{T}A$. This matrix turns out to be:\n",
    "\n",
    "$$A^{T}A = \\begin{bmatrix}\n",
    "1 & -1 & -1\\\\\n",
    "-1 & 2 & -1\\\\\n",
    "-1 & -1 & 6\n",
    "\\end{bmatrix}$$\n",
    "\n",
    "Next, we find the Eigenvalues of this $A^{T}A$ matrix with `numpy.linalg.eigvals()`. This function works like `numpy.linalg.eig()`, except it does not return the eigenvectors.\n",
    "\n",
    "Our resulting Eigenvalues are:\n",
    "\n",
    "$0.06076513\\\\2.59327157\\\\6.3459633$\n",
    "\n",
    "The largest of these is $6.3459633$. Now, we take the square root of this eigenvalue and we have $\\Vert\\mathbf{A}\\Vert = 2.5191195$.\n",
    "\n",
    "Consequently, we need to repeat this enitre process for the *inverse* of $A$ as well. This will be done exclusively by the `twonorm()` function and not shown here. $\\Vert\\mathbf{A^{-1}}\\Vert = 4.0566989$.\n",
    "\n",
    "The last step is to multiply these two values together."
   ]
  },
  {
   "cell_type": "code",
   "execution_count": 8,
   "metadata": {},
   "outputs": [
    {
     "name": "stdout",
     "output_type": "stream",
     "text": [
      "The Euclidean Norm of the matrix:\n",
      " [[ 1 -1 -1]\n",
      " [ 0  1 -2]\n",
      " [ 0  0  1]]\n",
      " is 2.519119547720966\n",
      "\n",
      "The Euclidean Norm of the matrix:\n",
      " [[1. 1. 3.]\n",
      " [0. 1. 2.]\n",
      " [0. 0. 1.]]\n",
      " is 4.056698930694456\n",
      "\n"
     ]
    },
    {
     "data": {
      "text/plain": [
       "10.219309575531142"
      ]
     },
     "execution_count": 8,
     "metadata": {},
     "output_type": "execute_result"
    }
   ],
   "source": [
    "A = array([\n",
    "    [1,-1,-1],\n",
    "    [0,1,-2],\n",
    "    [0,0,1]])\n",
    "Anorm = twonorm(A)\n",
    "Ainv = np.linalg.inv(A)\n",
    "Atransnorm = twonorm(Ainv)\n",
    "cond_A = Anorm*Atransnorm\n",
    "cond_A"
   ]
  },
  {
   "cell_type": "markdown",
   "metadata": {},
   "source": [
    "As is typical, I have explored Numpy's Linear Algebra module and discovered the condition function."
   ]
  },
  {
   "cell_type": "code",
   "execution_count": 9,
   "metadata": {},
   "outputs": [
    {
     "data": {
      "text/plain": [
       "10.219309575531145"
      ]
     },
     "execution_count": 9,
     "metadata": {},
     "output_type": "execute_result"
    }
   ],
   "source": [
    "np.linalg.cond(A, 2)"
   ]
  },
  {
   "cell_type": "markdown",
   "metadata": {},
   "source": [
    "The final answer to part (a) is:\n",
    "\n",
    "$$cond(A) = 10.21930957553114$$"
   ]
  },
  {
   "cell_type": "markdown",
   "metadata": {},
   "source": [
    "### Answer (b):\n",
    "\n",
    "Similarly, we will do the following steps with the infinity norm.\n",
    "\n",
    "First, let's define the infinity norm for a matrix.\n",
    "\n",
    "$$\\|\\mathbf{A}\\|_{\\infty} = \\max_{1 \\leq i \\leq n} \\sum^{n}_{j=1} \\vert A_{ij}\\vert$$\n",
    "\n",
    "So, as before, we will take the product of the norm of the matrix A and the norm of its inverse to find the condition number."
   ]
  },
  {
   "cell_type": "code",
   "execution_count": 10,
   "metadata": {},
   "outputs": [
    {
     "data": {
      "text/plain": [
       "15.0"
      ]
     },
     "execution_count": 10,
     "metadata": {},
     "output_type": "execute_result"
    }
   ],
   "source": [
    "Ainfnorm = np.linalg.norm(A,np.Inf)\n",
    "Ainvinfnorm = np.linalg.norm(Ainv,np.Inf)\n",
    "cond_A_inf = Ainfnorm * Ainvinfnorm\n",
    "cond_A_inf"
   ]
  },
  {
   "cell_type": "markdown",
   "metadata": {},
   "source": [
    "Again, Numpy's library is very powerful."
   ]
  },
  {
   "cell_type": "code",
   "execution_count": 11,
   "metadata": {},
   "outputs": [
    {
     "data": {
      "text/plain": [
       "15.0"
      ]
     },
     "execution_count": 11,
     "metadata": {},
     "output_type": "execute_result"
    }
   ],
   "source": [
    "np.linalg.cond(A, np.inf)"
   ]
  },
  {
   "cell_type": "markdown",
   "metadata": {},
   "source": [
    "The final answer to part (b) is:\n",
    "\n",
    "$$cond(A) = 15.0$$"
   ]
  },
  {
   "cell_type": "markdown",
   "metadata": {},
   "source": [
    "## Problem 2.1 Set Question 23"
   ]
  },
  {
   "cell_type": "markdown",
   "metadata": {},
   "source": [
    "Test the function `gaussElimin` by solving $Ax = b$, where $A$ is a $n \\times n$ random matrix and $b_i = \\Sigma_{j=1}^{n} A_{ij}$ (sum of the elements in the $i$th row of $A$). A random matrix can be generated with the `rand` function in the `numpy.random` module:\n",
    "\n",
    "<br><center><left><code>from numpy import random<br>a = rand(n,n)</code></left></center><br>\n",
    "\n",
    "The solution should be $x = \\begin{bmatrix}1 & 1 & \\cdots & 1\\end{bmatrix}^{T}$. Run the program with $n=200$ or bigger."
   ]
  },
  {
   "cell_type": "markdown",
   "metadata": {},
   "source": [
    "#### Answer:\n",
    "\n"
   ]
  },
  {
   "cell_type": "markdown",
   "metadata": {},
   "source": [
    "As we will see below, the function provided in the book doesn't work. I'm guessing that the rounding errors become rampant rather immediately and that basic function doesn't account for it as well as numpy's library. Consequently, I used the solve function from the `numpy.linalg` library. At $n=200$, the solution stays accurate."
   ]
  },
  {
   "cell_type": "code",
   "execution_count": 12,
   "metadata": {},
   "outputs": [],
   "source": [
    "# As we discussed in class, this is the function from the book that we are asked to use. \n",
    "# I regret to say I don't really understand why it's failing, so I'll use solve from np.linalg,\n",
    "# like we discussed.\n",
    "\n",
    "# ## module gaussElimin\n",
    "# ''' x = gaussElimin(a,b).\n",
    "#     Solves [a]{b} = {x} by Gauss elimination.\n",
    "# '''\n",
    "# from numpy import dot\n",
    "# def gaussElimin(a,b):\n",
    "#     n = len(b)\n",
    "#     for k in range(0,n-1):\n",
    "#         for i in range(k+1,n):\n",
    "#             if a[i,k] != 0.0:\n",
    "#                 lam = a [i,k]/a[k,k]\n",
    "#                 a[i,k+1:n] = a[i,k+1:n] - lam*a[k,k+1:n]\n",
    "#                 b[i] = b[i] - lam*b[k]\n",
    "#         for k in range(n-1,-1,-1):\n",
    "#             b[k] = (b[k] - dot(a[k,k+1:n],b[k+1:n]))/a[k,k]\n",
    "#         return b"
   ]
  },
  {
   "cell_type": "code",
   "execution_count": 13,
   "metadata": {},
   "outputs": [
    {
     "name": "stdout",
     "output_type": "stream",
     "text": [
      "The value of n is 300, so the length of b is (300, 1).\n",
      "The solution is: \n",
      "[[1.]\n",
      " [1.]\n",
      " [1.]\n",
      " [1.]\n",
      " [1.]\n",
      " [1.]\n",
      " [1.]\n",
      " [1.]\n",
      " [1.]\n",
      " [1.]\n",
      " [1.]\n",
      " [1.]\n",
      " [1.]\n",
      " [1.]\n",
      " [1.]\n",
      " [1.]\n",
      " [1.]\n",
      " [1.]\n",
      " [1.]\n",
      " [1.]\n",
      " [1.]\n",
      " [1.]\n",
      " [1.]\n",
      " [1.]\n",
      " [1.]\n",
      " [1.]\n",
      " [1.]\n",
      " [1.]\n",
      " [1.]\n",
      " [1.]\n",
      " [1.]\n",
      " [1.]\n",
      " [1.]\n",
      " [1.]\n",
      " [1.]\n",
      " [1.]\n",
      " [1.]\n",
      " [1.]\n",
      " [1.]\n",
      " [1.]\n",
      " [1.]\n",
      " [1.]\n",
      " [1.]\n",
      " [1.]\n",
      " [1.]\n",
      " [1.]\n",
      " [1.]\n",
      " [1.]\n",
      " [1.]\n",
      " [1.]\n",
      " [1.]\n",
      " [1.]\n",
      " [1.]\n",
      " [1.]\n",
      " [1.]\n",
      " [1.]\n",
      " [1.]\n",
      " [1.]\n",
      " [1.]\n",
      " [1.]\n",
      " [1.]\n",
      " [1.]\n",
      " [1.]\n",
      " [1.]\n",
      " [1.]\n",
      " [1.]\n",
      " [1.]\n",
      " [1.]\n",
      " [1.]\n",
      " [1.]\n",
      " [1.]\n",
      " [1.]\n",
      " [1.]\n",
      " [1.]\n",
      " [1.]\n",
      " [1.]\n",
      " [1.]\n",
      " [1.]\n",
      " [1.]\n",
      " [1.]\n",
      " [1.]\n",
      " [1.]\n",
      " [1.]\n",
      " [1.]\n",
      " [1.]\n",
      " [1.]\n",
      " [1.]\n",
      " [1.]\n",
      " [1.]\n",
      " [1.]\n",
      " [1.]\n",
      " [1.]\n",
      " [1.]\n",
      " [1.]\n",
      " [1.]\n",
      " [1.]\n",
      " [1.]\n",
      " [1.]\n",
      " [1.]\n",
      " [1.]\n",
      " [1.]\n",
      " [1.]\n",
      " [1.]\n",
      " [1.]\n",
      " [1.]\n",
      " [1.]\n",
      " [1.]\n",
      " [1.]\n",
      " [1.]\n",
      " [1.]\n",
      " [1.]\n",
      " [1.]\n",
      " [1.]\n",
      " [1.]\n",
      " [1.]\n",
      " [1.]\n",
      " [1.]\n",
      " [1.]\n",
      " [1.]\n",
      " [1.]\n",
      " [1.]\n",
      " [1.]\n",
      " [1.]\n",
      " [1.]\n",
      " [1.]\n",
      " [1.]\n",
      " [1.]\n",
      " [1.]\n",
      " [1.]\n",
      " [1.]\n",
      " [1.]\n",
      " [1.]\n",
      " [1.]\n",
      " [1.]\n",
      " [1.]\n",
      " [1.]\n",
      " [1.]\n",
      " [1.]\n",
      " [1.]\n",
      " [1.]\n",
      " [1.]\n",
      " [1.]\n",
      " [1.]\n",
      " [1.]\n",
      " [1.]\n",
      " [1.]\n",
      " [1.]\n",
      " [1.]\n",
      " [1.]\n",
      " [1.]\n",
      " [1.]\n",
      " [1.]\n",
      " [1.]\n",
      " [1.]\n",
      " [1.]\n",
      " [1.]\n",
      " [1.]\n",
      " [1.]\n",
      " [1.]\n",
      " [1.]\n",
      " [1.]\n",
      " [1.]\n",
      " [1.]\n",
      " [1.]\n",
      " [1.]\n",
      " [1.]\n",
      " [1.]\n",
      " [1.]\n",
      " [1.]\n",
      " [1.]\n",
      " [1.]\n",
      " [1.]\n",
      " [1.]\n",
      " [1.]\n",
      " [1.]\n",
      " [1.]\n",
      " [1.]\n",
      " [1.]\n",
      " [1.]\n",
      " [1.]\n",
      " [1.]\n",
      " [1.]\n",
      " [1.]\n",
      " [1.]\n",
      " [1.]\n",
      " [1.]\n",
      " [1.]\n",
      " [1.]\n",
      " [1.]\n",
      " [1.]\n",
      " [1.]\n",
      " [1.]\n",
      " [1.]\n",
      " [1.]\n",
      " [1.]\n",
      " [1.]\n",
      " [1.]\n",
      " [1.]\n",
      " [1.]\n",
      " [1.]\n",
      " [1.]\n",
      " [1.]\n",
      " [1.]\n",
      " [1.]\n",
      " [1.]\n",
      " [1.]\n",
      " [1.]\n",
      " [1.]\n",
      " [1.]\n",
      " [1.]\n",
      " [1.]\n",
      " [1.]\n",
      " [1.]\n",
      " [1.]\n",
      " [1.]\n",
      " [1.]\n",
      " [1.]\n",
      " [1.]\n",
      " [1.]\n",
      " [1.]\n",
      " [1.]\n",
      " [1.]\n",
      " [1.]\n",
      " [1.]\n",
      " [1.]\n",
      " [1.]\n",
      " [1.]\n",
      " [1.]\n",
      " [1.]\n",
      " [1.]\n",
      " [1.]\n",
      " [1.]\n",
      " [1.]\n",
      " [1.]\n",
      " [1.]\n",
      " [1.]\n",
      " [1.]\n",
      " [1.]\n",
      " [1.]\n",
      " [1.]\n",
      " [1.]\n",
      " [1.]\n",
      " [1.]\n",
      " [1.]\n",
      " [1.]\n",
      " [1.]\n",
      " [1.]\n",
      " [1.]\n",
      " [1.]\n",
      " [1.]\n",
      " [1.]\n",
      " [1.]\n",
      " [1.]\n",
      " [1.]\n",
      " [1.]\n",
      " [1.]\n",
      " [1.]\n",
      " [1.]\n",
      " [1.]\n",
      " [1.]\n",
      " [1.]\n",
      " [1.]\n",
      " [1.]\n",
      " [1.]\n",
      " [1.]\n",
      " [1.]\n",
      " [1.]\n",
      " [1.]\n",
      " [1.]\n",
      " [1.]\n",
      " [1.]\n",
      " [1.]\n",
      " [1.]\n",
      " [1.]\n",
      " [1.]\n",
      " [1.]\n",
      " [1.]\n",
      " [1.]\n",
      " [1.]\n",
      " [1.]\n",
      " [1.]\n",
      " [1.]\n",
      " [1.]\n",
      " [1.]\n",
      " [1.]\n",
      " [1.]\n",
      " [1.]\n",
      " [1.]\n",
      " [1.]\n",
      " [1.]\n",
      " [1.]\n",
      " [1.]\n",
      " [1.]\n",
      " [1.]\n",
      " [1.]\n",
      " [1.]\n",
      " [1.]\n",
      " [1.]\n",
      " [1.]\n",
      " [1.]]\n"
     ]
    }
   ],
   "source": [
    "n = 300\n",
    "\n",
    "A = np.random.rand(n,n)\n",
    "b = A.sum(axis=1, keepdims=True)\n",
    "# This is the function that sums up elements in the array. \n",
    "# The axes are slightly unintuitive in that axis = 0 will calculate along the COLUMN,\n",
    "# whereas axis = 1 calculates along the ROW.\n",
    "\n",
    "\n",
    "#gaussElimin(A,b)\n",
    "solve(A,b)\n",
    "\n",
    "print(f'The value of n is {n}, so the length of b is {np.shape(b)}.\\n\\\n",
    "The solution is: \\n{solve(A,b)}')"
   ]
  },
  {
   "cell_type": "markdown",
   "metadata": {},
   "source": [
    "## Problem 2.2 Set Question 3"
   ]
  },
  {
   "cell_type": "markdown",
   "metadata": {},
   "source": [
    "Determine $L$ and $D$ that result from Doolittle’s decomposition of the symmetric matrix\n",
    "\n",
    "$$\n",
    "A = \n",
    "\\begin{bmatrix}\n",
    "2 & -2 & 0 & 0 & 0\\\\\n",
    "-2 & 5 & -6 & 0 & 0\\\\\n",
    "0 & -6 & 16 & 12 & 0\\\\\n",
    "0 & 0 & 12 & 39 & -6\\\\\n",
    "0 & 0 & 0 & -6 & 14\n",
    "\\end{bmatrix}\n",
    "$$"
   ]
  },
  {
   "cell_type": "markdown",
   "metadata": {},
   "source": [
    "#### Answer:\n"
   ]
  },
  {
   "cell_type": "code",
   "execution_count": 14,
   "metadata": {},
   "outputs": [
    {
     "name": "stdout",
     "output_type": "stream",
     "text": [
      "Lower Triangular (m x m) Matrix L\n",
      "[[ 1.          0.          0.          0.          0.        ]\n",
      " [ 0.          1.          0.          0.          0.        ]\n",
      " [ 0.         -0.          1.          0.          0.        ]\n",
      " [ 0.         -0.          0.          1.          0.        ]\n",
      " [-1.         -0.5         0.16666667  0.08333333  1.        ]]\n",
      " \n",
      "Upper Triangular (m x n) Matrix U\n",
      "[[ 2.         -2.          0.          0.          0.        ]\n",
      " [ 0.         -6.         16.         12.          0.        ]\n",
      " [ 0.          0.         12.         39.         -6.        ]\n",
      " [ 0.          0.          0.         -6.         14.        ]\n",
      " [ 0.          0.          0.          0.         -0.16666667]]\n"
     ]
    }
   ],
   "source": [
    "A = array([\n",
    "  [2, -2, 0, 0, 0],\n",
    "  [-2, 5, -6, 0, 0],\n",
    "  [0, -6, 16, 12, 0],\n",
    "  [0, 0, 12, 39, -6],\n",
    "  [0, 0, 0, -6, 14]], float)\n",
    "\n",
    "# PLU Factorization of A\n",
    "P, L, U = lu(A)\n",
    "\n",
    "print(\"Lower Triangular (m x m) Matrix L\")\n",
    "print(L)\n",
    "print(\" \")\n",
    "print(\"Upper Triangular (m x n) Matrix U\")\n",
    "print(U)"
   ]
  },
  {
   "cell_type": "markdown",
   "metadata": {},
   "source": [
    "The $L$ and $U$ matrices are as shown above:\n",
    "\n",
    "$$L = \\begin{bmatrix}\n",
    "1 & 0 & 0 & 0 & 0\\\\\n",
    "0 & 1 & 0 & 0 & 0\\\\\n",
    "0 & 0 & 1 & 0 & 0\\\\\n",
    "0 & 0 & 0 & 1 & 0\\\\\n",
    "-1 & -\\frac{1}{2} & \\frac{1}{6} & \\frac{1}{12} & 1\n",
    "\\end{bmatrix}\\qquad U = \\begin{bmatrix}\n",
    "2 & -2 & 0 & 0 & 0\\\\\n",
    "0 & -6 & 16 & 12 & 0\\\\\n",
    "0 & 0 & 12 & 39 & -6\\\\\n",
    "0 & 0 & 0 & -6 & 14\\\\\n",
    "0 & 0 & 0 & 0 & -\\frac{1}{6}\n",
    "\\end{bmatrix}$$"
   ]
  },
  {
   "cell_type": "markdown",
   "metadata": {},
   "source": [
    "## Problem 2.2 Set Question 9"
   ]
  },
  {
   "cell_type": "markdown",
   "metadata": {},
   "source": [
    "Solve the symmetric, tridiagonal equations\n",
    "\\begin{align*}4x_1 - x_2 &= 9\\\\\n",
    "\\\\-x_{i-1} + 4x_i - x_{i+1} &= 5, i=2,\\dots,n-1\\\\\n",
    "\\\\-x_{n-1} + 4x_n &= 5\\end{align*}\n",
    "with $n=10$."
   ]
  },
  {
   "cell_type": "markdown",
   "metadata": {},
   "source": [
    "#### Answer:"
   ]
  },
  {
   "cell_type": "markdown",
   "metadata": {},
   "source": [
    "As usual, what immediately follows is a method from the book I overlooked. You and I toiled a bit about why it wasn't functioning as expected, until realizing I hadn't made my arrays floats. Regardless, I only found this much more efficient, memory-friendly method after doing it an incredibly long way. I have left that work in beneath this solution and will annotate it is superfluous."
   ]
  },
  {
   "cell_type": "code",
   "execution_count": 93,
   "metadata": {},
   "outputs": [],
   "source": [
    "def LUdecomp3(c,d,e):\n",
    "    n = len(d)\n",
    "    for k in range(1,n):\n",
    "        lam = c[k-1]/d[k-1]\n",
    "        d[k] = d[k] - lam*e[k-1]\n",
    "        c[k-1] = lam\n",
    "    return c,d,e\n",
    "\n",
    "def LUsolve3(c,d,e,b):\n",
    "    n = len(d)\n",
    "    for k in range(1,n):\n",
    "        b[k] = b[k] - c[k-1]*b[k-1]\n",
    "    b[n-1] = b[n-1]/d[n-1]\n",
    "    for k in range(n-2,-1,-1):\n",
    "        b[k] = (b[k] - e[k]*b[k+1])/d[k]\n",
    "    return b "
   ]
  },
  {
   "cell_type": "code",
   "execution_count": 225,
   "metadata": {},
   "outputs": [
    {
     "data": {
      "text/plain": [
       "array([2.90191936, 2.60767745, 2.52879042, 2.50748425, 2.50114659,\n",
       "       2.4971021 , 2.48726181, 2.45194513, 2.3205187 , 1.83012968])"
      ]
     },
     "execution_count": 225,
     "metadata": {},
     "output_type": "execute_result"
    }
   ],
   "source": [
    "dim = 10\n",
    "d = np.ones((dim))*(4.0)\n",
    "c = np.ones((dim-1))*(-1.0)\n",
    "b = np.array([9,5,5,5,5,5,5,5,5,5],float)\n",
    "e = c.copy()\n",
    "c, d, e = LUdecomp3(c,d,e)\n",
    "\n",
    "\n",
    "LUsolve3(c,d,e,b)"
   ]
  },
  {
   "cell_type": "markdown",
   "metadata": {},
   "source": [
    "The solution vector $x$ is as follows:\n",
    "\n",
    "$$\\begin{bmatrix}\n",
    "2.90191936\\\\\n",
    "2.60767745\\\\\n",
    "2.52879042\\\\\n",
    "2.50748425\\\\\n",
    "2.50114659\\\\\n",
    "2.4971021\\\\\n",
    "2.48726181\\\\\n",
    "2.45194513\\\\\n",
    "2.3205187\\\\\n",
    "1.83012968\n",
    "\\end{bmatrix}$$"
   ]
  },
  {
   "cell_type": "markdown",
   "metadata": {},
   "source": [
    "#### Below is the way I had originally solved the equation. It is more explicit and employs Cholesky's decomposition.\n"
   ]
  },
  {
   "cell_type": "markdown",
   "metadata": {},
   "source": [
    "First, let's visualize these equations in a coefficient matrices. It may not be necessary, but I find it helps.\n",
    "\n",
    "$$\\begin{bmatrix}\n",
    "4 & -1 & 0 & 0 & 0 & 0 & 0 & 0 & 0 & 0\\\\\n",
    "-1 & 4 & -1 & 0 & 0 & 0 & 0 & 0 & 0 & 0\\\\\n",
    "0 & -1 & 4 & -1 & 0 & 0 & 0 & 0 & 0 & 0\\\\\n",
    "0 & 0 & -1 & 4 & -1 & 0 & 0 & 0 & 0 & 0\\\\\n",
    "0 & 0 & 0 & -1 & 4 & -1 & 0 & 0 & 0 & 0\\\\\n",
    "0 & 0 & 0 & 0 & -1 & 4 & -1 & 0 & 0 & 0\\\\\n",
    "0 & 0 & 0 & 0 & 0 & -1 & 4 & -1 & 0 & 0\\\\\n",
    "0 & 0 & 0 & 0 & 0 & 0 & -1 & 4 & -1 & 0\\\\\n",
    "0 & 0 & 0 & 0 & 0 & 0 & 0 & -1 & 4 & -1\\\\\n",
    "0 & 0 & 0 & 0 & 0 & 0 & 0 & 0 & -1 & 4\\\\\n",
    "\\end{bmatrix}\\begin{bmatrix}\n",
    "x_1\\\\x_2\\\\x_3\\\\x_4\\\\x_5\\\\x_6\\\\x_7\\\\x_8\\\\x_9\\\\x_{10}\n",
    "\\end{bmatrix}=\\begin{bmatrix}\n",
    "9\\\\5\\\\5\\\\5\\\\5\\\\5\\\\5\\\\5\\\\5\\\\5\\end{bmatrix}$$"
   ]
  },
  {
   "cell_type": "markdown",
   "metadata": {},
   "source": [
    "As this is a tridiagonal matrix, it has symmetry. This means we can employ LDL decomposition or perhaps even Cholesky's LL<sup>T</sup> decomposition. In order for Cholesky's to be viable, the matrix must be positive definite.\n",
    "\n",
    ">A square matrix is called positive definite if it is symmetric and all its eigenvalues $\\lambda$ are positive, that is $\\lambda \\gt 0$.\n",
    "\n",
    "So, we can quickly check this with a conditional statement."
   ]
  },
  {
   "cell_type": "code",
   "execution_count": 17,
   "metadata": {},
   "outputs": [
    {
     "name": "stdout",
     "output_type": "stream",
     "text": [
      "Positive Definite\n"
     ]
    }
   ],
   "source": [
    "A = np.array([\n",
    "    [4,-1,0,0,0,0,0,0,0,0],\n",
    "    [-1,4,-1,0,0,0,0,0,0,0],\n",
    "    [0,-1,4,-1,0,0,0,0,0,0],\n",
    "    [0,0,-1,4,-1,0,0,0,0,0],\n",
    "    [0,0,0,-1,4,-1,0,0,0,0],\n",
    "    [0,0,0,0,-1,4,-1,0,0,0],\n",
    "    [0,0,0,0,0,-1,4,-1,0,0],\n",
    "    [0,0,0,0,0,0,-1,4,-1,0],\n",
    "    [0,0,0,0,0,0,0,-1,4,-1],\n",
    "    [0,0,0,0,0,0,0,0,-1,4]\n",
    "])\n",
    "#pprint.pprint(A)\n",
    "\n",
    "Aeigvals = np.linalg.eigvals(A)\n",
    "\n",
    "if(np.array_equiv(A,np.transpose(A))\n",
    "  & all(Aeigvals[i] > 0) for i in range(len(Aeigvals))):\n",
    "    print(\"Positive Definite\")\n",
    "else:\n",
    "    print(\"Not Positive Definite\")"
   ]
  },
  {
   "cell_type": "markdown",
   "metadata": {},
   "source": [
    "It returns positive definite, so we can apply Cholesky's decomposition. This involves creating a $L$ and post-multiplying it with its transpose, i.e. $LL^T$"
   ]
  },
  {
   "cell_type": "code",
   "execution_count": 18,
   "metadata": {
    "scrolled": true
   },
   "outputs": [
    {
     "name": "stdout",
     "output_type": "stream",
     "text": [
      " ------------- \n",
      "Original (m x m) Matrix A  &  (m x 1) Vector b\n",
      "A =\n",
      "array([[ 4., -1.,  0.,  0.,  0.,  0.,  0.,  0.,  0.,  0.],\n",
      "       [-1.,  4., -1.,  0.,  0.,  0.,  0.,  0.,  0.,  0.],\n",
      "       [ 0., -1.,  4., -1.,  0.,  0.,  0.,  0.,  0.,  0.],\n",
      "       [ 0.,  0., -1.,  4., -1.,  0.,  0.,  0.,  0.,  0.],\n",
      "       [ 0.,  0.,  0., -1.,  4., -1.,  0.,  0.,  0.,  0.],\n",
      "       [ 0.,  0.,  0.,  0., -1.,  4., -1.,  0.,  0.,  0.],\n",
      "       [ 0.,  0.,  0.,  0.,  0., -1.,  4., -1.,  0.,  0.],\n",
      "       [ 0.,  0.,  0.,  0.,  0.,  0., -1.,  4., -1.,  0.],\n",
      "       [ 0.,  0.,  0.,  0.,  0.,  0.,  0., -1.,  4., -1.],\n",
      "       [ 0.,  0.,  0.,  0.,  0.,  0.,  0.,  0., -1.,  4.]])\n",
      " \n",
      "b =\n",
      "array([9, 5, 5, 5, 5, 5, 5, 5, 5, 5])\n",
      " \n",
      "The Lower Triangular Matrix  L:\n",
      "array([[ 2.        ,  0.        ,  0.        ,  0.        ,  0.        ,\n",
      "         0.        ,  0.        ,  0.        ,  0.        ,  0.        ],\n",
      "       [-0.5       ,  1.93649167,  0.        ,  0.        ,  0.        ,\n",
      "         0.        ,  0.        ,  0.        ,  0.        ,  0.        ],\n",
      "       [ 0.        , -0.51639778,  1.93218357,  0.        ,  0.        ,\n",
      "         0.        ,  0.        ,  0.        ,  0.        ,  0.        ],\n",
      "       [ 0.        ,  0.        , -0.51754917,  1.93187548,  0.        ,\n",
      "         0.        ,  0.        ,  0.        ,  0.        ,  0.        ],\n",
      "       [ 0.        ,  0.        ,  0.        , -0.51763171,  1.93185336,\n",
      "         0.        ,  0.        ,  0.        ,  0.        ,  0.        ],\n",
      "       [ 0.        ,  0.        ,  0.        ,  0.        , -0.51763763,\n",
      "         1.93185178,  0.        ,  0.        ,  0.        ,  0.        ],\n",
      "       [ 0.        ,  0.        ,  0.        ,  0.        ,  0.        ,\n",
      "        -0.51763806,  1.93185166,  0.        ,  0.        ,  0.        ],\n",
      "       [ 0.        ,  0.        ,  0.        ,  0.        ,  0.        ,\n",
      "         0.        , -0.51763809,  1.93185165,  0.        ,  0.        ],\n",
      "       [ 0.        ,  0.        ,  0.        ,  0.        ,  0.        ,\n",
      "         0.        ,  0.        , -0.51763809,  1.93185165,  0.        ],\n",
      "       [ 0.        ,  0.        ,  0.        ,  0.        ,  0.        ,\n",
      "         0.        ,  0.        ,  0.        , -0.51763809,  1.93185165]])\n",
      "  \n",
      "Compute: A - L L^t = Zero Matrix\n",
      "[[ 0.00000000e+00  0.00000000e+00  0.00000000e+00  0.00000000e+00\n",
      "   0.00000000e+00  0.00000000e+00  0.00000000e+00  0.00000000e+00\n",
      "   0.00000000e+00  0.00000000e+00]\n",
      " [ 0.00000000e+00  0.00000000e+00 -1.11022302e-16  0.00000000e+00\n",
      "   0.00000000e+00  0.00000000e+00  0.00000000e+00  0.00000000e+00\n",
      "   0.00000000e+00  0.00000000e+00]\n",
      " [ 0.00000000e+00 -1.11022302e-16  0.00000000e+00  0.00000000e+00\n",
      "   0.00000000e+00  0.00000000e+00  0.00000000e+00  0.00000000e+00\n",
      "   0.00000000e+00  0.00000000e+00]\n",
      " [ 0.00000000e+00  0.00000000e+00  0.00000000e+00  0.00000000e+00\n",
      "   0.00000000e+00  0.00000000e+00  0.00000000e+00  0.00000000e+00\n",
      "   0.00000000e+00  0.00000000e+00]\n",
      " [ 0.00000000e+00  0.00000000e+00  0.00000000e+00  0.00000000e+00\n",
      "   4.44089210e-16 -1.11022302e-16  0.00000000e+00  0.00000000e+00\n",
      "   0.00000000e+00  0.00000000e+00]\n",
      " [ 0.00000000e+00  0.00000000e+00  0.00000000e+00  0.00000000e+00\n",
      "  -1.11022302e-16  0.00000000e+00  0.00000000e+00  0.00000000e+00\n",
      "   0.00000000e+00  0.00000000e+00]\n",
      " [ 0.00000000e+00  0.00000000e+00  0.00000000e+00  0.00000000e+00\n",
      "   0.00000000e+00  0.00000000e+00  0.00000000e+00  0.00000000e+00\n",
      "   0.00000000e+00  0.00000000e+00]\n",
      " [ 0.00000000e+00  0.00000000e+00  0.00000000e+00  0.00000000e+00\n",
      "   0.00000000e+00  0.00000000e+00  0.00000000e+00  0.00000000e+00\n",
      "   0.00000000e+00  0.00000000e+00]\n",
      " [ 0.00000000e+00  0.00000000e+00  0.00000000e+00  0.00000000e+00\n",
      "   0.00000000e+00  0.00000000e+00  0.00000000e+00  0.00000000e+00\n",
      "   0.00000000e+00  0.00000000e+00]\n",
      " [ 0.00000000e+00  0.00000000e+00  0.00000000e+00  0.00000000e+00\n",
      "   0.00000000e+00  0.00000000e+00  0.00000000e+00  0.00000000e+00\n",
      "   0.00000000e+00  0.00000000e+00]]\n",
      " \n",
      "Solve A x = L L^t x =  b\n",
      "1st: Solve L y =  b for y:\n",
      "y =\n",
      "array([4.5       , 3.7438839 , 3.58834091, 3.54947456, 3.53925443,\n",
      "       3.53652975, 3.53580067, 3.53560538, 3.53555306, 3.53553904])\n",
      " \n",
      "2nd: Solve L^t x = y for x:\n",
      "x =\n",
      "array([2.90191936, 2.60767745, 2.52879042, 2.50748425, 2.50114659,\n",
      "       2.4971021 , 2.48726181, 2.45194513, 2.3205187 , 1.83012968])\n",
      " \n",
      "Is L L^t x = b ?\n",
      "[9. 5. 5. 5. 5. 5. 5. 5. 5. 5.]\n"
     ]
    }
   ],
   "source": [
    "from numpy.linalg import cholesky\n",
    "from scipy.linalg import solve\n",
    "#\n",
    "print(\" ------------- \")\n",
    "print(\"Original (m x m) Matrix A  &  (m x 1) Vector b\")\n",
    "#\n",
    "A = np.array([\n",
    "    [4,-1,0,0,0,0,0,0,0,0],\n",
    "    [-1,4,-1,0,0,0,0,0,0,0],\n",
    "    [0,-1,4,-1,0,0,0,0,0,0],\n",
    "    [0,0,-1,4,-1,0,0,0,0,0],\n",
    "    [0,0,0,-1,4,-1,0,0,0,0],\n",
    "    [0,0,0,0,-1,4,-1,0,0,0],\n",
    "    [0,0,0,0,0,-1,4,-1,0,0],\n",
    "    [0,0,0,0,0,0,-1,4,-1,0],\n",
    "    [0,0,0,0,0,0,0,-1,4,-1],\n",
    "    [0,0,0,0,0,0,0,0,-1,4]\n",
    "],float)\n",
    "m = 10 \n",
    "#\n",
    "b = np.array([9,5,5,5,5,5,5,5,5,5])\n",
    "\n",
    "print(\"A =\")\n",
    "pprint.pprint(A)\n",
    "\n",
    "print(\" \")\n",
    "print(\"b =\")\n",
    "pprint.pprint(b)\n",
    "print(\" \")\n",
    "#\n",
    "# Factor The Symmetric Matrix \n",
    "L = cholesky(A)\n",
    "#\n",
    "print(\"The Lower Triangular Matrix  L:\")\n",
    "pprint.pprint(L)\n",
    "print(\"  \")\n",
    "print(\"Compute: A - L L^t = Zero Matrix\")\n",
    "print( A - L @ L.T)\n",
    "print(\" \")\n",
    "print(\"Solve A x = L L^t x =  b\")\n",
    "print(\"1st: Solve L y =  b for y:\")\n",
    "y = solve(L, b)\n",
    "print(\"y =\")\n",
    "pprint.pprint(y)\n",
    "print(\" \")\n",
    "print(\"2nd: Solve L^t x = y for x:\")\n",
    "x = solve(L.T, y)\n",
    "print(\"x =\")\n",
    "pprint.pprint(x)\n",
    "print(\" \")\n",
    "print(\"Is L L^t x = b ?\")\n",
    "print(L @ L.T @ x)"
   ]
  },
  {
   "cell_type": "markdown",
   "metadata": {},
   "source": [
    "The solution vector $x$ is as follows:\n",
    "\n",
    "$$\\begin{bmatrix}\n",
    "2.90191936\\\\\n",
    "2.60767745\\\\\n",
    "2.52879042\\\\\n",
    "2.50748425\\\\\n",
    "2.50114659\\\\\n",
    "2.4971021\\\\\n",
    "2.48726181\\\\\n",
    "2.45194513\\\\\n",
    "2.3205187\\\\\n",
    "1.83012968\n",
    "\\end{bmatrix}$$"
   ]
  },
  {
   "cell_type": "markdown",
   "metadata": {},
   "source": [
    "## Problem 2.2 Set Question 19"
   ]
  },
  {
   "cell_type": "markdown",
   "metadata": {},
   "source": [
    "Consider the $n$ simultaneous equations $Ax=b$, where\n",
    "\n",
    "$$ \n",
    "A_{ij} = (i+j)^2 \\quad b_i = \\sum_{j=0}^{n-1} A_{ij}, \\quad i=0, 1, \\dots, n-1, \\quad j=0,1,\\dots, n-1 \n",
    "$$\n",
    "\n",
    "Clearly, the solution is $\\begin{bmatrix}x = 1 & 1 & \\cdots & 1\\end{bmatrix}^{T}$. Write a program that solves these equations for any given $n$ (pivoting is recommended). Run the program with $n = 2$, $3$ and $4$, and comment on the results."
   ]
  },
  {
   "cell_type": "markdown",
   "metadata": {},
   "source": [
    "#### Answer:"
   ]
  },
  {
   "cell_type": "code",
   "execution_count": 219,
   "metadata": {
    "scrolled": true
   },
   "outputs": [],
   "source": [
    "def question19(n):\n",
    "    a = np.zeros((n,n))\n",
    "    for i in range(n):\n",
    "        for j in range(n):\n",
    "            a[i][j]=(i+j)**2\n",
    "    b = a.sum(axis=1,keepdims=True)\n",
    "\n",
    "#     print(\"----- The (m x m) Matrix A -----\")\n",
    "#     print(a)\n",
    "#     print('\\n')\n",
    "#     print(\"----- The (m x 1) Vector b  -----\")\n",
    "#     print(b)\n",
    "#     print('\\n')\n",
    "#     print(\"----- Factorization of A to LDL^t -----\")\n",
    "    L, D, P = ldl(a)\n",
    "#     print('\\n')\n",
    "#     print(\"----- Triangular (m x m) Matrix L ----- \")\n",
    "#     print(L[P, :])\n",
    "#     print('\\n')\n",
    "#     print(\"----- Diagonal (m x m) Matrix  D ----- \")\n",
    "#     print(D)\n",
    "#     print('\\n')\n",
    "#     print(\"----- Reconstruct A = L D L^t ----- \")\n",
    "#     print(L @ D @ L.T)\n",
    "#     print('\\n')\n",
    "#     print(\" -----  Compute Determinant of A =\")\n",
    "#     print(det(D))\n",
    "#     print('\\n')\n",
    "#     print(\" -----  Solve A x = L D L^t x = b  ----- \")\n",
    "#     print(\"  \")\n",
    "#     print(\" -----  1st: Solve L z = b  for z ----- \")\n",
    "    z = solve(L, b)\n",
    "#     print(\" ----- The (m x 1) Vector z = \")\n",
    "#     pprint.pprint(z)\n",
    "#     print('\\n')\n",
    "#     print(\" ----- 2nd: Solve D y = z  for y ----- \")\n",
    "    y = solve(D, z)\n",
    "#     print(\" ----- The (m x 1) Vector y =\")\n",
    "#     pprint.pprint(y)\n",
    "#     print('\\n')\n",
    "#     print(\" ----- 3rd: Solve L^t x = y  for x ----- \")\n",
    "    x = solve(L.T, y)\n",
    "#     print(\" ----- The (m x 1) Solution Vector x = \")\n",
    "#     pprint.pprint(x)\n",
    "#     print('\\n')\n",
    "#     print(\" ----- Reconstruct the (m x 1) b Vector\")\n",
    "#     print(\" ----- Is  L @ D @ L.T @ x = b =\")\n",
    "    realsolution = np.ones((n,1),float)\n",
    "#     pprint.pprint(L @ D @ L.T @ x)\n",
    "\n",
    "    if np.allclose(x, realsolution, atol=0, rtol = 1e-07):\n",
    "        print(\"The evaluated solution remained within the tolerance of 1e-07. \\\n",
    "               \\nThe solution is as follows: \\\n",
    "               \\n\\nx = \\n\")\n",
    "        print(x)\n",
    "    else:\n",
    "        print(\"\\nThe evaluated solution is outside the tolerance of 1e-07. \\\n",
    "               \\nIt's most likely due to the matrix being ill-conditioned. \\\n",
    "               \\n\\nRegardless, this is the proposed solution: \\\n",
    "               \\n\\nx = \\n\")\n",
    "        print(x)"
   ]
  },
  {
   "cell_type": "code",
   "execution_count": 222,
   "metadata": {},
   "outputs": [
    {
     "name": "stdout",
     "output_type": "stream",
     "text": [
      "The evaluated solution remained within the tolerance of 1e-07.                \n",
      "The solution is as follows:                \n",
      "\n",
      "x = \n",
      "\n",
      "[[1.]\n",
      " [1.]]\n"
     ]
    }
   ],
   "source": [
    "question19(2)"
   ]
  },
  {
   "cell_type": "markdown",
   "metadata": {},
   "source": [
    "This is another example of how quickly rounding errors can illegitamize a solution. This matrix is particularly ill-conditioned compared to some of the other ones we have seen so far, but at $n=4$ the answer is already wildly wrong."
   ]
  },
  {
   "cell_type": "markdown",
   "metadata": {},
   "source": [
    "## Problem 2.2 Set Question 22"
   ]
  },
  {
   "cell_type": "markdown",
   "metadata": {},
   "source": [
    "Solve the following equations:\n",
    "\n",
    "\\begin{align*}\n",
    "6x_1 - 4x_2 + x_3 &= 1 \\\\\n",
    "\\\\-4x_1 + 6x_2 - 4x_3 + x_4 &= 1\\\\\n",
    "\\\\x_{i-2}-4x_{i-1} + 6x_i -4x_{i+1} + x_{i+2} &= 1 \\quad(i=3,4,\\dots,8)\\\\\n",
    "\\\\x_7 -4x_8+6x_9-4x_{10} &= 1\\\\\n",
    "\\\\x_8 -4x_9+7x_{10} & = 1\n",
    "\\end{align*}"
   ]
  },
  {
   "cell_type": "markdown",
   "metadata": {},
   "source": [
    "#### Answer:"
   ]
  },
  {
   "cell_type": "markdown",
   "metadata": {},
   "source": [
    "Recognizing this to be a pentdiagonal matrix (and having learned from my previous mistakes), I'll (hopefully correctly) utilize the textbook author's LUdecomp5 module."
   ]
  },
  {
   "cell_type": "code",
   "execution_count": 223,
   "metadata": {},
   "outputs": [],
   "source": [
    "def LUdecomp5(d,e,f):\n",
    "    n = len(d)\n",
    "    for k in range(n-2):\n",
    "        lam = e[k]/d[k]\n",
    "        d[k+1] = d[k+1] - lam*e[k]\n",
    "        e[k+1] = e[k+1] - lam*f[k]\n",
    "        e[k] = lam\n",
    "        lam = f[k]/d[k]\n",
    "        d[k+2] = d[k+2] - lam*f[k]\n",
    "        f[k] = lam\n",
    "    lam = e[n-2]/d[n-2]\n",
    "    d[n-1] = d[n-1] - lam*e[n-2]\n",
    "    e[n-2] = lam\n",
    "    return d,e,f\n",
    "\n",
    "def LUsolve5(d,e,f,b):\n",
    "    n = len(d)\n",
    "    b[1] = b[1] - e[0]*b[0]\n",
    "    for k in range(2,n):\n",
    "        b[k] = b[k] - e[k-1]*b[k-1] - f[k-2]*b[k-2]\n",
    "        \n",
    "    b[n-1] = b[n-1]/d[n-1]\n",
    "    b[n-2] = b[n-2]/d[n-2] - e[n-2]*b[n-1]\n",
    "    for k in range(n-3,-1,-1):\n",
    "        b[k] = b[k]/d[k] - e[k]*b[k+1] - f[k]*b[k+2]\n",
    "    return b\n"
   ]
  },
  {
   "cell_type": "code",
   "execution_count": 239,
   "metadata": {},
   "outputs": [
    {
     "data": {
      "text/plain": [
       "array([[5.61607401e+09],\n",
       "       [1.50482250e+09],\n",
       "       [4.03215970e+08],\n",
       "       [1.08041386e+08],\n",
       "       [2.89495783e+07],\n",
       "       [7.75693967e+06],\n",
       "       [2.07822783e+06],\n",
       "       [5.56149167e+05],\n",
       "       [1.47031500e+05],\n",
       "       [3.44501667e+04]])"
      ]
     },
     "execution_count": 239,
     "metadata": {},
     "output_type": "execute_result"
    }
   ],
   "source": [
    "dim = 10\n",
    "d = np.ones((dim))*(6.0)\n",
    "e = np.ones((dim-1))*(-4.0)\n",
    "f = np.ones((dim-2))*(1.0)\n",
    "b = np.ones((dim,1))\n",
    "\n",
    "\n",
    "\n",
    "LUsolve5(d,e,f,b)"
   ]
  },
  {
   "cell_type": "code",
   "execution_count": null,
   "metadata": {},
   "outputs": [],
   "source": [
    "dim = 10\n",
    "d = np.ones((dim))*(4.0)\n",
    "c = np.ones((dim-1))*(-1.0)\n",
    "b = np.array([9,5,5,5,5,5,5,5,5,5],float)\n",
    "e = c.copy()\n",
    "c, d, e = LUdecomp3(c,d,e)\n",
    "\n",
    "\n",
    "LUsolve3(c,d,e,b)"
   ]
  }
 ],
 "metadata": {
  "kernelspec": {
   "display_name": "Python 3 (ipykernel)",
   "language": "python",
   "name": "python3"
  },
  "language_info": {
   "codemirror_mode": {
    "name": "ipython",
    "version": 3
   },
   "file_extension": ".py",
   "mimetype": "text/x-python",
   "name": "python",
   "nbconvert_exporter": "python",
   "pygments_lexer": "ipython3",
   "version": "3.9.7"
  },
  "vscode": {
   "interpreter": {
    "hash": "aee8b7b246df8f9039afb4144a1f6fd8d2ca17a180786b69acc140d282b71a49"
   }
  }
 },
 "nbformat": 4,
 "nbformat_minor": 2
}
