{
 "cells": [
  {
   "cell_type": "markdown",
   "metadata": {},
   "source": [
    "##### Joshua Boehm\n",
    "##### 26 September 2022\n",
    "##### MATH 3423"
   ]
  },
  {
   "cell_type": "markdown",
   "metadata": {},
   "source": [
    "# Libraries"
   ]
  },
  {
   "cell_type": "code",
   "execution_count": 7,
   "metadata": {},
   "outputs": [],
   "source": [
    "import numpy as np\n",
    "import scipy as sp"
   ]
  },
  {
   "cell_type": "markdown",
   "metadata": {},
   "source": [
    "# Preface\n",
    "\n",
    "Let A be a (5 x 3) randomly generated matrix `A = np.random.randint( -2, 5, size = (5, 3) )` with integer elements in the interval [-2, 5); and let b a (5 x 1) randomly generated vector `b = np.random.randint( -2, 3, size = (5, 1))` with integer elements in the interval [-2, 3)."
   ]
  },
  {
   "cell_type": "code",
   "execution_count": 8,
   "metadata": {},
   "outputs": [],
   "source": [
    "# Assigning the randomly generated matrices to variables in order to manipulate below without mutating them.\n",
    "a = np.random.randint(-2,5, size = (5,3))\n",
    "B = np.random.randint(-2,3, size = (5,1))\n",
    "\n",
    "# I randomized the above code until I got a matrix that worked with Cholesky's (both pre and post-multiplied)\n",
    "# These are those matrices. If you like, comment them to re-randomize the matrices.\n",
    "a = np.array([\n",
    "    [4,0,2],\n",
    "    [1,2,0],\n",
    "    [4,1,-2],\n",
    "    [0,0,3],\n",
    "    [2,4,4]],float)\n",
    "B = np.array([\n",
    "    [0],\n",
    "    [-1],\n",
    "    [2],\n",
    "    [0],\n",
    "    [0]],float)"
   ]
  },
  {
   "cell_type": "code",
   "execution_count": 9,
   "metadata": {},
   "outputs": [
    {
     "name": "stdout",
     "output_type": "stream",
     "text": [
      "[[ 4.  0.  2.]\n",
      " [ 1.  2.  0.]\n",
      " [ 4.  1. -2.]\n",
      " [ 0.  0.  3.]\n",
      " [ 2.  4.  4.]]\n",
      "[[ 0.]\n",
      " [-1.]\n",
      " [ 2.]\n",
      " [ 0.]\n",
      " [ 0.]]\n"
     ]
    },
    {
     "data": {
      "text/plain": [
       "array([[0.],\n",
       "       [0.],\n",
       "       [0.],\n",
       "       [0.],\n",
       "       [0.]])"
      ]
     },
     "execution_count": 9,
     "metadata": {},
     "output_type": "execute_result"
    }
   ],
   "source": [
    "Aposdef = np.array([\n",
    "    [4,0,2],\n",
    "    [1,2,0],\n",
    "    [4,1,-2],\n",
    "    [0,0,3],\n",
    "    [2,4,4]],float)\n",
    "bposdef= np.array([\n",
    "    [0],\n",
    "    [-1],\n",
    "    [2],\n",
    "    [0],\n",
    "    [0]],float)\n",
    "print(a)\n",
    "print(bposdef)\n",
    "a-Aposdef\n",
    "B-bposdef"
   ]
  },
  {
   "cell_type": "markdown",
   "metadata": {},
   "source": [
    "# Question 1\n",
    "Find the LU factorization of $A^TA$ and $A A^T$ and use each factorization to solve: \n",
    "$$ A^TAx = A^Tb \\quad{and}\\quad AA^Tx = b$$\n"
   ]
  },
  {
   "cell_type": "markdown",
   "metadata": {},
   "source": [
    "## Solution"
   ]
  },
  {
   "cell_type": "markdown",
   "metadata": {},
   "source": [
    "### A<sup>T</sup>A variant"
   ]
  },
  {
   "cell_type": "markdown",
   "metadata": {},
   "source": [
    "First, we examine pre-multiplying $A$ with $A^T$, resulting in a square matrix of size $3 \\times 3$. As a result, we will evaluate the problem $A^TAx = A^Tb$"
   ]
  },
  {
   "cell_type": "code",
   "execution_count": 10,
   "metadata": {},
   "outputs": [
    {
     "name": "stdout",
     "output_type": "stream",
     "text": [
      " The original A matrix: \n",
      " [[ 4.  0.  2.]\n",
      " [ 1.  2.  0.]\n",
      " [ 4.  1. -2.]\n",
      " [ 0.  0.  3.]\n",
      " [ 2.  4.  4.]] \n",
      "\n",
      " The original right-side matrix b: \n",
      " [[ 0.]\n",
      " [-1.]\n",
      " [ 2.]\n",
      " [ 0.]\n",
      " [ 0.]] \n",
      "\n",
      " The matrix A^t A: \n",
      " [[37. 14.  8.]\n",
      " [14. 21. 14.]\n",
      " [ 8. 14. 33.]] \n",
      "\n",
      " The right-side matrix A^t b \n",
      " [[ 7.]\n",
      " [ 0.]\n",
      " [-4.]] \n",
      "\n",
      " The Permutation matrix: \n",
      " [[1. 0. 0.]\n",
      " [0. 1. 0.]\n",
      " [0. 0. 1.]] \n",
      "\n",
      " The Lower matrix: \n",
      " [[1.         0.         0.        ]\n",
      " [0.37837838 1.         0.        ]\n",
      " [0.21621622 0.69879518 1.        ]] \n",
      "\n",
      " The Upper matrix: \n",
      " [[37.         14.          8.        ]\n",
      " [ 0.         15.7027027  10.97297297]\n",
      " [ 0.          0.         23.60240964]] \n",
      "\n",
      "Reconstruct A with Factorization\n",
      "[[37. 14.  8.]\n",
      " [14. 21. 14.]\n",
      " [ 8. 14. 33.]]\n",
      " ---> 1st: Solve L y = P^t b --> For the (m x 1) Vector y \n",
      "[[ 7.        ]\n",
      " [-2.64864865]\n",
      " [-3.6626506 ]]\n",
      "\n",
      " ---> 2nd: Solve U x = y --> x \n",
      "[[ 0.24553344]\n",
      " [-0.06023481]\n",
      " [-0.15518121]]\n",
      "\n",
      " ---> The Solution Vector x from solve:\n",
      "[[ 0.24553344]\n",
      " [-0.06023481]\n",
      " [-0.15518121]]\n",
      " \n",
      " ---> Reconstruct the Vector P L U x --> A^t b\n",
      "[[ 7.00000000e+00]\n",
      " [-3.33066907e-16]\n",
      " [-4.00000000e+00]]\n",
      " \n",
      "A^t b matrix for comparison:\n",
      "[[ 7.]\n",
      " [ 0.]\n",
      " [-4.]]\n"
     ]
    }
   ],
   "source": [
    "from scipy.linalg import lu\n",
    "from scipy.linalg import solve\n",
    "\n",
    "A = a.T @ a\n",
    "b = a.T @ B\n",
    "\n",
    "P, L, U = lu(A)\n",
    "\n",
    "print(f\" \\\n",
    "The original A matrix: \\n {a} \\n\\n \\\n",
    "The original right-side matrix b: \\n {B} \\n\\n \\\n",
    "The matrix A^t A: \\n {A} \\n\\n \\\n",
    "The right-side matrix A^t b \\n {b} \\n\\n \\\n",
    "The Permutation matrix: \\n {P} \\n\\n \\\n",
    "The Lower matrix: \\n {L} \\n\\n \\\n",
    "The Upper matrix: \\n {U} \\n\")\n",
    "\n",
    "\n",
    "\n",
    "\n",
    "print(\"Reconstruct A with Factorization\")\n",
    "print(P @ L @ U)\n",
    "\n",
    "# Solve A x = b\n",
    "print(\" ---> 1st: Solve L y = P^t b --> For the (m x 1) Vector y \")\n",
    "y = solve(L, P.T @ b)\n",
    "print(y)\n",
    "print(\"\\n ---> 2nd: Solve U x = y --> x \")\n",
    "x = solve(U, y)\n",
    "print(x)\n",
    "x = solve(A, b)\n",
    "print(\"\\n ---> The Solution Vector x from solve:\")\n",
    "print(x)\n",
    "print(\" \")\n",
    "print(\" ---> Reconstruct the Vector P L U x --> A^t b\")\n",
    "print(P @ L @ U @ x)\n",
    "print(\" \")\n",
    "print(\"A^t b matrix for comparison:\")\n",
    "print(b)"
   ]
  },
  {
   "cell_type": "markdown",
   "metadata": {},
   "source": [
    "The resulting solution vector $x$ we get is $A^{T}b$ is a $3 \\times 1$ matrix. This is a consequence of $A^T$ being a $3 \\times 5$ matrix multiplied by $b$, a $5 \\times 1$ matrix. I would explicitly write it in Latex, except that it is randomly generated and will remain so unless I happen upon a Positive-Definite matrix (to use in Cholesky's).\n",
    "\n",
    "__**EDIT:**__ After finding a positive-definite matrix, I have saved it to be used with all of the homework questions (including this one). The solve does prove to be correct by reconstruction if garbage float-point 0 is considered.\n",
    "\n",
    "That matrix $x$ is as follows: \n",
    "$$x = \\begin {bmatrix}\n",
    "0.24553344 \\\\\n",
    "-0.06023481 \\\\\n",
    "-0.15518121\n",
    "\\end {bmatrix}$$"
   ]
  },
  {
   "cell_type": "markdown",
   "metadata": {},
   "source": [
    "### AA<sup>T</sup> variant"
   ]
  },
  {
   "cell_type": "markdown",
   "metadata": {},
   "source": [
    "Here, we post-multiply $A$ with $A^T$ giving us a square matrix with the diminisions $5 \\times 5$, which we will utilize to evalute the equation $AA^Tx = b$."
   ]
  },
  {
   "cell_type": "code",
   "execution_count": 11,
   "metadata": {},
   "outputs": [
    {
     "name": "stdout",
     "output_type": "stream",
     "text": [
      " The matrix AA^t: \n",
      " [[20.  4. 12.  6. 16.]\n",
      " [ 4.  5.  6.  0. 10.]\n",
      " [12.  6. 21. -6.  4.]\n",
      " [ 6.  0. -6.  9. 12.]\n",
      " [16. 10.  4. 12. 36.]] \n",
      "\n",
      " The Permutation matrix: \n",
      " [[1. 0. 0. 0. 0.]\n",
      " [0. 0. 0. 0. 1.]\n",
      " [0. 0. 1. 0. 0.]\n",
      " [0. 0. 0. 1. 0.]\n",
      " [0. 1. 0. 0. 0.]] \n",
      "\n",
      " The Lower matrix: \n",
      " [[ 1.          0.          0.          0.          0.        ]\n",
      " [ 0.8         1.          0.          0.          0.        ]\n",
      " [ 0.6         0.52941176  1.          0.          0.        ]\n",
      " [ 0.3        -0.17647059 -0.63157895  1.          0.        ]\n",
      " [ 0.2         0.61764706  0.42105263 -0.17737948  1.        ]] \n",
      "\n",
      " The Upper matrix: \n",
      " [[ 20.     4.    12.     6.    16.  ]\n",
      " [  0.     6.8   -5.6    7.2   23.2 ]\n",
      " [  0.     0.    16.76 -13.41 -17.88]\n",
      " [  0.     0.     0.    -0.    -0.  ]\n",
      " [  0.     0.     0.     0.    -0.  ]] \n",
      "\n",
      " The right-side matrix b \n",
      " [[ 0.]\n",
      " [-1.]\n",
      " [ 2.]\n",
      " [ 0.]\n",
      " [ 0.]] \n",
      "\n",
      " ---> 1st: Solve L y = P^t b --> For the (m x 1) Vector y \n",
      "[[ 0.        ]\n",
      " [ 0.        ]\n",
      " [ 2.        ]\n",
      " [ 1.26315789]\n",
      " [-1.61804697]]\n",
      " \n",
      " ---> 2nd: Solve U x = y --> x \n",
      "[[ 1.65299830e+15]\n",
      " [-8.35223669e+15]\n",
      " [-1.88914092e+15]\n",
      " [-8.55929758e+15]\n",
      " [ 4.64840358e+15]]\n",
      " \n",
      " ---> The (n x 1) Solution Vector x from solve:\n",
      "[[ 1.65299830e+15]\n",
      " [-8.35223669e+15]\n",
      " [-1.88914092e+15]\n",
      " [-8.55929758e+15]\n",
      " [ 4.64840358e+15]]\n",
      " \n",
      " ---> Reconstruct the (m x 1) Vector P L U x --> b \n",
      "[[ 0.        ]\n",
      " [10.25722349]\n",
      " [ 0.        ]\n",
      " [ 4.        ]\n",
      " [ 4.        ]]\n",
      " \n",
      "Original b matrix for comparison:\n",
      "[[ 0.]\n",
      " [-1.]\n",
      " [ 2.]\n",
      " [ 0.]\n",
      " [ 0.]]\n"
     ]
    },
    {
     "name": "stderr",
     "output_type": "stream",
     "text": [
      "/var/folders/90/b16ybj8s2gv__lhxf5ttmvj40000gn/T/ipykernel_29510/102300893.py:18: LinAlgWarning: Ill-conditioned matrix (rcond=1.24777e-18): result may not be accurate.\n",
      "  x = solve(U, y)\n",
      "/var/folders/90/b16ybj8s2gv__lhxf5ttmvj40000gn/T/ipykernel_29510/102300893.py:20: LinAlgWarning: Ill-conditioned matrix (rcond=9.13148e-19): result may not be accurate.\n",
      "  x = solve(A, b)\n"
     ]
    }
   ],
   "source": [
    "A = a @ a.T\n",
    "P, L, U = lu(A)\n",
    "b = B\n",
    "\n",
    "print(f\" \\\n",
    "The matrix AA^t: \\n {A} \\n\\n \\\n",
    "The Permutation matrix: \\n {P} \\n\\n \\\n",
    "The Lower matrix: \\n {L} \\n\\n \\\n",
    "The Upper matrix: \\n {U.round(2)} \\n\\n \\\n",
    "The right-side matrix b \\n {b} \\n\")\n",
    "\n",
    "\n",
    "print(\" ---> 1st: Solve L y = P^t b --> For the (m x 1) Vector y \")\n",
    "y = solve(L, P.T @ b)\n",
    "print(y)\n",
    "print(\" \")\n",
    "print(\" ---> 2nd: Solve U x = y --> x \")\n",
    "x = solve(U, y)\n",
    "print(x)\n",
    "x = solve(A, b)\n",
    "print(\" \")\n",
    "print(\" ---> The (n x 1) Solution Vector x from solve:\")\n",
    "print(x)\n",
    "print(\" \")\n",
    "print(\" ---> Reconstruct the (m x 1) Vector P L U x --> b \")\n",
    "print(P @ L @ U @ x)\n",
    "print(\" \")\n",
    "print(\"Original b matrix for comparison:\")\n",
    "print(b)"
   ]
  },
  {
   "cell_type": "markdown",
   "metadata": {},
   "source": [
    "This matrix turned out to be ill-conditioned and as a result, the solution $x$ turned out to be unusable. When plugging the solution $x$ into the matrix $AA^T$, the right side $b$ is not the same as the original."
   ]
  },
  {
   "cell_type": "markdown",
   "metadata": {},
   "source": [
    "# Question 2\n",
    "Find the $LDL^T$ factorization of $A^TA$ and $A A^T$ and use each factorization to solve: \n",
    "$$ A^TAx = A^Tb \\quad{and}\\quad AA^Tx = b$$"
   ]
  },
  {
   "cell_type": "markdown",
   "metadata": {},
   "source": [
    "## Solution"
   ]
  },
  {
   "cell_type": "markdown",
   "metadata": {},
   "source": [
    "### A<sup>T</sup>A variant"
   ]
  },
  {
   "cell_type": "markdown",
   "metadata": {},
   "source": [
    "Again, we examine pre-multiplying $A$ with $A^T$, resulting in a square matrix of size $3 \\times 3$. As a result, we will evaluate the problem $A^TAx = A^Tb$."
   ]
  },
  {
   "cell_type": "code",
   "execution_count": 20,
   "metadata": {},
   "outputs": [
    {
     "name": "stdout",
     "output_type": "stream",
     "text": [
      " The original A matrix: \n",
      " [[ 4.  0.  2.]\n",
      " [ 1.  2.  0.]\n",
      " [ 4.  1. -2.]\n",
      " [ 0.  0.  3.]\n",
      " [ 2.  4.  4.]] \n",
      "\n",
      " The original right-side matrix b: \n",
      " [[ 0.]\n",
      " [-1.]\n",
      " [ 2.]\n",
      " [ 0.]\n",
      " [ 0.]] \n",
      "\n",
      " The matrix A^t A: \n",
      " [[37. 14.  8.]\n",
      " [14. 21. 14.]\n",
      " [ 8. 14. 33.]] \n",
      "\n",
      " The right-side matrix A^t b \n",
      " [[ 7.]\n",
      " [ 0.]\n",
      " [-4.]] \n",
      "\n",
      " The Permutation matrix: \n",
      " [0 1 2] \n",
      "\n",
      " The Lower matrix: \n",
      " [[1.         0.         0.        ]\n",
      " [0.37837838 1.         0.        ]\n",
      " [0.21621622 0.69879518 1.        ]] \n",
      "\n",
      " The Diagonal matrix: \n",
      " [[37.          0.          0.        ]\n",
      " [ 0.         15.7027027   0.        ]\n",
      " [ 0.          0.         23.60240964]] \n",
      "\n",
      "----- Reconstruct A = L D L^t ----- \n",
      "[[37. 14.  8.]\n",
      " [14. 21. 14.]\n",
      " [ 8. 14. 33.]]\n",
      " -----  1st: Solve L z = b  for z ----- \n",
      "[[ 7.        ]\n",
      " [-2.64864865]\n",
      " [-3.6626506 ]]\n",
      " ----- 2nd: Solve D y = z  for y ----- \n",
      "[[ 0.18918919]\n",
      " [-0.1686747 ]\n",
      " [-0.15518121]]\n",
      " ----- 3rd: Solve L^t x = y  for x ----- \n",
      "[[ 0.24553344]\n",
      " [-0.06023481]\n",
      " [-0.15518121]]\n",
      " ----- Reconstruct the (m x 1) b Vector\n",
      " ----- Is  L @ D @ L.T @ x = b =\n",
      " [[ 7.00000000e+00]\n",
      " [-5.74096949e-17]\n",
      " [-4.00000000e+00]]\n",
      "The original A^t b matrix:\n",
      " [[ 7.]\n",
      " [ 0.]\n",
      " [-4.]]\n"
     ]
    }
   ],
   "source": [
    "from scipy.linalg import ldl\n",
    "from scipy.linalg import solve, det\n",
    "\n",
    "A = a.T @ a\n",
    "b = a.T @ B\n",
    "\n",
    "L, D, P = ldl(A)\n",
    "\n",
    "\n",
    "print(f\" \\\n",
    "The original A matrix: \\n {a} \\n\\n \\\n",
    "The original right-side matrix b: \\n {B} \\n\\n \\\n",
    "The matrix A^t A: \\n {A} \\n\\n \\\n",
    "The right-side matrix A^t b \\n {b} \\n\\n \\\n",
    "The Permutation matrix: \\n {P} \\n\\n \\\n",
    "The Lower matrix: \\n {L} \\n\\n \\\n",
    "The Diagonal matrix: \\n {D} \\n\")\n",
    "\n",
    "print(\"----- Reconstruct A = L D L^t ----- \")\n",
    "print(L @ D @ L.T)\n",
    "\n",
    "print(\" -----  1st: Solve L z = b  for z ----- \")\n",
    "z = solve(L, b)\n",
    "print(z)\n",
    "print(\" ----- 2nd: Solve D y = z  for y ----- \")\n",
    "y = solve(D, z)\n",
    "print(y)\n",
    "print(\" ----- 3rd: Solve L^t x = y  for x ----- \")\n",
    "x = solve(L.T, y)\n",
    "print(x)\n",
    "print(\" ----- Reconstruct the (m x 1) b Vector\")\n",
    "print(\" ----- Is  L @ D @ L.T @ x = b =\\n\",  L @ D @ L.T @ x )\n",
    "print(\"The original A^t b matrix:\\n\",b)"
   ]
  },
  {
   "cell_type": "markdown",
   "metadata": {},
   "source": [
    "As we can see, the $LDL^T$ decomposition and solution works as equally well as the $LU$ decomposition did above for this $A^TAx = A^TB$ equation."
   ]
  },
  {
   "cell_type": "markdown",
   "metadata": {},
   "source": [
    "### AA<sup>T</sup> variant"
   ]
  },
  {
   "cell_type": "markdown",
   "metadata": {},
   "source": [
    "Again, we post-multiply $A$ with $A^T$ giving us a square matrix with the diminisions $5 \\times 5$, which we will utilize to evalute the equation $AA^Tx = b$. Hopefully this decomposition is less prone to the rounding errors we ran into above."
   ]
  },
  {
   "cell_type": "code",
   "execution_count": 21,
   "metadata": {},
   "outputs": [
    {
     "name": "stdout",
     "output_type": "stream",
     "text": [
      " The original A matrix: \n",
      " [[ 4.  0.  2.]\n",
      " [ 1.  2.  0.]\n",
      " [ 4.  1. -2.]\n",
      " [ 0.  0.  3.]\n",
      " [ 2.  4.  4.]] \n",
      "\n",
      " The matrix A A^t: \n",
      " [[20.  4. 12.  6. 16.]\n",
      " [ 4.  5.  6.  0. 10.]\n",
      " [12.  6. 21. -6.  4.]\n",
      " [ 6.  0. -6.  9. 12.]\n",
      " [16. 10.  4. 12. 36.]] \n",
      "\n",
      " The original right-side matrix b: \n",
      " [[ 0.]\n",
      " [-1.]\n",
      " [ 2.]\n",
      " [ 0.]\n",
      " [ 0.]] \n",
      "\n",
      " The Lower matrix: \n",
      " [[ 1.          0.          0.          0.          0.        ]\n",
      " [ 0.2         1.          0.          0.          0.        ]\n",
      " [ 0.6         0.85714286  1.          0.          0.        ]\n",
      " [ 0.3        -0.28571429 -0.8         1.          0.        ]\n",
      " [ 0.8         1.61904762 -1.06666667  0.84848485  1.        ]] \n",
      "\n",
      " The Diagonal matrix: \n",
      " [[20.    0.    0.    0.    0.  ]\n",
      " [ 0.    4.2   0.    0.    0.  ]\n",
      " [ 0.    0.   10.71  0.    0.  ]\n",
      " [ 0.    0.    0.   -0.    0.  ]\n",
      " [ 0.    0.    0.    0.    0.  ]] \n",
      "\n",
      "----- Reconstruct A = L D L^t ----- \n",
      "[[ 2.00000000e+01  4.00000000e+00  1.20000000e+01  6.00000000e+00\n",
      "   1.60000000e+01]\n",
      " [ 4.00000000e+00  5.00000000e+00  6.00000000e+00 -3.96508223e-17\n",
      "   1.00000000e+01]\n",
      " [ 1.20000000e+01  6.00000000e+00  2.10000000e+01 -6.00000000e+00\n",
      "   4.00000000e+00]\n",
      " [ 6.00000000e+00  0.00000000e+00 -6.00000000e+00  9.00000000e+00\n",
      "   1.20000000e+01]\n",
      " [ 1.60000000e+01  1.00000000e+01  4.00000000e+00  1.20000000e+01\n",
      "   3.60000000e+01]]\n",
      " -----  1st: Solve L z = b  for z ----- \n",
      "[[ 0.        ]\n",
      " [-1.        ]\n",
      " [ 2.85714286]\n",
      " [ 2.        ]\n",
      " [ 2.96969697]]\n",
      " ----- 2nd: Solve D y = z  for y ----- \n",
      "[[ 0.00000000e+00]\n",
      " [-2.38095238e-01]\n",
      " [ 2.66666667e-01]\n",
      " [-6.82363580e+14]\n",
      " [ 9.55427185e+14]]\n",
      " ----- 3rd: Solve L^t x = y  for x ----- \n",
      "[[ 1.53388310e+14]\n",
      " [-1.82320391e+15]\n",
      " [-1.75300926e+14]\n",
      " [-1.49302907e+15]\n",
      " [ 9.55427185e+14]]\n",
      " ----- Reconstruct the (m x 1) b Vector\n",
      " ----- Is  L @ D @ L.T @ x = b =\n",
      " [[0.        ]\n",
      " [2.        ]\n",
      " [2.84858981]\n",
      " [2.        ]\n",
      " [4.        ]]\n",
      "The original b matrix:\n",
      " [[ 0.]\n",
      " [-1.]\n",
      " [ 2.]\n",
      " [ 0.]\n",
      " [ 0.]]\n"
     ]
    }
   ],
   "source": [
    "from scipy.linalg import ldl\n",
    "from scipy.linalg import solve, det\n",
    "\n",
    "A = a @ a.T\n",
    "b = B\n",
    "\n",
    "L, D, P = ldl(A)\n",
    "\n",
    "print(f\" \\\n",
    "The original A matrix: \\n {a} \\n\\n \\\n",
    "The matrix A A^t: \\n {A} \\n\\n \\\n",
    "The original right-side matrix b: \\n {b} \\n\\n \\\n",
    "The Lower matrix: \\n {L} \\n\\n \\\n",
    "The Diagonal matrix: \\n {D.round(2)} \\n\")\n",
    "#The Permutation matrix: \\n {P} \\n\\n \\\n",
    "\n",
    "print(\"----- Reconstruct A = L D L^t ----- \")\n",
    "print(L @ D @ L.T)\n",
    "\n",
    "print(\" -----  1st: Solve L z = b  for z ----- \")\n",
    "z = solve(L, b)\n",
    "print(z)\n",
    "print(\" ----- 2nd: Solve D y = z  for y ----- \")\n",
    "y = solve(D, z)\n",
    "print(y)\n",
    "print(\" ----- 3rd: Solve L^t x = y  for x ----- \")\n",
    "x = solve(L.T, y)\n",
    "print(x)\n",
    "print(\" ----- Reconstruct the (m x 1) b Vector\")\n",
    "print(\" ----- Is  L @ D @ L.T @ x = b =\\n\",  L @ D @ L.T @ x )\n",
    "print(\"The original b matrix:\\n\",b)"
   ]
  },
  {
   "cell_type": "markdown",
   "metadata": {},
   "source": [
    "Yet again, we have the problem of an ill-conditioned matrix creating wild rounding errors. I'm a little concerned going into the future with this."
   ]
  },
  {
   "cell_type": "markdown",
   "metadata": {},
   "source": [
    "# Question 3\n",
    "Find the $Cholesky$ factorization of $A^TA$ and $A A^T$ and use each factorization to solve: \n",
    "$$ A^TAx = A^Tb \\quad{and}\\quad AA^Tx = b$$"
   ]
  },
  {
   "cell_type": "markdown",
   "metadata": {},
   "source": [
    "## Solution"
   ]
  },
  {
   "cell_type": "markdown",
   "metadata": {},
   "source": [
    "In order for us to even utilize $Cholesky's$, our factorable matrix must be positive-definite."
   ]
  },
  {
   "cell_type": "markdown",
   "metadata": {},
   "source": [
    "### A<sup>T</sup>A variant"
   ]
  },
  {
   "cell_type": "code",
   "execution_count": 44,
   "metadata": {},
   "outputs": [
    {
     "name": "stdout",
     "output_type": "stream",
     "text": [
      " The original A matrix: \n",
      " [[ 4.  0.  2.]\n",
      " [ 1.  2.  0.]\n",
      " [ 4.  1. -2.]\n",
      " [ 0.  0.  3.]\n",
      " [ 2.  4.  4.]] \n",
      "\n",
      " The matrix A^t A: \n",
      " [[37. 14.  8.]\n",
      " [14. 21. 14.]\n",
      " [ 8. 14. 33.]] \n",
      "\n",
      " The original right-side matrix b: \n",
      " [[ 0.]\n",
      " [-1.]\n",
      " [ 2.]\n",
      " [ 0.]\n",
      " [ 0.]] \n",
      "\n",
      " The right-side matrix A^t b: \n",
      " [[ 7.]\n",
      " [ 0.]\n",
      " [-4.]] \n",
      "\n",
      " The Cholesky Lower matrix: \n",
      " [[6.08276253 0.         0.        ]\n",
      " [2.30158582 3.96266359 0.        ]\n",
      " [1.3151919  2.76909022 4.85823112]] \n",
      "\n",
      " Reconstruction of LL^t (should be A^t A): \n",
      " [[37. 14.  8.]\n",
      " [14. 21. 14.]\n",
      " [ 8. 14. 33.]] \n",
      " Solve A x = L L^t x =  b 1st: Solve L y =  b --> y \n",
      " [[ 1.15079291]\n",
      " [-0.66840109]\n",
      " [-0.75390621]] \n",
      "\n",
      " 2nd: Solve L^t x = y --> x \n",
      " [[ 0.24553344]\n",
      " [-0.06023481]\n",
      " [-0.15518121]] \n",
      "\n",
      " Is L L^t x = A^t b ? \n",
      " [[ 7.00000000e+00]\n",
      " [ 1.66533454e-16]\n",
      " [-4.00000000e+00]]\n",
      "\n",
      " The A^t b matrix for comparison: \n",
      " [[ 7.]\n",
      " [ 0.]\n",
      " [-4.]]\n"
     ]
    }
   ],
   "source": [
    "from numpy import array\n",
    "from numpy.linalg import cholesky\n",
    "from scipy.linalg import solve\n",
    "\n",
    "A = a.T @ a\n",
    "b = a.T @ B\n",
    "\n",
    "L = cholesky(A)\n",
    "y = solve(L, b)\n",
    "x = solve(L.T, y)\n",
    "\n",
    "print(f\" \\\n",
    "The original A matrix: \\n {a} \\n\\n \\\n",
    "The matrix A^t A: \\n {A} \\n\\n \\\n",
    "The original right-side matrix b: \\n {B} \\n\\n \\\n",
    "The right-side matrix A^t b: \\n {b} \\n\\n \\\n",
    "The Cholesky Lower matrix: \\n {L} \\n\\n \\\n",
    "Reconstruction of LL^t (should be A^t A): \\n {L @ L.T} \\n \\\n",
    "Solve A x = L L^t x =  b \\\n",
    "1st: Solve L y =  b --> y \\n {y} \\n\\n \\\n",
    "2nd: Solve L^t x = y --> x \\n {x} \\n\\n \\\n",
    "Is L L^t x = A^t b ? \\n {L @ L.T @ x}\\n\\n \\\n",
    "The A^t b matrix for comparison: \\n {b}\")"
   ]
  },
  {
   "cell_type": "markdown",
   "metadata": {},
   "source": [
    "As above with the $A^TA$ matrix, the solve turns out as expected. The only real difference is the display of 0 as a floating point number."
   ]
  },
  {
   "cell_type": "markdown",
   "metadata": {},
   "source": [
    "### AA<sup>T</sup> variant"
   ]
  },
  {
   "cell_type": "markdown",
   "metadata": {},
   "source": [
    "Once more, we post-multiply $A$ with $A^T$ giving us a square matrix with the diminisions $5 \\times 5$, which we will utilize to evalute the equation $AA^Tx = b$. Perhaps this will perform better than the $LDL^T$ decomposition."
   ]
  },
  {
   "cell_type": "code",
   "execution_count": 45,
   "metadata": {},
   "outputs": [
    {
     "name": "stdout",
     "output_type": "stream",
     "text": [
      " The original A matrix: \n",
      " [[ 4.  0.  2.]\n",
      " [ 1.  2.  0.]\n",
      " [ 4.  1. -2.]\n",
      " [ 0.  0.  3.]\n",
      " [ 2.  4.  4.]] \n",
      "\n",
      " The matrix A A^t: \n",
      " [[20.  4. 12.  6. 16.]\n",
      " [ 4.  5.  6.  0. 10.]\n",
      " [12.  6. 21. -6.  4.]\n",
      " [ 6.  0. -6.  9. 12.]\n",
      " [16. 10.  4. 12. 36.]] \n",
      "\n",
      " The original right-side matrix b: \n",
      " [[ 0.]\n",
      " [-1.]\n",
      " [ 2.]\n",
      " [ 0.]\n",
      " [ 0.]] \n",
      "\n",
      " The Cholesky Lower matrix: \n",
      " [[ 4.47  0.    0.    0.    0.  ]\n",
      " [ 0.89  2.05  0.    0.    0.  ]\n",
      " [ 2.68  1.76  3.27  0.    0.  ]\n",
      " [ 1.34 -0.59 -2.62  0.    0.  ]\n",
      " [ 3.58  3.32 -3.49  0.    0.  ]] \n",
      "\n",
      " Reconstruction of LL^t (should be A A^t): \n",
      " [[20.  4. 12.  6. 16.]\n",
      " [ 4.  5.  6. -0. 10.]\n",
      " [12.  6. 21. -6.  4.]\n",
      " [ 6. -0. -6.  9. 12.]\n",
      " [16. 10.  4. 12. 36.]] \n",
      " Solve A x = L L^t x =  b 1st: Solve L y =  b --> y \n",
      " [[ 0.00000000e+00]\n",
      " [-4.87950036e-01]\n",
      " [ 8.72871561e-01]\n",
      " [ 4.74531328e+07]\n",
      " [ 4.08411715e+07]] \n",
      "\n",
      " 2nd: Solve L^t x = y --> x \n",
      " [[-1.03277312e+15]\n",
      " [-1.55917684e+15]\n",
      " [ 1.18031213e+15]\n",
      " [ 8.29376323e+14]\n",
      " [ 4.84510384e+14]] \n",
      "\n",
      " Is L L^t x = b ? \n",
      " [[-4.        ]\n",
      " [-1.125     ]\n",
      " [ 2.53483417]\n",
      " [ 1.25      ]\n",
      " [-1.25      ]]\n",
      "\n",
      " The A^t b matrix for comparison: \n",
      " [[ 0.]\n",
      " [-1.]\n",
      " [ 2.]\n",
      " [ 0.]\n",
      " [ 0.]]\n"
     ]
    },
    {
     "data": {
      "text/plain": [
       "1.4461175500930304e+17"
      ]
     },
     "execution_count": 45,
     "metadata": {},
     "output_type": "execute_result"
    }
   ],
   "source": [
    "from numpy import array\n",
    "from numpy.linalg import cholesky\n",
    "from scipy.linalg import solve\n",
    "\n",
    "A = a @ a.T\n",
    "b = B\n",
    "\n",
    "L = cholesky(A)\n",
    "y = solve(L, b)\n",
    "x = solve(L.T, y)\n",
    "\n",
    "print(f\" \\\n",
    "The original A matrix: \\n {a} \\n\\n \\\n",
    "The matrix A A^t: \\n {A} \\n\\n \\\n",
    "The original right-side matrix b: \\n {B} \\n\\n \\\n",
    "The Cholesky Lower matrix: \\n {L.round(2)} \\n\\n \\\n",
    "Reconstruction of LL^t (should be A A^t): \\n {(L @ L.T).round(2)} \\n \\\n",
    "Solve A x = L L^t x =  b \\\n",
    "1st: Solve L y =  b --> y \\n {y} \\n\\n \\\n",
    "2nd: Solve L^t x = y --> x \\n {x} \\n\\n \\\n",
    "Is L L^t x = b ? \\n {L @ L.T @ x}\\n\\n \\\n",
    "The A^t b matrix for comparison: \\n {b}\")\n",
    "\n",
    "np.linalg.cond(A)"
   ]
  },
  {
   "cell_type": "markdown",
   "metadata": {},
   "source": [
    "Yet again, every time I try to calculate the $AA^T$ variant of this problem, there are big issues. It seems one of two things must be happening:\n",
    "+ I'm messing up, and the conclusions are invalid.\n",
    "+ The bigger the matrix, the more likely it is to fail; use the smaller resulting square matrix."
   ]
  },
  {
   "cell_type": "markdown",
   "metadata": {},
   "source": [
    "# Question 4\n",
    "\n",
    "Find the eigenvalues of the corresponding eigenvectors of $A^TA$ and $AA^T$. Use the $QR$ factorizations to find the eigenvalues and compare your answers."
   ]
  },
  {
   "cell_type": "markdown",
   "metadata": {},
   "source": [
    "# Solution"
   ]
  },
  {
   "cell_type": "code",
   "execution_count": 46,
   "metadata": {},
   "outputs": [
    {
     "name": "stdout",
     "output_type": "stream",
     "text": [
      "The eiginvalues and corresponding eigenvectors for A^T A are:\n",
      "[[-0.65 -0.69  0.32]\n",
      " [-0.5   0.08 -0.86]\n",
      " [-0.56  0.72  0.4 ]]\n",
      "\n",
      "The eiginvalues and corresponding eigenvectors for A A^T are:\n",
      "[[ 0.51  0.47 -0.68  0.25 -0.02]\n",
      " [ 0.22  0.37  0.46  0.1  -0.78]\n",
      " [ 0.27 -0.53  0.13  0.79  0.02]\n",
      " [ 0.23 -0.6  -0.39 -0.42 -0.49]\n",
      " [ 0.75 -0.05  0.39 -0.35  0.39]]\n"
     ]
    }
   ],
   "source": [
    "from numpy import array\n",
    "from scipy.linalg import qr, solve\n",
    "\n",
    "AtransposeA = a.T @ a\n",
    "AAtranspose = a @ a.T\n",
    "\n",
    "print(\n",
    "f\"The eiginvalues and corresponding eigenvectors for A^T A are:\\n\\\n",
    "{np.linalg.eig(AtransposeA)[1].round(2)}\\n\\n\\\n",
    "The eiginvalues and corresponding eigenvectors for A A^T are:\\n\\\n",
    "{np.linalg.eig(AAtranspose)[1].round(2)}\")"
   ]
  },
  {
   "cell_type": "markdown",
   "metadata": {},
   "source": [
    "The above method utilizes the numpy libraries to find the eigenvalues and corresponding eigenvectors of $A^TA$ and $AA^T$."
   ]
  },
  {
   "cell_type": "code",
   "execution_count": 47,
   "metadata": {},
   "outputs": [
    {
     "name": "stdout",
     "output_type": "stream",
     "text": [
      "Iteration 1:\n",
      "[[-29.19 -11.37 -18.64 -10.07 -36.18]\n",
      " [  0.    -6.9   -4.64   0.95 -12.53]\n",
      " [  0.     0.   -17.44  13.95  18.6 ]\n",
      " [  0.     0.     0.    -0.    -0.  ]\n",
      " [  0.     0.     0.     0.     0.  ]]\n",
      "\n",
      "\n",
      "Iteration 10:\n",
      "[[-5.476e+01 -4.000e-02  0.000e+00 -0.000e+00  0.000e+00]\n",
      " [ 0.000e+00 -2.695e+01  1.200e-01 -0.000e+00 -0.000e+00]\n",
      " [ 0.000e+00  0.000e+00 -9.290e+00 -0.000e+00  0.000e+00]\n",
      " [ 0.000e+00  0.000e+00  0.000e+00 -0.000e+00  0.000e+00]\n",
      " [ 0.000e+00  0.000e+00  0.000e+00  0.000e+00  0.000e+00]]\n",
      "\n",
      "\n",
      "Iteration 20:\n",
      "[[-54.76  -0.     0.     0.     0.  ]\n",
      " [  0.   -26.95   0.    -0.     0.  ]\n",
      " [  0.     0.    -9.29   0.     0.  ]\n",
      " [  0.     0.     0.     0.     0.  ]\n",
      " [  0.     0.     0.     0.    -0.  ]]\n",
      "\n",
      "\n",
      "Iteration 60:\n",
      "[[-54.76   0.     0.     0.    -0.  ]\n",
      " [  0.   -26.95  -0.     0.    -0.  ]\n",
      " [  0.     0.     9.29   0.     0.  ]\n",
      " [  0.     0.     0.     0.    -0.  ]\n",
      " [  0.     0.     0.     0.    -0.  ]]\n",
      "\n",
      "\n"
     ]
    }
   ],
   "source": [
    "# EigenValues using QR factorization\n",
    "\n",
    "import numpy as np\n",
    "from numpy.linalg import qr\n",
    "\n",
    "# A1 = np.array([[0, 5, 1],\n",
    "#                [1, 5, 2],\n",
    "#                [1, 1, 4]], float)\n",
    "\n",
    "MaxIter = 60; p = [1, 10, 20, MaxIter]\n",
    "#A = A1\n",
    "\n",
    "for i in range(MaxIter):\n",
    "    Q, R = qr(A)\n",
    "    A = R @ Q\n",
    "\n",
    "    if i+1 in p:\n",
    "        print(f\"Iteration {i+1}:\\n{R.round(2)}\\n\\n\")\n",
    "\n",
    "# print(f\"A = \\n{A}\\n\\n\\\n",
    "#     A1 = \\n{A1}\\n\\n\")"
   ]
  },
  {
   "cell_type": "markdown",
   "metadata": {},
   "source": [
    "By 20 iterations, it seems to have converged sufficiently well. Perhaps, the interations are too high."
   ]
  },
  {
   "cell_type": "markdown",
   "metadata": {},
   "source": [
    "# Question 5\n",
    "\n",
    "Find the $QR$ factorization of $A$, $A^TA$, and $AA^T$. Use these factorizations to solve $Ax =b$, $A^TAx = A^Tb$, and $AA^Tx = b$."
   ]
  },
  {
   "cell_type": "markdown",
   "metadata": {},
   "source": [
    "## Solution"
   ]
  },
  {
   "cell_type": "code",
   "execution_count": 64,
   "metadata": {},
   "outputs": [
    {
     "name": "stdout",
     "output_type": "stream",
     "text": [
      "[[ 4.  0.  2.]\n",
      " [ 1.  2.  0.]\n",
      " [ 4.  1. -2.]\n",
      " [ 0.  0.  3.]\n",
      " [ 2.  4.  4.]]\n",
      "\n",
      "[[ 0.]\n",
      " [-1.]\n",
      " [ 2.]\n",
      " [ 0.]\n",
      " [ 0.]]\n",
      "\n",
      "+--------------------------+ \n",
      "|  QR Factorization of A   | \n",
      "+--------------------------+ \n",
      "\n",
      " The original A matrix: \n",
      " [[ 4.  0.  2.]\n",
      " [ 1.  2.  0.]\n",
      " [ 4.  1. -2.]\n",
      " [ 0.  0.  3.]\n",
      " [ 2.  4.  4.]] \n",
      "\n",
      " The QR factorization:\n",
      "\n",
      "Q matrix:\n",
      "[[-0.66  0.38  0.45]\n",
      " [-0.16 -0.41 -0.28]\n",
      " [-0.66  0.13 -0.52]\n",
      " [-0.    0.    0.62]\n",
      " [-0.33 -0.82  0.27]]\n",
      "\n",
      "R matrix:\n",
      "[[-6.08 -2.3  -1.32]\n",
      " [ 0.   -3.96 -2.77]\n",
      " [ 0.    0.    4.86]]\n",
      "\n",
      "Solving for x by using QR x = b:\n",
      "[[ 0.24553344]\n",
      " [-0.06023481]\n",
      " [-0.15518121]]\n",
      "\n",
      "\n",
      "\n",
      "\n",
      "+--------------------------+ \n",
      "| QR Factorization of A^tA | \n",
      "+--------------------------+ \n",
      "\n",
      " The A^T A matrix: \n",
      " [[37. 14.  8.]\n",
      " [14. 21. 14.]\n",
      " [ 8. 14. 33.]] \n",
      "\n",
      " The QR factorization:\n",
      "\n",
      "Q matrix:\n",
      "[[-0.91672945  0.39755381  0.03947262]\n",
      " [-0.3468706  -0.74302954 -0.57235294]\n",
      " [-0.19821177 -0.53838468  0.81905679]]\n",
      "\n",
      "R matrix:\n",
      "[[-40.36087214 -22.8934597  -18.73101249]\n",
      " [  0.         -17.57525257 -24.98867762]\n",
      " [  0.           0.          19.3317139 ]]\n",
      "\n",
      "Solving for x by using QR x = b:\n",
      "[[ 0.24553344]\n",
      " [-0.06023481]\n",
      " [-0.15518121]]\n",
      "\n",
      "+--------------------------+ \n",
      "| QR Factorization of AA^t | \n",
      "+--------------------------+ \n",
      "\n",
      " The A^T A matrix: \n",
      " [[37. 14.  8.]\n",
      " [14. 21. 14.]\n",
      " [ 8. 14. 33.]] \n",
      "\n",
      " The QR factorization:\n",
      "\n",
      "Q matrix:\n",
      "[[-0.69  0.55 -0.1   0.02 -0.47]\n",
      " [-0.14 -0.5  -0.06 -0.75 -0.41]\n",
      " [-0.41 -0.19 -0.71 -0.02  0.53]\n",
      " [-0.21  0.34  0.47 -0.54  0.57]\n",
      " [-0.55 -0.55  0.5   0.38  0.07]]\n",
      "\n",
      "R matrix:\n",
      "[[-29.19 -11.37 -18.64 -10.07 -36.18]\n",
      " [  0.    -6.9   -4.64   0.95 -12.53]\n",
      " [  0.     0.   -17.44  13.95  18.6 ]\n",
      " [  0.     0.     0.    -0.    -0.  ]\n",
      " [  0.     0.     0.     0.     0.  ]]\n",
      "\n",
      "Solving for x by using QR x = b:\n",
      "[[-0.01]\n",
      " [ 0.22]\n",
      " [-0.11]\n",
      " [-0.  ]\n",
      " [ 0.  ]]\n"
     ]
    }
   ],
   "source": [
    "import numpy as np\n",
    "from scipy.linalg import qr\n",
    "from numpy.linalg import solve\n",
    "\n",
    "print(f\"{a}\\n\\n{B}\")\n",
    "print(f\"\\n\\\n",
    "+--------------------------+ \\n\\\n",
    "|  QR Factorization of A   | \\n\\\n",
    "+--------------------------+ \\n\\\n",
    "\")\n",
    "Q, R = qr(a, mode = \"economic\")\n",
    "x = solve(R, Q.T @ B)\n",
    "# Matrix A\n",
    "print(f\" \\\n",
    "The original A matrix: \\n {a} \\n\\n \\\n",
    "The QR factorization:\\n\\n\\\n",
    "Q matrix:\\n{Q.round(2)}\\n\\n\\\n",
    "R matrix:\\n{R.round(2)}\\n\\n\\\n",
    "Solving for x by using QR x = b:\\n\\\n",
    "{x}\\n\\n\\n\")\n",
    "\n",
    "\n",
    "print(f\"\\n\\\n",
    "+--------------------------+ \\n\\\n",
    "| QR Factorization of A^tA | \\n\\\n",
    "+--------------------------+ \\n\\\n",
    "\")\n",
    "\n",
    "\n",
    "Q, R = qr(a.T @ a)\n",
    "# Matrix A^TA\n",
    "print(f\" \\\n",
    "The A^T A matrix: \\n {a.T @ a} \\n\\n \\\n",
    "The QR factorization:\\n\\n\\\n",
    "Q matrix:\\n{Q}\\n\\n\\\n",
    "R matrix:\\n{R}\\n\\n\\\n",
    "Solving for x by using QR x = b:\\n\\\n",
    "{solve(R, Q.T @ a.T @ B)}\")\n",
    "\n",
    "# A = AAtranspose\n",
    "# b = B\n",
    "Q, R = qr(a @ a.T)\n",
    "x = solve (R, Q.T @ B)\n",
    "print(f\"\\n\\\n",
    "+--------------------------+ \\n\\\n",
    "| QR Factorization of AA^t | \\n\\\n",
    "+--------------------------+ \\n\\\n",
    "\")\n",
    "\n",
    "# Matrix AA^T\n",
    "print(f\" \\\n",
    "The A^T A matrix: \\n {A} \\n\\n \\\n",
    "The QR factorization:\\n\\n\\\n",
    "Q matrix:\\n{Q.round(2)}\\n\\n\\\n",
    "R matrix:\\n{R.round(2)}\\n\\n\\\n",
    "Solving for x by using QR x = b:\\n\\\n",
    "{solve(R, B).round(2)}\")"
   ]
  },
  {
   "cell_type": "markdown",
   "metadata": {},
   "source": [
    "These factorizations are quite interesting. I really like the A matrix, and subsequent $Ax = b$, factorizations; unfortunately, the world doesn't usually work so cleanly."
   ]
  }
 ],
 "metadata": {
  "kernelspec": {
   "display_name": "Python 3.10.4 64-bit",
   "language": "python",
   "name": "python3"
  },
  "language_info": {
   "codemirror_mode": {
    "name": "ipython",
    "version": 3
   },
   "file_extension": ".py",
   "mimetype": "text/x-python",
   "name": "python",
   "nbconvert_exporter": "python",
   "pygments_lexer": "ipython3",
   "version": "3.10.4 (v3.10.4:9d38120e33, Mar 23 2022, 17:29:05) [Clang 13.0.0 (clang-1300.0.29.30)]"
  },
  "orig_nbformat": 4,
  "vscode": {
   "interpreter": {
    "hash": "aee8b7b246df8f9039afb4144a1f6fd8d2ca17a180786b69acc140d282b71a49"
   }
  }
 },
 "nbformat": 4,
 "nbformat_minor": 2
}
